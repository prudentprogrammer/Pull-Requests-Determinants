{
 "cells": [
  {
   "cell_type": "markdown",
   "metadata": {},
   "source": [
    "# Part I: Importing Libraries and Data"
   ]
  },
  {
   "cell_type": "code",
   "execution_count": 418,
   "metadata": {
    "collapsed": false
   },
   "outputs": [],
   "source": [
    "import csv\n",
    "import pandas as pd\n",
    "import numpy as np\n",
    "import matplotlib.pyplot as plt\n",
    "# Enable inline plotting\n",
    "%matplotlib inline\n",
    "plt.style.use('ggplot')"
   ]
  },
  {
   "cell_type": "code",
   "execution_count": 451,
   "metadata": {
    "collapsed": false
   },
   "outputs": [],
   "source": [
    "pull_req_data = pd.read_csv('./preprocessed_data_v4.csv')"
   ]
  },
  {
   "cell_type": "code",
   "execution_count": 452,
   "metadata": {
    "collapsed": false
   },
   "outputs": [
    {
     "data": {
      "text/html": [
       "<div>\n",
       "<table border=\"1\" class=\"dataframe\">\n",
       "  <thead>\n",
       "    <tr style=\"text-align: right;\">\n",
       "      <th></th>\n",
       "      <th>slug</th>\n",
       "      <th>gh_team_size</th>\n",
       "      <th>git_num_commits</th>\n",
       "      <th>gh_num_issue_comments</th>\n",
       "      <th>num_commit_comments</th>\n",
       "      <th>pull_req_comments</th>\n",
       "      <th>gh_num_pr_comments</th>\n",
       "      <th>additions</th>\n",
       "      <th>deletions</th>\n",
       "      <th>churn</th>\n",
       "      <th>...</th>\n",
       "      <th>Id</th>\n",
       "      <th>state</th>\n",
       "      <th>merged</th>\n",
       "      <th>merge_commit_sha</th>\n",
       "      <th>delta_mins_merge</th>\n",
       "      <th>delta_mins_close</th>\n",
       "      <th>updated_at</th>\n",
       "      <th>open_issues_count</th>\n",
       "      <th>watchers_count</th>\n",
       "      <th>subscribers_count</th>\n",
       "    </tr>\n",
       "  </thead>\n",
       "  <tbody>\n",
       "    <tr>\n",
       "      <th>0</th>\n",
       "      <td>getnikola/nikola</td>\n",
       "      <td>10</td>\n",
       "      <td>1</td>\n",
       "      <td>1</td>\n",
       "      <td>0</td>\n",
       "      <td>0</td>\n",
       "      <td>0</td>\n",
       "      <td>2</td>\n",
       "      <td>0</td>\n",
       "      <td>2</td>\n",
       "      <td>...</td>\n",
       "      <td>32689</td>\n",
       "      <td>closed</td>\n",
       "      <td>True</td>\n",
       "      <td>2818ec7bb3376eeca9a60c60b9986a183bf65ff9</td>\n",
       "      <td>29.7333</td>\n",
       "      <td>29.7333</td>\n",
       "      <td>2016-01-01</td>\n",
       "      <td>91</td>\n",
       "      <td>1055</td>\n",
       "      <td>73</td>\n",
       "    </tr>\n",
       "    <tr>\n",
       "      <th>1</th>\n",
       "      <td>getnikola/nikola</td>\n",
       "      <td>10</td>\n",
       "      <td>1</td>\n",
       "      <td>2</td>\n",
       "      <td>0</td>\n",
       "      <td>0</td>\n",
       "      <td>0</td>\n",
       "      <td>2</td>\n",
       "      <td>0</td>\n",
       "      <td>2</td>\n",
       "      <td>...</td>\n",
       "      <td>32689</td>\n",
       "      <td>closed</td>\n",
       "      <td>True</td>\n",
       "      <td>2818ec7bb3376eeca9a60c60b9986a183bf65ff9</td>\n",
       "      <td>29.7333</td>\n",
       "      <td>29.7333</td>\n",
       "      <td>2016-01-01</td>\n",
       "      <td>91</td>\n",
       "      <td>1055</td>\n",
       "      <td>73</td>\n",
       "    </tr>\n",
       "    <tr>\n",
       "      <th>2</th>\n",
       "      <td>getnikola/nikola</td>\n",
       "      <td>11</td>\n",
       "      <td>2</td>\n",
       "      <td>0</td>\n",
       "      <td>0</td>\n",
       "      <td>0</td>\n",
       "      <td>0</td>\n",
       "      <td>2</td>\n",
       "      <td>0</td>\n",
       "      <td>2</td>\n",
       "      <td>...</td>\n",
       "      <td>32689</td>\n",
       "      <td>closed</td>\n",
       "      <td>True</td>\n",
       "      <td>2818ec7bb3376eeca9a60c60b9986a183bf65ff9</td>\n",
       "      <td>29.7333</td>\n",
       "      <td>29.7333</td>\n",
       "      <td>2016-01-01</td>\n",
       "      <td>91</td>\n",
       "      <td>1055</td>\n",
       "      <td>73</td>\n",
       "    </tr>\n",
       "    <tr>\n",
       "      <th>3</th>\n",
       "      <td>getnikola/nikola</td>\n",
       "      <td>12</td>\n",
       "      <td>1</td>\n",
       "      <td>0</td>\n",
       "      <td>0</td>\n",
       "      <td>0</td>\n",
       "      <td>0</td>\n",
       "      <td>2</td>\n",
       "      <td>0</td>\n",
       "      <td>2</td>\n",
       "      <td>...</td>\n",
       "      <td>32689</td>\n",
       "      <td>closed</td>\n",
       "      <td>True</td>\n",
       "      <td>2818ec7bb3376eeca9a60c60b9986a183bf65ff9</td>\n",
       "      <td>29.7333</td>\n",
       "      <td>29.7333</td>\n",
       "      <td>2016-01-01</td>\n",
       "      <td>91</td>\n",
       "      <td>1055</td>\n",
       "      <td>73</td>\n",
       "    </tr>\n",
       "    <tr>\n",
       "      <th>4</th>\n",
       "      <td>getnikola/nikola</td>\n",
       "      <td>12</td>\n",
       "      <td>1</td>\n",
       "      <td>2</td>\n",
       "      <td>0</td>\n",
       "      <td>0</td>\n",
       "      <td>0</td>\n",
       "      <td>2</td>\n",
       "      <td>0</td>\n",
       "      <td>2</td>\n",
       "      <td>...</td>\n",
       "      <td>32689</td>\n",
       "      <td>closed</td>\n",
       "      <td>True</td>\n",
       "      <td>2818ec7bb3376eeca9a60c60b9986a183bf65ff9</td>\n",
       "      <td>29.7333</td>\n",
       "      <td>29.7333</td>\n",
       "      <td>2016-01-01</td>\n",
       "      <td>91</td>\n",
       "      <td>1055</td>\n",
       "      <td>73</td>\n",
       "    </tr>\n",
       "    <tr>\n",
       "      <th>5</th>\n",
       "      <td>getnikola/nikola</td>\n",
       "      <td>37</td>\n",
       "      <td>6</td>\n",
       "      <td>1</td>\n",
       "      <td>0</td>\n",
       "      <td>0</td>\n",
       "      <td>0</td>\n",
       "      <td>2</td>\n",
       "      <td>0</td>\n",
       "      <td>2</td>\n",
       "      <td>...</td>\n",
       "      <td>32689</td>\n",
       "      <td>closed</td>\n",
       "      <td>True</td>\n",
       "      <td>2818ec7bb3376eeca9a60c60b9986a183bf65ff9</td>\n",
       "      <td>29.7333</td>\n",
       "      <td>29.7333</td>\n",
       "      <td>2016-01-01</td>\n",
       "      <td>91</td>\n",
       "      <td>1055</td>\n",
       "      <td>73</td>\n",
       "    </tr>\n",
       "    <tr>\n",
       "      <th>6</th>\n",
       "      <td>getnikola/nikola</td>\n",
       "      <td>46</td>\n",
       "      <td>1</td>\n",
       "      <td>0</td>\n",
       "      <td>0</td>\n",
       "      <td>0</td>\n",
       "      <td>0</td>\n",
       "      <td>2</td>\n",
       "      <td>0</td>\n",
       "      <td>2</td>\n",
       "      <td>...</td>\n",
       "      <td>32689</td>\n",
       "      <td>closed</td>\n",
       "      <td>True</td>\n",
       "      <td>2818ec7bb3376eeca9a60c60b9986a183bf65ff9</td>\n",
       "      <td>29.7333</td>\n",
       "      <td>29.7333</td>\n",
       "      <td>2016-01-01</td>\n",
       "      <td>91</td>\n",
       "      <td>1055</td>\n",
       "      <td>73</td>\n",
       "    </tr>\n",
       "    <tr>\n",
       "      <th>7</th>\n",
       "      <td>getnikola/nikola</td>\n",
       "      <td>81</td>\n",
       "      <td>1</td>\n",
       "      <td>0</td>\n",
       "      <td>0</td>\n",
       "      <td>0</td>\n",
       "      <td>0</td>\n",
       "      <td>2</td>\n",
       "      <td>0</td>\n",
       "      <td>2</td>\n",
       "      <td>...</td>\n",
       "      <td>32689</td>\n",
       "      <td>closed</td>\n",
       "      <td>True</td>\n",
       "      <td>2818ec7bb3376eeca9a60c60b9986a183bf65ff9</td>\n",
       "      <td>29.7333</td>\n",
       "      <td>29.7333</td>\n",
       "      <td>2016-01-01</td>\n",
       "      <td>91</td>\n",
       "      <td>1055</td>\n",
       "      <td>73</td>\n",
       "    </tr>\n",
       "    <tr>\n",
       "      <th>8</th>\n",
       "      <td>magnumripper/JohnTheRipper</td>\n",
       "      <td>8</td>\n",
       "      <td>1</td>\n",
       "      <td>0</td>\n",
       "      <td>5</td>\n",
       "      <td>0</td>\n",
       "      <td>0</td>\n",
       "      <td>22</td>\n",
       "      <td>18</td>\n",
       "      <td>40</td>\n",
       "      <td>...</td>\n",
       "      <td>31939</td>\n",
       "      <td>closed</td>\n",
       "      <td>False</td>\n",
       "      <td>0f78ca884776a6d1b7c2beb9a2116c5511379eef</td>\n",
       "      <td>-1.0000</td>\n",
       "      <td>143.9330</td>\n",
       "      <td>2016-01-01</td>\n",
       "      <td>211</td>\n",
       "      <td>651</td>\n",
       "      <td>78</td>\n",
       "    </tr>\n",
       "    <tr>\n",
       "      <th>9</th>\n",
       "      <td>magnumripper/JohnTheRipper</td>\n",
       "      <td>16</td>\n",
       "      <td>1</td>\n",
       "      <td>2</td>\n",
       "      <td>5</td>\n",
       "      <td>0</td>\n",
       "      <td>0</td>\n",
       "      <td>22</td>\n",
       "      <td>18</td>\n",
       "      <td>40</td>\n",
       "      <td>...</td>\n",
       "      <td>31939</td>\n",
       "      <td>closed</td>\n",
       "      <td>False</td>\n",
       "      <td>0f78ca884776a6d1b7c2beb9a2116c5511379eef</td>\n",
       "      <td>-1.0000</td>\n",
       "      <td>143.9330</td>\n",
       "      <td>2016-01-01</td>\n",
       "      <td>211</td>\n",
       "      <td>651</td>\n",
       "      <td>78</td>\n",
       "    </tr>\n",
       "  </tbody>\n",
       "</table>\n",
       "<p>10 rows × 40 columns</p>\n",
       "</div>"
      ],
      "text/plain": [
       "                         slug  gh_team_size  git_num_commits  \\\n",
       "0            getnikola/nikola            10                1   \n",
       "1            getnikola/nikola            10                1   \n",
       "2            getnikola/nikola            11                2   \n",
       "3            getnikola/nikola            12                1   \n",
       "4            getnikola/nikola            12                1   \n",
       "5            getnikola/nikola            37                6   \n",
       "6            getnikola/nikola            46                1   \n",
       "7            getnikola/nikola            81                1   \n",
       "8  magnumripper/JohnTheRipper             8                1   \n",
       "9  magnumripper/JohnTheRipper            16                1   \n",
       "\n",
       "   gh_num_issue_comments  num_commit_comments  pull_req_comments  \\\n",
       "0                      1                    0                  0   \n",
       "1                      2                    0                  0   \n",
       "2                      0                    0                  0   \n",
       "3                      0                    0                  0   \n",
       "4                      2                    0                  0   \n",
       "5                      1                    0                  0   \n",
       "6                      0                    0                  0   \n",
       "7                      0                    0                  0   \n",
       "8                      0                    5                  0   \n",
       "9                      2                    5                  0   \n",
       "\n",
       "   gh_num_pr_comments  additions  deletions  churn        ...             Id  \\\n",
       "0                   0          2          0      2        ...          32689   \n",
       "1                   0          2          0      2        ...          32689   \n",
       "2                   0          2          0      2        ...          32689   \n",
       "3                   0          2          0      2        ...          32689   \n",
       "4                   0          2          0      2        ...          32689   \n",
       "5                   0          2          0      2        ...          32689   \n",
       "6                   0          2          0      2        ...          32689   \n",
       "7                   0          2          0      2        ...          32689   \n",
       "8                   0         22         18     40        ...          31939   \n",
       "9                   0         22         18     40        ...          31939   \n",
       "\n",
       "    state  merged                          merge_commit_sha  delta_mins_merge  \\\n",
       "0  closed    True  2818ec7bb3376eeca9a60c60b9986a183bf65ff9           29.7333   \n",
       "1  closed    True  2818ec7bb3376eeca9a60c60b9986a183bf65ff9           29.7333   \n",
       "2  closed    True  2818ec7bb3376eeca9a60c60b9986a183bf65ff9           29.7333   \n",
       "3  closed    True  2818ec7bb3376eeca9a60c60b9986a183bf65ff9           29.7333   \n",
       "4  closed    True  2818ec7bb3376eeca9a60c60b9986a183bf65ff9           29.7333   \n",
       "5  closed    True  2818ec7bb3376eeca9a60c60b9986a183bf65ff9           29.7333   \n",
       "6  closed    True  2818ec7bb3376eeca9a60c60b9986a183bf65ff9           29.7333   \n",
       "7  closed    True  2818ec7bb3376eeca9a60c60b9986a183bf65ff9           29.7333   \n",
       "8  closed   False  0f78ca884776a6d1b7c2beb9a2116c5511379eef           -1.0000   \n",
       "9  closed   False  0f78ca884776a6d1b7c2beb9a2116c5511379eef           -1.0000   \n",
       "\n",
       "   delta_mins_close  updated_at  open_issues_count  watchers_count  \\\n",
       "0           29.7333  2016-01-01                 91            1055   \n",
       "1           29.7333  2016-01-01                 91            1055   \n",
       "2           29.7333  2016-01-01                 91            1055   \n",
       "3           29.7333  2016-01-01                 91            1055   \n",
       "4           29.7333  2016-01-01                 91            1055   \n",
       "5           29.7333  2016-01-01                 91            1055   \n",
       "6           29.7333  2016-01-01                 91            1055   \n",
       "7           29.7333  2016-01-01                 91            1055   \n",
       "8          143.9330  2016-01-01                211             651   \n",
       "9          143.9330  2016-01-01                211             651   \n",
       "\n",
       "   subscribers_count  \n",
       "0                 73  \n",
       "1                 73  \n",
       "2                 73  \n",
       "3                 73  \n",
       "4                 73  \n",
       "5                 73  \n",
       "6                 73  \n",
       "7                 73  \n",
       "8                 78  \n",
       "9                 78  \n",
       "\n",
       "[10 rows x 40 columns]"
      ]
     },
     "execution_count": 452,
     "metadata": {},
     "output_type": "execute_result"
    }
   ],
   "source": [
    "pull_req_data.head(n=10)"
   ]
  },
  {
   "cell_type": "code",
   "execution_count": 453,
   "metadata": {
    "collapsed": false
   },
   "outputs": [
    {
     "name": "stdout",
     "output_type": "stream",
     "text": [
      "<class 'pandas.core.frame.DataFrame'>\n",
      "Int64Index: 36660 entries, 0 to 36659\n",
      "Data columns (total 40 columns):\n",
      "slug                           36660 non-null object\n",
      "gh_team_size                   36660 non-null int64\n",
      "git_num_commits                36660 non-null int64\n",
      "gh_num_issue_comments          36660 non-null int64\n",
      "num_commit_comments            36660 non-null int64\n",
      "pull_req_comments              36660 non-null int64\n",
      "gh_num_pr_comments             36660 non-null int64\n",
      "additions                      36660 non-null int64\n",
      "deletions                      36660 non-null int64\n",
      "churn                          36660 non-null int64\n",
      "changed_files                  36660 non-null int64\n",
      "gh_src_churn                   36660 non-null int64\n",
      "gh_test_churn                  36660 non-null int64\n",
      "gh_files_added                 36660 non-null int64\n",
      "gh_files_deleted               36660 non-null int64\n",
      "gh_files_modified              36660 non-null int64\n",
      "gh_tests_added                 36660 non-null int64\n",
      "gh_tests_deleted               36660 non-null int64\n",
      "gh_src_files                   36660 non-null int64\n",
      "gh_doc_files                   36660 non-null int64\n",
      "gh_other_files                 36660 non-null int64\n",
      "gh_commits_on_files_touched    36660 non-null int64\n",
      "gh_sloc                        36660 non-null int64\n",
      "gh_test_lines_per_kloc         36660 non-null float64\n",
      "gh_test_cases_per_kloc         36660 non-null float64\n",
      "gh_asserts_cases_per_kloc      36660 non-null float64\n",
      "gh_by_core_team_member         36660 non-null int64\n",
      "title_len                      36660 non-null int64\n",
      "desc_len                       36660 non-null int64\n",
      "git_num_committers             36660 non-null int64\n",
      "Id                             36660 non-null int64\n",
      "state                          36660 non-null object\n",
      "merged                         36660 non-null bool\n",
      "merge_commit_sha               36515 non-null object\n",
      "delta_mins_merge               36660 non-null float64\n",
      "delta_mins_close               36660 non-null float64\n",
      "updated_at                     36660 non-null object\n",
      "open_issues_count              36660 non-null int64\n",
      "watchers_count                 36660 non-null int64\n",
      "subscribers_count              36660 non-null int64\n",
      "dtypes: bool(1), float64(5), int64(30), object(4)\n",
      "memory usage: 11.2+ MB\n"
     ]
    }
   ],
   "source": [
    "pull_req_data.info()"
   ]
  },
  {
   "cell_type": "code",
   "execution_count": 454,
   "metadata": {
    "collapsed": false
   },
   "outputs": [
    {
     "data": {
      "text/plain": [
       "(36660, 40)"
      ]
     },
     "execution_count": 454,
     "metadata": {},
     "output_type": "execute_result"
    }
   ],
   "source": [
    "pull_req_data.shape"
   ]
  },
  {
   "cell_type": "code",
   "execution_count": 455,
   "metadata": {
    "collapsed": false
   },
   "outputs": [],
   "source": [
    "pull_req_data['updated_at'] = pd.to_datetime(pull_req_data['updated_at'])\n",
    "pull_req_data = pull_req_data.sort_values(by='updated_at')"
   ]
  },
  {
   "cell_type": "markdown",
   "metadata": {},
   "source": [
    "# Part II: Basic Statistics"
   ]
  },
  {
   "cell_type": "code",
   "execution_count": 456,
   "metadata": {
    "collapsed": false
   },
   "outputs": [
    {
     "data": {
      "text/html": [
       "<div>\n",
       "<table border=\"1\" class=\"dataframe\">\n",
       "  <thead>\n",
       "    <tr style=\"text-align: right;\">\n",
       "      <th></th>\n",
       "      <th>gh_team_size</th>\n",
       "      <th>git_num_commits</th>\n",
       "      <th>gh_num_issue_comments</th>\n",
       "      <th>num_commit_comments</th>\n",
       "      <th>pull_req_comments</th>\n",
       "      <th>gh_num_pr_comments</th>\n",
       "      <th>additions</th>\n",
       "      <th>deletions</th>\n",
       "      <th>churn</th>\n",
       "      <th>changed_files</th>\n",
       "      <th>...</th>\n",
       "      <th>title_len</th>\n",
       "      <th>desc_len</th>\n",
       "      <th>git_num_committers</th>\n",
       "      <th>Id</th>\n",
       "      <th>merged</th>\n",
       "      <th>delta_mins_merge</th>\n",
       "      <th>delta_mins_close</th>\n",
       "      <th>open_issues_count</th>\n",
       "      <th>watchers_count</th>\n",
       "      <th>subscribers_count</th>\n",
       "    </tr>\n",
       "  </thead>\n",
       "  <tbody>\n",
       "    <tr>\n",
       "      <th>count</th>\n",
       "      <td>36660.000000</td>\n",
       "      <td>36660.000000</td>\n",
       "      <td>36660.000000</td>\n",
       "      <td>36660.000000</td>\n",
       "      <td>36660.000000</td>\n",
       "      <td>36660.000000</td>\n",
       "      <td>36660.000000</td>\n",
       "      <td>36660.000000</td>\n",
       "      <td>36660.000000</td>\n",
       "      <td>36660.000000</td>\n",
       "      <td>...</td>\n",
       "      <td>36660.000000</td>\n",
       "      <td>36660.000000</td>\n",
       "      <td>36660.000000</td>\n",
       "      <td>36660.000000</td>\n",
       "      <td>36660</td>\n",
       "      <td>36660.000000</td>\n",
       "      <td>36660.000000</td>\n",
       "      <td>36660.000000</td>\n",
       "      <td>36660.000000</td>\n",
       "      <td>36660.000000</td>\n",
       "    </tr>\n",
       "    <tr>\n",
       "      <th>mean</th>\n",
       "      <td>25.192908</td>\n",
       "      <td>1.717976</td>\n",
       "      <td>0.725041</td>\n",
       "      <td>3.349864</td>\n",
       "      <td>1.282051</td>\n",
       "      <td>0.658347</td>\n",
       "      <td>349.096154</td>\n",
       "      <td>196.929542</td>\n",
       "      <td>546.025696</td>\n",
       "      <td>16.103737</td>\n",
       "      <td>...</td>\n",
       "      <td>41.748472</td>\n",
       "      <td>283.264239</td>\n",
       "      <td>1.166585</td>\n",
       "      <td>42127.901118</td>\n",
       "      <td>0.698718</td>\n",
       "      <td>376.898921</td>\n",
       "      <td>491.228152</td>\n",
       "      <td>240.539798</td>\n",
       "      <td>1321.610229</td>\n",
       "      <td>112.099127</td>\n",
       "    </tr>\n",
       "    <tr>\n",
       "      <th>std</th>\n",
       "      <td>18.414175</td>\n",
       "      <td>2.986504</td>\n",
       "      <td>1.929302</td>\n",
       "      <td>6.354453</td>\n",
       "      <td>6.137098</td>\n",
       "      <td>5.808495</td>\n",
       "      <td>2142.993608</td>\n",
       "      <td>1926.907100</td>\n",
       "      <td>3776.365728</td>\n",
       "      <td>132.722241</td>\n",
       "      <td>...</td>\n",
       "      <td>18.473127</td>\n",
       "      <td>626.966244</td>\n",
       "      <td>0.398094</td>\n",
       "      <td>22269.705614</td>\n",
       "      <td>0.458821</td>\n",
       "      <td>473.073473</td>\n",
       "      <td>487.147591</td>\n",
       "      <td>198.522400</td>\n",
       "      <td>1460.249673</td>\n",
       "      <td>98.744949</td>\n",
       "    </tr>\n",
       "    <tr>\n",
       "      <th>min</th>\n",
       "      <td>1.000000</td>\n",
       "      <td>1.000000</td>\n",
       "      <td>0.000000</td>\n",
       "      <td>0.000000</td>\n",
       "      <td>0.000000</td>\n",
       "      <td>0.000000</td>\n",
       "      <td>0.000000</td>\n",
       "      <td>0.000000</td>\n",
       "      <td>0.000000</td>\n",
       "      <td>0.000000</td>\n",
       "      <td>...</td>\n",
       "      <td>2.000000</td>\n",
       "      <td>0.000000</td>\n",
       "      <td>0.000000</td>\n",
       "      <td>1.000000</td>\n",
       "      <td>False</td>\n",
       "      <td>-1.000000</td>\n",
       "      <td>-1.000000</td>\n",
       "      <td>17.000000</td>\n",
       "      <td>7.000000</td>\n",
       "      <td>13.000000</td>\n",
       "    </tr>\n",
       "    <tr>\n",
       "      <th>25%</th>\n",
       "      <td>10.000000</td>\n",
       "      <td>1.000000</td>\n",
       "      <td>0.000000</td>\n",
       "      <td>0.000000</td>\n",
       "      <td>0.000000</td>\n",
       "      <td>0.000000</td>\n",
       "      <td>4.000000</td>\n",
       "      <td>1.000000</td>\n",
       "      <td>7.000000</td>\n",
       "      <td>1.000000</td>\n",
       "      <td>...</td>\n",
       "      <td>27.000000</td>\n",
       "      <td>15.000000</td>\n",
       "      <td>1.000000</td>\n",
       "      <td>31198.000000</td>\n",
       "      <td>0</td>\n",
       "      <td>-1.000000</td>\n",
       "      <td>40.800000</td>\n",
       "      <td>99.000000</td>\n",
       "      <td>212.000000</td>\n",
       "      <td>48.000000</td>\n",
       "    </tr>\n",
       "    <tr>\n",
       "      <th>50%</th>\n",
       "      <td>20.000000</td>\n",
       "      <td>1.000000</td>\n",
       "      <td>0.000000</td>\n",
       "      <td>1.000000</td>\n",
       "      <td>0.000000</td>\n",
       "      <td>0.000000</td>\n",
       "      <td>20.000000</td>\n",
       "      <td>4.000000</td>\n",
       "      <td>28.000000</td>\n",
       "      <td>2.000000</td>\n",
       "      <td>...</td>\n",
       "      <td>40.000000</td>\n",
       "      <td>101.000000</td>\n",
       "      <td>1.000000</td>\n",
       "      <td>38912.000000</td>\n",
       "      <td>1</td>\n",
       "      <td>109.617000</td>\n",
       "      <td>302.367000</td>\n",
       "      <td>171.000000</td>\n",
       "      <td>767.000000</td>\n",
       "      <td>85.000000</td>\n",
       "    </tr>\n",
       "    <tr>\n",
       "      <th>75%</th>\n",
       "      <td>39.000000</td>\n",
       "      <td>1.000000</td>\n",
       "      <td>1.000000</td>\n",
       "      <td>4.000000</td>\n",
       "      <td>0.000000</td>\n",
       "      <td>0.000000</td>\n",
       "      <td>94.000000</td>\n",
       "      <td>22.000000</td>\n",
       "      <td>133.000000</td>\n",
       "      <td>5.000000</td>\n",
       "      <td>...</td>\n",
       "      <td>54.000000</td>\n",
       "      <td>292.000000</td>\n",
       "      <td>1.000000</td>\n",
       "      <td>59254.000000</td>\n",
       "      <td>1</td>\n",
       "      <td>747.167000</td>\n",
       "      <td>938.100000</td>\n",
       "      <td>324.000000</td>\n",
       "      <td>2217.000000</td>\n",
       "      <td>138.000000</td>\n",
       "    </tr>\n",
       "    <tr>\n",
       "      <th>max</th>\n",
       "      <td>89.000000</td>\n",
       "      <td>151.000000</td>\n",
       "      <td>39.000000</td>\n",
       "      <td>136.000000</td>\n",
       "      <td>327.000000</td>\n",
       "      <td>661.000000</td>\n",
       "      <td>116015.000000</td>\n",
       "      <td>43469.000000</td>\n",
       "      <td>159484.000000</td>\n",
       "      <td>2573.000000</td>\n",
       "      <td>...</td>\n",
       "      <td>180.000000</td>\n",
       "      <td>12687.000000</td>\n",
       "      <td>6.000000</td>\n",
       "      <td>81785.000000</td>\n",
       "      <td>True</td>\n",
       "      <td>1439.200000</td>\n",
       "      <td>1439.200000</td>\n",
       "      <td>1818.000000</td>\n",
       "      <td>20119.000000</td>\n",
       "      <td>1033.000000</td>\n",
       "    </tr>\n",
       "  </tbody>\n",
       "</table>\n",
       "<p>8 rows × 36 columns</p>\n",
       "</div>"
      ],
      "text/plain": [
       "       gh_team_size  git_num_commits  gh_num_issue_comments  \\\n",
       "count  36660.000000     36660.000000           36660.000000   \n",
       "mean      25.192908         1.717976               0.725041   \n",
       "std       18.414175         2.986504               1.929302   \n",
       "min        1.000000         1.000000               0.000000   \n",
       "25%       10.000000         1.000000               0.000000   \n",
       "50%       20.000000         1.000000               0.000000   \n",
       "75%       39.000000         1.000000               1.000000   \n",
       "max       89.000000       151.000000              39.000000   \n",
       "\n",
       "       num_commit_comments  pull_req_comments  gh_num_pr_comments  \\\n",
       "count         36660.000000       36660.000000        36660.000000   \n",
       "mean              3.349864           1.282051            0.658347   \n",
       "std               6.354453           6.137098            5.808495   \n",
       "min               0.000000           0.000000            0.000000   \n",
       "25%               0.000000           0.000000            0.000000   \n",
       "50%               1.000000           0.000000            0.000000   \n",
       "75%               4.000000           0.000000            0.000000   \n",
       "max             136.000000         327.000000          661.000000   \n",
       "\n",
       "           additions     deletions          churn  changed_files  \\\n",
       "count   36660.000000  36660.000000   36660.000000   36660.000000   \n",
       "mean      349.096154    196.929542     546.025696      16.103737   \n",
       "std      2142.993608   1926.907100    3776.365728     132.722241   \n",
       "min         0.000000      0.000000       0.000000       0.000000   \n",
       "25%         4.000000      1.000000       7.000000       1.000000   \n",
       "50%        20.000000      4.000000      28.000000       2.000000   \n",
       "75%        94.000000     22.000000     133.000000       5.000000   \n",
       "max    116015.000000  43469.000000  159484.000000    2573.000000   \n",
       "\n",
       "             ...             title_len      desc_len  git_num_committers  \\\n",
       "count        ...          36660.000000  36660.000000        36660.000000   \n",
       "mean         ...             41.748472    283.264239            1.166585   \n",
       "std          ...             18.473127    626.966244            0.398094   \n",
       "min          ...              2.000000      0.000000            0.000000   \n",
       "25%          ...             27.000000     15.000000            1.000000   \n",
       "50%          ...             40.000000    101.000000            1.000000   \n",
       "75%          ...             54.000000    292.000000            1.000000   \n",
       "max          ...            180.000000  12687.000000            6.000000   \n",
       "\n",
       "                 Id    merged  delta_mins_merge  delta_mins_close  \\\n",
       "count  36660.000000     36660      36660.000000      36660.000000   \n",
       "mean   42127.901118  0.698718        376.898921        491.228152   \n",
       "std    22269.705614  0.458821        473.073473        487.147591   \n",
       "min        1.000000     False         -1.000000         -1.000000   \n",
       "25%    31198.000000         0         -1.000000         40.800000   \n",
       "50%    38912.000000         1        109.617000        302.367000   \n",
       "75%    59254.000000         1        747.167000        938.100000   \n",
       "max    81785.000000      True       1439.200000       1439.200000   \n",
       "\n",
       "       open_issues_count  watchers_count  subscribers_count  \n",
       "count       36660.000000    36660.000000       36660.000000  \n",
       "mean          240.539798     1321.610229         112.099127  \n",
       "std           198.522400     1460.249673          98.744949  \n",
       "min            17.000000        7.000000          13.000000  \n",
       "25%            99.000000      212.000000          48.000000  \n",
       "50%           171.000000      767.000000          85.000000  \n",
       "75%           324.000000     2217.000000         138.000000  \n",
       "max          1818.000000    20119.000000        1033.000000  \n",
       "\n",
       "[8 rows x 36 columns]"
      ]
     },
     "execution_count": 456,
     "metadata": {},
     "output_type": "execute_result"
    }
   ],
   "source": [
    "pull_req_data.describe()"
   ]
  },
  {
   "cell_type": "code",
   "execution_count": 457,
   "metadata": {
    "collapsed": false
   },
   "outputs": [
    {
     "name": "stdout",
     "output_type": "stream",
     "text": [
      "Total pull requests in our given data =  36660\n",
      "Accepted pull requests =  25615\n",
      "Percentage of Accepted pull requests = 69.87\n"
     ]
    }
   ],
   "source": [
    "total_pull_req = len(pull_req_data)\n",
    "pull_reqs_accepted = len(pull_req_data[pull_req_data[\"merged\"] == True])\n",
    "print 'Total pull requests in our given data = ', total_pull_req\n",
    "print 'Accepted pull requests = ', pull_reqs_accepted\n",
    "print 'Percentage of Accepted pull requests = %.2f' % ((float(pull_reqs_accepted)/float(total_pull_req)) * 100)\n",
    "#perc_accepted = len(pulllen(pull_req_data[pull_req_data[\"merged\"] == True])"
   ]
  },
  {
   "cell_type": "markdown",
   "metadata": {},
   "source": [
    "# Preprocessing (Split Target Feature and Columns)"
   ]
  },
  {
   "cell_type": "code",
   "execution_count": 458,
   "metadata": {
    "collapsed": true
   },
   "outputs": [],
   "source": [
    "def convertToNonNegatives(x):\n",
    "    return round(x, -1)"
   ]
  },
  {
   "cell_type": "code",
   "execution_count": 459,
   "metadata": {
    "collapsed": false
   },
   "outputs": [],
   "source": [
    "pull_req_data['delta_mins_merge'] = pull_req_data['delta_mins_merge'].apply(convertToNonNegatives)\n",
    "pull_req_data['delta_mins_close'] = pull_req_data['delta_mins_close'].apply(convertToNonNegatives)"
   ]
  },
  {
   "cell_type": "code",
   "execution_count": 460,
   "metadata": {
    "collapsed": false
   },
   "outputs": [
    {
     "data": {
      "text/plain": [
       "count    36660.000000\n",
       "mean       377.166394\n",
       "std        472.785774\n",
       "min         -0.000000\n",
       "25%         -0.000000\n",
       "50%        110.000000\n",
       "75%        750.000000\n",
       "max       1440.000000\n",
       "Name: delta_mins_merge, dtype: float64"
      ]
     },
     "execution_count": 460,
     "metadata": {},
     "output_type": "execute_result"
    }
   ],
   "source": [
    "pull_req_data['delta_mins_merge'].describe()"
   ]
  },
  {
   "cell_type": "code",
   "execution_count": 461,
   "metadata": {
    "collapsed": false
   },
   "outputs": [
    {
     "data": {
      "text/plain": [
       "array([1, 0, 1, ..., 0, 0, 0])"
      ]
     },
     "execution_count": 461,
     "metadata": {},
     "output_type": "execute_result"
    }
   ],
   "source": [
    "# This will be our target variable\n",
    "Y = np.array(pull_req_data['merged'].apply(int))\n",
    "Y\n",
    "#dropped_features = pull_req_data.drop(['Id', 'state', 'merged', 'merge_commit_sha'], axis=1)\n",
    "#dropped_features"
   ]
  },
  {
   "cell_type": "code",
   "execution_count": 462,
   "metadata": {
    "collapsed": false
   },
   "outputs": [
    {
     "data": {
      "text/plain": [
       "(36660, 32)"
      ]
     },
     "execution_count": 462,
     "metadata": {},
     "output_type": "execute_result"
    }
   ],
   "source": [
    "# Drop these features because they are redundant / we dont need to feed them in the ML model\n",
    "# Note here:- We are removing delta_mins_merge and delta_mins_close because from the user's perspective\n",
    "# They are not controllable\n",
    "dropped_features = pull_req_data.drop(['updated_at', 'delta_mins_merge', 'delta_mins_close', 'slug', 'Id', 'state', 'merged', 'merge_commit_sha'], axis=1)\n",
    "X = dropped_features.as_matrix().astype(np.float)\n",
    "X.shape"
   ]
  },
  {
   "cell_type": "code",
   "execution_count": 463,
   "metadata": {
    "collapsed": false
   },
   "outputs": [
    {
     "name": "stdout",
     "output_type": "stream",
     "text": [
      "Index([u'gh_team_size', u'git_num_commits', u'gh_num_issue_comments',\n",
      "       u'num_commit_comments', u'pull_req_comments', u'gh_num_pr_comments',\n",
      "       u'additions', u'deletions', u'churn', u'changed_files', u'gh_src_churn',\n",
      "       u'gh_test_churn', u'gh_files_added', u'gh_files_deleted',\n",
      "       u'gh_files_modified', u'gh_tests_added', u'gh_tests_deleted',\n",
      "       u'gh_src_files', u'gh_doc_files', u'gh_other_files',\n",
      "       u'gh_commits_on_files_touched', u'gh_sloc', u'gh_test_lines_per_kloc',\n",
      "       u'gh_test_cases_per_kloc', u'gh_asserts_cases_per_kloc',\n",
      "       u'gh_by_core_team_member', u'title_len', u'desc_len',\n",
      "       u'git_num_committers', u'open_issues_count', u'watchers_count',\n",
      "       u'subscribers_count'],\n",
      "      dtype='object')\n"
     ]
    }
   ],
   "source": [
    "features = dropped_features.columns\n",
    "pprint.pprint(features)"
   ]
  },
  {
   "cell_type": "markdown",
   "metadata": {},
   "source": [
    "# Merge time statistics"
   ]
  },
  {
   "cell_type": "code",
   "execution_count": 464,
   "metadata": {
    "collapsed": false
   },
   "outputs": [
    {
     "data": {
      "image/png": "[encoded data removed]",
      "text/plain": [
       "<matplotlib.figure.Figure at 0x11893a450>"
      ]
     },
     "metadata": {},
     "output_type": "display_data"
    }
   ],
   "source": [
    "plt.rcParams[\"figure.figsize\"] = [6, 6]\n",
    "data_to_graph = (pull_req_data[pull_req_data['delta_mins_merge'] != 0])['delta_mins_merge']\n",
    "plt.hist(data_to_graph, bins=50)\n",
    "plt.title(\"Mins to Merge vs Counts\")\n",
    "plt.xlabel(\"Mins to Merge\")\n",
    "plt.ylabel(\"Number of pull requests\")\n",
    "plt.show()"
   ]
  },
  {
   "cell_type": "code",
   "execution_count": 465,
   "metadata": {
    "collapsed": false
   },
   "outputs": [
    {
     "name": "stdout",
     "output_type": "stream",
     "text": [
      "13096\n",
      "24579\n",
      "perc = 0.53\n"
     ]
    }
   ],
   "source": [
    "total_true_pull = len(pull_req_data[pull_req_data['delta_mins_merge'] != 0]['delta_mins_merge'])\n",
    "accepted = pull_req_data[pull_req_data['delta_mins_merge'] != 0]['delta_mins_merge']\n",
    "less_than_8 = len(accepted[accepted <= 480])\n",
    "#percentage = (total_pull_req) / less_than_8\n",
    "#print 'perce = %.2f' % percentage\n",
    "print less_than_8\n",
    "print total_true_pull\n",
    "print 'perc = %.2f' % (float(less_than_8) / total_true_pull)"
   ]
  },
  {
   "cell_type": "code",
   "execution_count": 466,
   "metadata": {
    "collapsed": false
   },
   "outputs": [
    {
     "data": {
      "image/png": "[encoded data removed]",
      "text/plain": [
       "<matplotlib.figure.Figure at 0x1cef928d0>"
      ]
     },
     "metadata": {},
     "output_type": "display_data"
    }
   ],
   "source": [
    "#data_to_graph\n",
    "bp = plt.boxplot(np.array(data_to_graph))\n",
    "#bp['boxes'].set( color='#7570b3', linewidth=2)\n",
    "#bp['boxes'].set( facecolor = '#1b9e77' )\n",
    "#bp.show()\n",
    "#bp['boxes']\n",
    "plt.setp(bp['boxes'], color='Blue', linewidth=2)\n",
    "plt.show()"
   ]
  },
  {
   "cell_type": "code",
   "execution_count": 444,
   "metadata": {
    "collapsed": false
   },
   "outputs": [
    {
     "data": {
      "text/plain": [
       "count    24579.000000\n",
       "mean       562.550144\n",
       "std        478.650198\n",
       "min         10.000000\n",
       "25%        110.000000\n",
       "50%        410.000000\n",
       "75%       1000.000000\n",
       "max       1440.000000\n",
       "Name: delta_mins_merge, dtype: float64"
      ]
     },
     "execution_count": 444,
     "metadata": {},
     "output_type": "execute_result"
    }
   ],
   "source": [
    "data_to_graph.describe()"
   ]
  },
  {
   "cell_type": "markdown",
   "metadata": {},
   "source": [
    "# Part III: Feature Selection"
   ]
  },
  {
   "cell_type": "code",
   "execution_count": 467,
   "metadata": {
    "collapsed": true
   },
   "outputs": [],
   "source": [
    "from sklearn.feature_selection import VarianceThreshold\n",
    "from sklearn.feature_selection import SelectKBest\n",
    "from sklearn.feature_selection import chi2\n",
    "from sklearn.linear_model import LogisticRegression\n",
    "from sklearn.feature_selection import RFE\n",
    "from sklearn import datasets\n",
    "from sklearn import metrics\n",
    "from sklearn.datasets import make_classification\n",
    "from sklearn.ensemble import ExtraTreesClassifier\n",
    "from sklearn.ensemble import RandomForestRegressor\n",
    "from sklearn.cross_validation import cross_val_score, ShuffleSplit\n",
    "import pprint"
   ]
  },
  {
   "cell_type": "markdown",
   "metadata": {},
   "source": [
    "# Trees Ensemble Feature Selection"
   ]
  },
  {
   "cell_type": "code",
   "execution_count": 468,
   "metadata": {
    "collapsed": false
   },
   "outputs": [
    {
     "name": "stdout",
     "output_type": "stream",
     "text": [
      "[(0.089598604859006961, 'subscribers_count'),\n",
      " (0.086112826932330855, 'watchers_count'),\n",
      " (0.084326535942179995, 'open_issues_count'),\n",
      " (0.083153338013766745, 'num_commit_comments'),\n",
      " (0.076038080908013728, 'desc_len'),\n",
      " (0.072888189171256043, 'title_len'),\n",
      " (0.068483902491859081, 'additions'),\n",
      " (0.063234908150733862, 'churn'),\n",
      " (0.058291201200424983, 'changed_files'),\n",
      " (0.057902418793349411, 'deletions'),\n",
      " (0.035190558253456572, 'pull_req_comments'),\n",
      " (0.021746631298147419, 'gh_team_size'),\n",
      " (0.02165813182372666, 'gh_sloc'),\n",
      " (0.017460302574254211, 'gh_test_lines_per_kloc'),\n",
      " (0.017230467087820441, 'gh_asserts_cases_per_kloc'),\n",
      " (0.017097738892042393, 'gh_test_cases_per_kloc'),\n",
      " (0.014953748388316012, 'gh_commits_on_files_touched'),\n",
      " (0.01234660997263866, 'gh_src_churn'),\n",
      " (0.011772201411522449, 'gh_src_files'),\n",
      " (0.011761224652985142, 'gh_files_modified'),\n",
      " (0.010224089331213803, 'gh_num_issue_comments'),\n",
      " (0.010070652932408166, 'gh_test_churn'),\n",
      " (0.0088495295124124979, 'gh_other_files'),\n",
      " (0.008340698174004478, 'gh_doc_files'),\n",
      " (0.0080609819156458058, 'git_num_commits'),\n",
      " (0.0078722323380735187, 'gh_files_added'),\n",
      " (0.0071782306010483568, 'gh_num_pr_comments'),\n",
      " (0.0060670731686502536, 'git_num_committers'),\n",
      " (0.0046005464647336175, 'gh_files_deleted'),\n",
      " (0.0038866376219288566, 'gh_by_core_team_member'),\n",
      " (0.0028853495110197492, 'gh_tests_deleted'),\n",
      " (0.00071635761102881548, 'gh_tests_added')]\n"
     ]
    }
   ],
   "source": [
    "# Build a forest and compute the feature importances\n",
    "forest = ExtraTreesClassifier(n_estimators=1000,\n",
    "                              random_state=0)\n",
    "\n",
    "forest.fit(X, Y)\n",
    "importances = forest.feature_importances_\n",
    "#print importances\n",
    "std = np.std([tree.feature_importances_ for tree in forest.estimators_],\n",
    "             axis=0)\n",
    "indices = np.argsort(importances)[::-1]\n",
    "\n",
    "scores = []\n",
    "names = dropped_features.columns\n",
    "# Print the feature ranking\n",
    "#print 'Names = ', names\n",
    "#print(\"Feature ranking:\")\n",
    "feature_labels = []\n",
    "for f in range(X.shape[1]):\n",
    "    #print(\"%d. feature %d (%f)\" % (f + 1, indices[f], importances[indices[f]]))\n",
    "    scores.append((importances[indices[f]], names[indices[f]]))\n",
    "    feature_labels.append(names[indices[f]])\n",
    "\n",
    "pprint.pprint(sorted(scores, reverse=True))\n",
    "\n"
   ]
  },
  {
   "cell_type": "code",
   "execution_count": 447,
   "metadata": {
    "collapsed": false
   },
   "outputs": [
    {
     "name": "stdout",
     "output_type": "stream",
     "text": [
      "32\n",
      "32\n",
      "32\n"
     ]
    }
   ],
   "source": [
    "print X.shape[1]\n",
    "print len(indices)\n",
    "print len(names)"
   ]
  },
  {
   "cell_type": "code",
   "execution_count": 469,
   "metadata": {
    "collapsed": false
   },
   "outputs": [
    {
     "data": {
      "image/png": "[encoded data removed]",
      "text/plain": [
       "<matplotlib.figure.Figure at 0x1cf1fa950>"
      ]
     },
     "metadata": {},
     "output_type": "display_data"
    }
   ],
   "source": [
    "# Plot the feature importances of the forest\n",
    "#feature_labels[0] = 'pull_req_comments'\n",
    "plt.rcParams[\"figure.figsize\"] = [15, 15]\n",
    "plt.figure()\n",
    "plt.title(\"Feature importances from Tree-Based Selection\")\n",
    "plt.bar(range(X.shape[1]), \n",
    "         importances[indices],\n",
    "        color=\"g\", align=\"center\")\n",
    "        #yerr=std[indices], align=\"center\")\n",
    "plt.xticks(range(X.shape[1]), feature_labels, rotation=90)\n",
    "plt.xlim([-1, X.shape[1]])\n",
    "plt.show()"
   ]
  },
  {
   "cell_type": "code",
   "execution_count": 470,
   "metadata": {
    "collapsed": false
   },
   "outputs": [
    {
     "name": "stdout",
     "output_type": "stream",
     "text": [
      "[(0.216, 'open_issues_count'),\n",
      " (0.18, 'watchers_count'),\n",
      " (0.174, 'subscribers_count'),\n",
      " (0.067, 'num_commit_comments'),\n",
      " (0.056, 'desc_len'),\n",
      " (0.041, 'additions'),\n",
      " (0.034, 'churn'),\n",
      " (0.022, 'title_len'),\n",
      " (0.019, 'changed_files'),\n",
      " (0.016, 'deletions'),\n",
      " (0.008, 'gh_test_lines_per_kloc'),\n",
      " (0.007, 'gh_asserts_cases_per_kloc'),\n",
      " (0.005, 'pull_req_comments'),\n",
      " (0.005, 'gh_sloc'),\n",
      " (0.004, 'gh_test_cases_per_kloc'),\n",
      " (0.004, 'gh_team_size'),\n",
      " (-0.0, 'git_num_committers'),\n",
      " (0.0, 'git_num_commits'),\n",
      " (0.0, 'gh_other_files'),\n",
      " (-0.0, 'gh_num_issue_comments'),\n",
      " (-0.0, 'gh_files_modified'),\n",
      " (-0.0, 'gh_files_deleted'),\n",
      " (-0.0, 'gh_files_added'),\n",
      " (-0.0, 'gh_doc_files'),\n",
      " (0.0, 'gh_by_core_team_member'),\n",
      " (-0.001, 'gh_tests_deleted'),\n",
      " (-0.001, 'gh_tests_added'),\n",
      " (-0.001, 'gh_test_churn'),\n",
      " (-0.001, 'gh_src_files'),\n",
      " (-0.001, 'gh_src_churn'),\n",
      " (-0.001, 'gh_num_pr_comments'),\n",
      " (-0.001, 'gh_commits_on_files_touched')]\n"
     ]
    }
   ],
   "source": [
    "rand_for = RandomForestRegressor(n_estimators=50, max_depth=4)\n",
    "scores = []\n",
    "names = dropped_features.columns\n",
    "for i in range(X.shape[1]):\n",
    "    score = cross_val_score(rand_for, X[:, i:i+1], Y, scoring=\"r2\",\n",
    "                              cv=ShuffleSplit(len(X), 3, .3))\n",
    "    scores.append((round(np.mean(score), 3), names[i]))\n",
    "pprint.pprint(sorted(scores, reverse=True))"
   ]
  },
  {
   "cell_type": "markdown",
   "metadata": {},
   "source": [
    "# Univariate Feature Selection"
   ]
  },
  {
   "cell_type": "code",
   "execution_count": 471,
   "metadata": {
    "collapsed": false
   },
   "outputs": [
    {
     "name": "stdout",
     "output_type": "stream",
     "text": [
      "1) churn - 9722839.856675\n",
      "2) additions - 6990201.834360\n",
      "3) gh_sloc - 4982377.704276\n",
      "4) deletions - 2795580.356458\n",
      "5) watchers_count - 1423196.312833\n",
      "6) desc_len - 581536.774362\n",
      "7) changed_files - 301911.328934\n",
      "8) open_issues_count - 134025.061524\n",
      "9) subscribers_count - 54104.385682\n",
      "10) gh_test_lines_per_kloc - 12038.491511\n",
      "11) num_commit_comments - 10706.377954\n",
      "12) gh_src_churn - 1421.704835\n",
      "13) gh_test_churn - 1077.506654\n",
      "14) gh_commits_on_files_touched - 721.131568\n",
      "15) title_len - 591.780988\n",
      "16) gh_doc_files - 551.982914\n",
      "17) gh_test_cases_per_kloc - 407.560606\n",
      "18) pull_req_comments - 368.618481\n",
      "19) gh_files_modified - 197.415105\n",
      "20) gh_tests_deleted - 94.872004\n",
      "21) gh_asserts_cases_per_kloc - 46.268621\n",
      "22) gh_num_pr_comments - 36.148987\n",
      "23) git_num_commits - 27.239516\n",
      "24) gh_team_size - 26.519226\n",
      "25) gh_tests_added - 14.354717\n",
      "26) gh_src_files - 11.262469\n",
      "27) gh_files_added - 4.940805\n",
      "28) gh_other_files - 4.866025\n",
      "29) gh_files_deleted - 3.496616\n",
      "30) gh_by_core_team_member - 0.852388\n",
      "31) gh_num_issue_comments - 0.756875\n",
      "32) git_num_committers - 0.178347\n"
     ]
    }
   ],
   "source": [
    "ch2 = SelectKBest(chi2,\"all\")\n",
    "X_train = ch2.fit_transform(X, Y)\n",
    "top_ranked_features = sorted(enumerate(ch2.scores_),key=lambda x:x[1], reverse=True)[:32]\n",
    "for index,(position,score) in enumerate(top_ranked_features):\n",
    "    print '%d) %s - %f' % (index+1, names[position], score)\n",
    "#top_ranked_features"
   ]
  },
  {
   "cell_type": "markdown",
   "metadata": {},
   "source": [
    "## Recursive Feature Elimination"
   ]
  },
  {
   "cell_type": "code",
   "execution_count": 472,
   "metadata": {
    "collapsed": false
   },
   "outputs": [
    {
     "name": "stdout",
     "output_type": "stream",
     "text": [
      "[('gh_team_size', 1),\n",
      " ('git_num_commits', 1),\n",
      " ('gh_num_issue_comments', 1),\n",
      " ('num_commit_comments', 1),\n",
      " ('pull_req_comments', 1),\n",
      " ('gh_tests_added', 1),\n",
      " ('gh_doc_files', 1),\n",
      " ('gh_by_core_team_member', 1),\n",
      " ('title_len', 1),\n",
      " ('git_num_committers', 1),\n",
      " ('subscribers_count', 2),\n",
      " ('changed_files', 3),\n",
      " ('gh_files_modified', 4),\n",
      " ('gh_src_files', 5),\n",
      " ('gh_files_deleted', 6),\n",
      " ('open_issues_count', 7),\n",
      " ('gh_files_added', 8),\n",
      " ('gh_other_files', 9),\n",
      " ('gh_num_pr_comments', 10),\n",
      " ('gh_commits_on_files_touched', 11),\n",
      " ('watchers_count', 12),\n",
      " ('desc_len', 13),\n",
      " ('additions', 14),\n",
      " ('deletions', 15),\n",
      " ('gh_test_churn', 16),\n",
      " ('gh_asserts_cases_per_kloc', 17),\n",
      " ('gh_test_lines_per_kloc', 18),\n",
      " ('gh_tests_deleted', 19),\n",
      " ('gh_test_cases_per_kloc', 20),\n",
      " ('churn', 21),\n",
      " ('gh_src_churn', 22),\n",
      " ('gh_sloc', 23)]\n"
     ]
    }
   ],
   "source": [
    "# create a base classifier used to evaluate a subset of attributes\n",
    "model = LogisticRegression()\n",
    "top_n_features = 10\n",
    "# create the RFE model and select top 10 attributes\n",
    "rfe = RFE(model, top_n_features)\n",
    "rfe = rfe.fit(X, Y)\n",
    "# summarize the selection of the attributes\n",
    "#print(rfe.support_)\n",
    "#print(rfe.ranking_)\n",
    "\n",
    "scores = []\n",
    "for feature_name,rank in zip(names, rfe.ranking_):\n",
    "    scores.append((feature_name, rank))\n",
    "\n",
    "pprint.pprint(sorted(scores, key=lambda x:x[1]))\n"
   ]
  },
  {
   "cell_type": "markdown",
   "metadata": {},
   "source": [
    "# Part IV: Modelling Phase"
   ]
  },
  {
   "cell_type": "code",
   "execution_count": 508,
   "metadata": {
    "collapsed": false
   },
   "outputs": [
    {
     "data": {
      "text/plain": [
       "(36660, 12)"
      ]
     },
     "execution_count": 508,
     "metadata": {},
     "output_type": "execute_result"
    }
   ],
   "source": [
    "# Take only the representative features using previous phase\n",
    "features = [\n",
    "'num_commit_comments',\n",
    "'desc_len',\n",
    "'additions',\n",
    "'churn',\n",
    "'title_len',\n",
    "'changed_files',\n",
    "'deletions',\n",
    "# 'gh_test_lines_per_kloc',\n",
    "'gh_sloc',\n",
    "'open_issues_count',\n",
    "'watchers_count',\n",
    "'subscribers_count',\n",
    "'pull_req_comments',\n",
    "# 'gh_team_size'\n",
    "]\n",
    "# 'gh_asserts_cases_per_kloc',\n",
    "# 'pull_req_comments',\n",
    "# 'gh_test_cases_per_kloc',\n",
    "# 'gh_description_complexity',\n",
    "# 'gh_team_size']\n",
    "X_new = dropped_features[features]#.as_matrix().astype(np.float)\n",
    "X_new.shape\n"
   ]
  },
  {
   "cell_type": "code",
   "execution_count": 509,
   "metadata": {
    "collapsed": true
   },
   "outputs": [],
   "source": [
    "X_train = X_new.head(29332)\n",
    "X_test = X_new.tail(len(X_new) - 29333)\n",
    "\n",
    "y_train = Y[0:29332]\n",
    "y_test = Y[29333:]"
   ]
  },
  {
   "cell_type": "code",
   "execution_count": 510,
   "metadata": {
    "collapsed": false
   },
   "outputs": [
    {
     "name": "stdout",
     "output_type": "stream",
     "text": [
      "(29332, 12)\n",
      "(29332,)\n",
      "(7327, 12)\n",
      "(7327,)\n"
     ]
    }
   ],
   "source": [
    "#X_train, X_test, y_train, y_test = train_test_split(X_new, Y, test_size = 0.20)\n",
    "print X_train.shape\n",
    "print y_train.shape\n",
    "\n",
    "print X_test.shape\n",
    "print y_test.shape"
   ]
  },
  {
   "cell_type": "code",
   "execution_count": 511,
   "metadata": {
    "collapsed": true
   },
   "outputs": [],
   "source": [
    "from sklearn import metrics\n",
    "from sklearn.linear_model import LogisticRegression\n",
    "from sklearn.neighbors import KNeighborsClassifier\n",
    "from sklearn.tree import DecisionTreeClassifier\n",
    "from sklearn.metrics import accuracy_score\n",
    "from sklearn.cross_validation import train_test_split\n",
    "from sklearn.cross_validation import cross_val_predict\n",
    "from sklearn.learning_curve import validation_curve\n",
    "from sklearn.ensemble import AdaBoostClassifier\n",
    "from sklearn.ensemble import RandomForestClassifier"
   ]
  },
  {
   "cell_type": "markdown",
   "metadata": {},
   "source": [
    "### Logistic Regression"
   ]
  },
  {
   "cell_type": "code",
   "execution_count": 512,
   "metadata": {
    "collapsed": false
   },
   "outputs": [
    {
     "name": "stdout",
     "output_type": "stream",
     "text": [
      "LogisticRegression(C=1.0, class_weight=None, dual=False, fit_intercept=True,\n",
      "          intercept_scaling=1, max_iter=100, multi_class='ovr', n_jobs=1,\n",
      "          penalty='l2', random_state=None, solver='liblinear', tol=0.0001,\n",
      "          verbose=0, warm_start=False)\n",
      "             precision    recall  f1-score   support\n",
      "\n",
      "          0       0.48      0.06      0.11      3276\n",
      "          1       0.55      0.94      0.70      4051\n",
      "\n",
      "avg / total       0.52      0.55      0.44      7327\n",
      "\n",
      "[[ 211 3065]\n",
      " [ 231 3820]]\n"
     ]
    },
    {
     "data": {
      "text/plain": [
       "0.55015695373276918"
      ]
     },
     "execution_count": 512,
     "metadata": {},
     "output_type": "execute_result"
    }
   ],
   "source": [
    "# fit a logistic regression model to the data\n",
    "model = LogisticRegression()\n",
    "model.fit(X_train, y_train)\n",
    "print(model)\n",
    "\n",
    "# make predictions\n",
    "expected = Y\n",
    "predicted = model.predict(X_test)\n",
    "\n",
    "# summarize the fit of the model\n",
    "print(metrics.classification_report(y_test, predicted))\n",
    "print(metrics.confusion_matrix(y_test, predicted))\n",
    "\n",
    "accuracy_score(y_test, predicted)"
   ]
  },
  {
   "cell_type": "markdown",
   "metadata": {},
   "source": [
    "### k-Nearest Neighbor"
   ]
  },
  {
   "cell_type": "code",
   "execution_count": 513,
   "metadata": {
    "collapsed": false
   },
   "outputs": [
    {
     "name": "stdout",
     "output_type": "stream",
     "text": [
      "KNeighborsClassifier(algorithm='auto', leaf_size=30, metric='minkowski',\n",
      "           metric_params=None, n_jobs=1, n_neighbors=5, p=2,\n",
      "           weights='uniform')\n",
      "             precision    recall  f1-score   support\n",
      "\n",
      "          0       0.66      0.32      0.43      3276\n",
      "          1       0.61      0.87      0.72      4051\n",
      "\n",
      "avg / total       0.63      0.62      0.59      7327\n",
      "\n",
      "[[1040 2236]\n",
      " [ 545 3506]]\n"
     ]
    },
    {
     "data": {
      "text/plain": [
       "0.62044492971202403"
      ]
     },
     "execution_count": 513,
     "metadata": {},
     "output_type": "execute_result"
    }
   ],
   "source": [
    "# fit a logistic regression model to the data\n",
    "model = KNeighborsClassifier()\n",
    "model.fit(X_train, y_train)\n",
    "print(model)\n",
    "\n",
    "# make predictions\n",
    "expected = Y\n",
    "predicted = model.predict(X_test)\n",
    "\n",
    "# summarize the fit of the model\n",
    "print(metrics.classification_report(y_test, predicted))\n",
    "print(metrics.confusion_matrix(y_test, predicted))\n",
    "\n",
    "accuracy_score(y_test, predicted)"
   ]
  },
  {
   "cell_type": "markdown",
   "metadata": {},
   "source": [
    "### Decision Trees"
   ]
  },
  {
   "cell_type": "code",
   "execution_count": 514,
   "metadata": {
    "collapsed": false
   },
   "outputs": [
    {
     "name": "stdout",
     "output_type": "stream",
     "text": [
      "DecisionTreeClassifier(class_weight=None, criterion='entropy', max_depth=40,\n",
      "            max_features=None, max_leaf_nodes=None, min_samples_leaf=1,\n",
      "            min_samples_split=2, min_weight_fraction_leaf=0.0,\n",
      "            presort=False, random_state=None, splitter='best')\n",
      "             precision    recall  f1-score   support\n",
      "\n",
      "          0       0.64      0.36      0.46      3276\n",
      "          1       0.62      0.84      0.71      4051\n",
      "\n",
      "avg / total       0.63      0.62      0.60      7327\n",
      "\n",
      "[[1165 2111]\n",
      " [ 642 3409]]\n"
     ]
    },
    {
     "data": {
      "text/plain": [
       "0.62426641190118737"
      ]
     },
     "execution_count": 514,
     "metadata": {},
     "output_type": "execute_result"
    }
   ],
   "source": [
    "# fit a logistic regression model to the data\n",
    "model = DecisionTreeClassifier(max_depth=40,criterion=\"entropy\", min_samples_split=2)\n",
    "model.fit(X_train, y_train)\n",
    "print(model)\n",
    "\n",
    "# make predictions\n",
    "expected = Y\n",
    "predicted = model.predict(X_test)\n",
    "\n",
    "# summarize the fit of the model\n",
    "print(metrics.classification_report(y_test, predicted))\n",
    "print(metrics.confusion_matrix(y_test, predicted))\n",
    "\n",
    "accuracy_score(y_test, predicted)"
   ]
  },
  {
   "cell_type": "markdown",
   "metadata": {},
   "source": [
    "### Random Forests"
   ]
  },
  {
   "cell_type": "code",
   "execution_count": 515,
   "metadata": {
    "collapsed": false
   },
   "outputs": [
    {
     "name": "stdout",
     "output_type": "stream",
     "text": [
      "             precision    recall  f1-score   support\n",
      "\n",
      "          0       0.77      0.36      0.49      3276\n",
      "          1       0.64      0.91      0.75      4051\n",
      "\n",
      "avg / total       0.70      0.67      0.64      7327\n",
      "\n",
      "[[1186 2090]\n",
      " [ 349 3702]]\n"
     ]
    },
    {
     "data": {
      "text/plain": [
       "0.66712160502251949"
      ]
     },
     "execution_count": 515,
     "metadata": {},
     "output_type": "execute_result"
    }
   ],
   "source": [
    "clf_random_forest = RandomForestClassifier()\n",
    "clf_random_forest.fit(X_train, y_train)\n",
    "\n",
    "# make predictions\n",
    "expected = Y\n",
    "predicted = clf_random_forest.predict(X_test)\n",
    "\n",
    "# summarize the fit of the model\n",
    "print(metrics.classification_report(y_test, predicted))\n",
    "print(metrics.confusion_matrix(y_test, predicted))\n",
    "\n",
    "accuracy_score(y_test, predicted)"
   ]
  },
  {
   "cell_type": "markdown",
   "metadata": {},
   "source": [
    "### Adaboost"
   ]
  },
  {
   "cell_type": "code",
   "execution_count": 516,
   "metadata": {
    "collapsed": false
   },
   "outputs": [
    {
     "name": "stdout",
     "output_type": "stream",
     "text": [
      "             precision    recall  f1-score   support\n",
      "\n",
      "          0       0.83      0.23      0.36      3276\n",
      "          1       0.61      0.96      0.74      4051\n",
      "\n",
      "avg / total       0.71      0.63      0.57      7327\n",
      "\n",
      "[[ 742 2534]\n",
      " [ 148 3903]]\n"
     ]
    },
    {
     "data": {
      "text/plain": [
       "0.63395659888085165"
      ]
     },
     "execution_count": 516,
     "metadata": {},
     "output_type": "execute_result"
    }
   ],
   "source": [
    "clf_random_forest = AdaBoostClassifier(DecisionTreeClassifier(max_depth=1),\n",
    "                             algorithm=\"SAMME\",\n",
    "                             n_estimators=600)\n",
    "clf_random_forest.fit(X_train, y_train)\n",
    "\n",
    "# make predictions\n",
    "expected = Y\n",
    "predicted = clf_random_forest.predict(X_test)\n",
    "\n",
    "# summarize the fit of the model\n",
    "print(metrics.classification_report(y_test, predicted))\n",
    "print(metrics.confusion_matrix(y_test, predicted))\n",
    "\n",
    "accuracy_score(y_test, predicted)"
   ]
  },
  {
   "cell_type": "code",
   "execution_count": 517,
   "metadata": {
    "collapsed": true
   },
   "outputs": [],
   "source": [
    "from sklearn import svm"
   ]
  },
  {
   "cell_type": "markdown",
   "metadata": {},
   "source": [
    "### SVM "
   ]
  },
  {
   "cell_type": "code",
   "execution_count": 518,
   "metadata": {
    "collapsed": false
   },
   "outputs": [
    {
     "name": "stdout",
     "output_type": "stream",
     "text": [
      "SVC(C=1.0, cache_size=200, class_weight=None, coef0=0.0,\n",
      "  decision_function_shape=None, degree=3, gamma='auto', kernel='rbf',\n",
      "  max_iter=-1, probability=False, random_state=None, shrinking=True,\n",
      "  tol=0.001, verbose=False)\n",
      "             precision    recall  f1-score   support\n",
      "\n",
      "          0       1.00      0.00      0.01      3276\n",
      "          1       0.55      1.00      0.71      4051\n",
      "\n",
      "avg / total       0.75      0.55      0.40      7327\n",
      "\n",
      "[[   9 3267]\n",
      " [   0 4051]]\n"
     ]
    },
    {
     "data": {
      "text/plain": [
       "0.55411491742868846"
      ]
     },
     "execution_count": 518,
     "metadata": {},
     "output_type": "execute_result"
    }
   ],
   "source": [
    "# fit a logistic regression model to the data\n",
    "model = svm.SVC()\n",
    "model.fit(X_train, y_train)\n",
    "print(model)\n",
    "\n",
    "# make predictions\n",
    "expected = Y\n",
    "predicted = model.predict(X_test)\n",
    "\n",
    "# summarize the fit of the model\n",
    "print(metrics.classification_report(y_test, predicted))\n",
    "print(metrics.confusion_matrix(y_test, predicted))\n",
    "\n",
    "accuracy_score(y_test, predicted)"
   ]
  },
  {
   "cell_type": "code",
   "execution_count": 328,
   "metadata": {
    "collapsed": false
   },
   "outputs": [
    {
     "data": {
      "image/png": "[encoded data removed]",
      "text/plain": [
       "<matplotlib.figure.Figure at 0x187e2d310>"
      ]
     },
     "metadata": {},
     "output_type": "display_data"
    }
   ],
   "source": [
    "plt.rcParams[\"figure.figsize\"] = [12, 9]\n",
    "dropped_features[features].hist()\n",
    "plt.show()"
   ]
  },
  {
   "cell_type": "code",
   "execution_count": 329,
   "metadata": {
    "collapsed": false
   },
   "outputs": [
    {
     "data": {
      "text/plain": [
       "array([[<matplotlib.axes._subplots.AxesSubplot object at 0x1890cae90>,\n",
       "        <matplotlib.axes._subplots.AxesSubplot object at 0x188b23c90>,\n",
       "        <matplotlib.axes._subplots.AxesSubplot object at 0x188b5dcd0>,\n",
       "        <matplotlib.axes._subplots.AxesSubplot object at 0x188c195d0>,\n",
       "        <matplotlib.axes._subplots.AxesSubplot object at 0x188c98710>,\n",
       "        <matplotlib.axes._subplots.AxesSubplot object at 0x188c3a210>,\n",
       "        <matplotlib.axes._subplots.AxesSubplot object at 0x189665890>,\n",
       "        <matplotlib.axes._subplots.AxesSubplot object at 0x1896e7b50>,\n",
       "        <matplotlib.axes._subplots.AxesSubplot object at 0x1897543d0>],\n",
       "       [<matplotlib.axes._subplots.AxesSubplot object at 0x1897d7450>,\n",
       "        <matplotlib.axes._subplots.AxesSubplot object at 0x18983b210>,\n",
       "        <matplotlib.axes._subplots.AxesSubplot object at 0x1898ba790>,\n",
       "        <matplotlib.axes._subplots.AxesSubplot object at 0x18993c710>,\n",
       "        <matplotlib.axes._subplots.AxesSubplot object at 0x1899a94d0>,\n",
       "        <matplotlib.axes._subplots.AxesSubplot object at 0x189a29950>,\n",
       "        <matplotlib.axes._subplots.AxesSubplot object at 0x189a8e750>,\n",
       "        <matplotlib.axes._subplots.AxesSubplot object at 0x189b0dcd0>,\n",
       "        <matplotlib.axes._subplots.AxesSubplot object at 0x189ab9fd0>],\n",
       "       [<matplotlib.axes._subplots.AxesSubplot object at 0x189bfca10>,\n",
       "        <matplotlib.axes._subplots.AxesSubplot object at 0x189c7ce90>,\n",
       "        <matplotlib.axes._subplots.AxesSubplot object at 0x189cec550>,\n",
       "        <matplotlib.axes._subplots.AxesSubplot object at 0x189d6d5d0>,\n",
       "        <matplotlib.axes._subplots.AxesSubplot object at 0x189dd2390>,\n",
       "        <matplotlib.axes._subplots.AxesSubplot object at 0x189e50910>,\n",
       "        <matplotlib.axes._subplots.AxesSubplot object at 0x189ed2890>,\n",
       "        <matplotlib.axes._subplots.AxesSubplot object at 0x189f3e650>,\n",
       "        <matplotlib.axes._subplots.AxesSubplot object at 0x189fc1ad0>],\n",
       "       [<matplotlib.axes._subplots.AxesSubplot object at 0x18a0238d0>,\n",
       "        <matplotlib.axes._subplots.AxesSubplot object at 0x18a0a4e50>,\n",
       "        <matplotlib.axes._subplots.AxesSubplot object at 0x18a051f90>,\n",
       "        <matplotlib.axes._subplots.AxesSubplot object at 0x18a194b90>,\n",
       "        <matplotlib.axes._subplots.AxesSubplot object at 0x18a215e50>,\n",
       "        <matplotlib.axes._subplots.AxesSubplot object at 0x18a2836d0>,\n",
       "        <matplotlib.axes._subplots.AxesSubplot object at 0x18a307650>,\n",
       "        <matplotlib.axes._subplots.AxesSubplot object at 0x18a36a510>,\n",
       "        <matplotlib.axes._subplots.AxesSubplot object at 0x18a3ec590>],\n",
       "       [<matplotlib.axes._subplots.AxesSubplot object at 0x18a424750>,\n",
       "        <matplotlib.axes._subplots.AxesSubplot object at 0x18a4dc610>,\n",
       "        <matplotlib.axes._subplots.AxesSubplot object at 0x18a55d590>,\n",
       "        <matplotlib.axes._subplots.AxesSubplot object at 0x18a5c27d0>,\n",
       "        <matplotlib.axes._subplots.AxesSubplot object at 0x18a642750>,\n",
       "        <matplotlib.axes._subplots.AxesSubplot object at 0x18a6ab550>,\n",
       "        <matplotlib.axes._subplots.AxesSubplot object at 0x18a732750>,\n",
       "        <matplotlib.axes._subplots.AxesSubplot object at 0x18a7b56d0>,\n",
       "        <matplotlib.axes._subplots.AxesSubplot object at 0x18a823250>],\n",
       "       [<matplotlib.axes._subplots.AxesSubplot object at 0x18a8a71d0>,\n",
       "        <matplotlib.axes._subplots.AxesSubplot object at 0x18a90b310>,\n",
       "        <matplotlib.axes._subplots.AxesSubplot object at 0x18a98d390>,\n",
       "        <matplotlib.axes._subplots.AxesSubplot object at 0x18a9c5550>,\n",
       "        <matplotlib.axes._subplots.AxesSubplot object at 0x18aa7e410>,\n",
       "        <matplotlib.axes._subplots.AxesSubplot object at 0x18ab01390>,\n",
       "        <matplotlib.axes._subplots.AxesSubplot object at 0x18ab645d0>,\n",
       "        <matplotlib.axes._subplots.AxesSubplot object at 0x18abe7550>,\n",
       "        <matplotlib.axes._subplots.AxesSubplot object at 0x18ac4c350>],\n",
       "       [<matplotlib.axes._subplots.AxesSubplot object at 0x18acd5550>,\n",
       "        <matplotlib.axes._subplots.AxesSubplot object at 0x18ad584d0>,\n",
       "        <matplotlib.axes._subplots.AxesSubplot object at 0x18adc7050>,\n",
       "        <matplotlib.axes._subplots.AxesSubplot object at 0x18ae3cf90>,\n",
       "        <matplotlib.axes._subplots.AxesSubplot object at 0x18aeae110>,\n",
       "        <matplotlib.axes._subplots.AxesSubplot object at 0x18af30190>,\n",
       "        <matplotlib.axes._subplots.AxesSubplot object at 0x18af67350>,\n",
       "        <matplotlib.axes._subplots.AxesSubplot object at 0x18b01f210>,\n",
       "        <matplotlib.axes._subplots.AxesSubplot object at 0x18b0a3190>],\n",
       "       [<matplotlib.axes._subplots.AxesSubplot object at 0x18b1073d0>,\n",
       "        <matplotlib.axes._subplots.AxesSubplot object at 0x18b188350>,\n",
       "        <matplotlib.axes._subplots.AxesSubplot object at 0x18b1f0150>,\n",
       "        <matplotlib.axes._subplots.AxesSubplot object at 0x189a63890>,\n",
       "        <matplotlib.axes._subplots.AxesSubplot object at 0x1893a8d10>,\n",
       "        <matplotlib.axes._subplots.AxesSubplot object at 0x1892e0a90>,\n",
       "        <matplotlib.axes._subplots.AxesSubplot object at 0x1890f7610>,\n",
       "        <matplotlib.axes._subplots.AxesSubplot object at 0x1892ad550>,\n",
       "        <matplotlib.axes._subplots.AxesSubplot object at 0x1894213d0>],\n",
       "       [<matplotlib.axes._subplots.AxesSubplot object at 0x188f09650>,\n",
       "        <matplotlib.axes._subplots.AxesSubplot object at 0x18927c350>,\n",
       "        <matplotlib.axes._subplots.AxesSubplot object at 0x18930e090>,\n",
       "        <matplotlib.axes._subplots.AxesSubplot object at 0x18900ca50>,\n",
       "        <matplotlib.axes._subplots.AxesSubplot object at 0x1877ee990>,\n",
       "        <matplotlib.axes._subplots.AxesSubplot object at 0x187b15dd0>,\n",
       "        <matplotlib.axes._subplots.AxesSubplot object at 0x160f33b50>,\n",
       "        <matplotlib.axes._subplots.AxesSubplot object at 0x146a02390>,\n",
       "        <matplotlib.axes._subplots.AxesSubplot object at 0x145d33f90>]], dtype=object)"
      ]
     },
     "execution_count": 329,
     "metadata": {},
     "output_type": "execute_result"
    },
    {
     "data": {
      "image/png": "[encoded data removed]",
      "text/plain": [
       "<matplotlib.figure.Figure at 0x1890b5450>"
      ]
     },
     "metadata": {},
     "output_type": "display_data"
    }
   ],
   "source": [
    "from pandas.tools.plotting import scatter_matrix\n",
    "scatter_matrix(dropped_features[features], alpha=0.2, figsize=(6, 6), diagonal='kde')"
   ]
  },
  {
   "cell_type": "code",
   "execution_count": null,
   "metadata": {
    "collapsed": true
   },
   "outputs": [],
   "source": []
  },
  {
   "cell_type": "code",
   "execution_count": 336,
   "metadata": {
    "collapsed": false
   },
   "outputs": [
    {
     "data": {
      "text/html": [
       "<div>\n",
       "<table border=\"1\" class=\"dataframe\">\n",
       "  <thead>\n",
       "    <tr style=\"text-align: right;\">\n",
       "      <th></th>\n",
       "      <th>title_len</th>\n",
       "      <th>desc_len</th>\n",
       "    </tr>\n",
       "  </thead>\n",
       "  <tbody>\n",
       "    <tr>\n",
       "      <th>count</th>\n",
       "      <td>11046.000000</td>\n",
       "      <td>11046.000000</td>\n",
       "    </tr>\n",
       "    <tr>\n",
       "      <th>mean</th>\n",
       "      <td>42.998189</td>\n",
       "      <td>385.318124</td>\n",
       "    </tr>\n",
       "    <tr>\n",
       "      <th>std</th>\n",
       "      <td>19.877707</td>\n",
       "      <td>821.803375</td>\n",
       "    </tr>\n",
       "    <tr>\n",
       "      <th>min</th>\n",
       "      <td>2.000000</td>\n",
       "      <td>0.000000</td>\n",
       "    </tr>\n",
       "    <tr>\n",
       "      <th>25%</th>\n",
       "      <td>29.000000</td>\n",
       "      <td>52.000000</td>\n",
       "    </tr>\n",
       "    <tr>\n",
       "      <th>50%</th>\n",
       "      <td>41.000000</td>\n",
       "      <td>156.500000</td>\n",
       "    </tr>\n",
       "    <tr>\n",
       "      <th>75%</th>\n",
       "      <td>55.000000</td>\n",
       "      <td>407.000000</td>\n",
       "    </tr>\n",
       "    <tr>\n",
       "      <th>max</th>\n",
       "      <td>168.000000</td>\n",
       "      <td>12687.000000</td>\n",
       "    </tr>\n",
       "  </tbody>\n",
       "</table>\n",
       "</div>"
      ],
      "text/plain": [
       "          title_len      desc_len\n",
       "count  11046.000000  11046.000000\n",
       "mean      42.998189    385.318124\n",
       "std       19.877707    821.803375\n",
       "min        2.000000      0.000000\n",
       "25%       29.000000     52.000000\n",
       "50%       41.000000    156.500000\n",
       "75%       55.000000    407.000000\n",
       "max      168.000000  12687.000000"
      ]
     },
     "execution_count": 336,
     "metadata": {},
     "output_type": "execute_result"
    }
   ],
   "source": [
    "pull_req_data[pull_req_data['merged'] == False][[\"title_len\", \"desc_len\"]].describe()"
   ]
  },
  {
   "cell_type": "code",
   "execution_count": 337,
   "metadata": {
    "collapsed": false
   },
   "outputs": [
    {
     "data": {
      "text/html": [
       "<div>\n",
       "<table border=\"1\" class=\"dataframe\">\n",
       "  <thead>\n",
       "    <tr style=\"text-align: right;\">\n",
       "      <th></th>\n",
       "      <th>title_len</th>\n",
       "      <th>desc_len</th>\n",
       "    </tr>\n",
       "  </thead>\n",
       "  <tbody>\n",
       "    <tr>\n",
       "      <th>count</th>\n",
       "      <td>25619.000000</td>\n",
       "      <td>25619.000000</td>\n",
       "    </tr>\n",
       "    <tr>\n",
       "      <th>mean</th>\n",
       "      <td>41.208322</td>\n",
       "      <td>239.270034</td>\n",
       "    </tr>\n",
       "    <tr>\n",
       "      <th>std</th>\n",
       "      <td>17.805602</td>\n",
       "      <td>514.741231</td>\n",
       "    </tr>\n",
       "    <tr>\n",
       "      <th>min</th>\n",
       "      <td>3.000000</td>\n",
       "      <td>0.000000</td>\n",
       "    </tr>\n",
       "    <tr>\n",
       "      <th>25%</th>\n",
       "      <td>27.000000</td>\n",
       "      <td>10.000000</td>\n",
       "    </tr>\n",
       "    <tr>\n",
       "      <th>50%</th>\n",
       "      <td>40.000000</td>\n",
       "      <td>84.000000</td>\n",
       "    </tr>\n",
       "    <tr>\n",
       "      <th>75%</th>\n",
       "      <td>54.000000</td>\n",
       "      <td>241.000000</td>\n",
       "    </tr>\n",
       "    <tr>\n",
       "      <th>max</th>\n",
       "      <td>180.000000</td>\n",
       "      <td>11324.000000</td>\n",
       "    </tr>\n",
       "  </tbody>\n",
       "</table>\n",
       "</div>"
      ],
      "text/plain": [
       "          title_len      desc_len\n",
       "count  25619.000000  25619.000000\n",
       "mean      41.208322    239.270034\n",
       "std       17.805602    514.741231\n",
       "min        3.000000      0.000000\n",
       "25%       27.000000     10.000000\n",
       "50%       40.000000     84.000000\n",
       "75%       54.000000    241.000000\n",
       "max      180.000000  11324.000000"
      ]
     },
     "execution_count": 337,
     "metadata": {},
     "output_type": "execute_result"
    }
   ],
   "source": [
    "pull_req_data[pull_req_data['merged'] == True][[\"title_len\", \"desc_len\"]].describe()"
   ]
  },
  {
   "cell_type": "code",
   "execution_count": 341,
   "metadata": {
    "collapsed": false
   },
   "outputs": [
    {
     "data": {
      "text/html": [
       "<div>\n",
       "<table border=\"1\" class=\"dataframe\">\n",
       "  <thead>\n",
       "    <tr style=\"text-align: right;\">\n",
       "      <th></th>\n",
       "      <th>commits</th>\n",
       "      <th>additions</th>\n",
       "      <th>deletions</th>\n",
       "    </tr>\n",
       "  </thead>\n",
       "  <tbody>\n",
       "    <tr>\n",
       "      <th>count</th>\n",
       "      <td>11046.000000</td>\n",
       "      <td>11046.000000</td>\n",
       "      <td>11046.000000</td>\n",
       "    </tr>\n",
       "    <tr>\n",
       "      <th>mean</th>\n",
       "      <td>13.827268</td>\n",
       "      <td>741.944324</td>\n",
       "      <td>383.515390</td>\n",
       "    </tr>\n",
       "    <tr>\n",
       "      <th>std</th>\n",
       "      <td>87.508245</td>\n",
       "      <td>3679.574488</td>\n",
       "      <td>3219.612297</td>\n",
       "    </tr>\n",
       "    <tr>\n",
       "      <th>min</th>\n",
       "      <td>0.000000</td>\n",
       "      <td>0.000000</td>\n",
       "      <td>0.000000</td>\n",
       "    </tr>\n",
       "    <tr>\n",
       "      <th>25%</th>\n",
       "      <td>1.000000</td>\n",
       "      <td>5.000000</td>\n",
       "      <td>1.000000</td>\n",
       "    </tr>\n",
       "    <tr>\n",
       "      <th>50%</th>\n",
       "      <td>2.000000</td>\n",
       "      <td>29.000000</td>\n",
       "      <td>3.000000</td>\n",
       "    </tr>\n",
       "    <tr>\n",
       "      <th>75%</th>\n",
       "      <td>3.000000</td>\n",
       "      <td>128.000000</td>\n",
       "      <td>20.000000</td>\n",
       "    </tr>\n",
       "    <tr>\n",
       "      <th>max</th>\n",
       "      <td>1887.000000</td>\n",
       "      <td>116015.000000</td>\n",
       "      <td>43469.000000</td>\n",
       "    </tr>\n",
       "  </tbody>\n",
       "</table>\n",
       "</div>"
      ],
      "text/plain": [
       "            commits      additions     deletions\n",
       "count  11046.000000   11046.000000  11046.000000\n",
       "mean      13.827268     741.944324    383.515390\n",
       "std       87.508245    3679.574488   3219.612297\n",
       "min        0.000000       0.000000      0.000000\n",
       "25%        1.000000       5.000000      1.000000\n",
       "50%        2.000000      29.000000      3.000000\n",
       "75%        3.000000     128.000000     20.000000\n",
       "max     1887.000000  116015.000000  43469.000000"
      ]
     },
     "execution_count": 341,
     "metadata": {},
     "output_type": "execute_result"
    }
   ],
   "source": [
    "pull_req_data[pull_req_data['merged'] == False][[\"commits\", \"additions\", \"deletions\"]].describe()"
   ]
  },
  {
   "cell_type": "code",
   "execution_count": 340,
   "metadata": {
    "collapsed": false
   },
   "outputs": [
    {
     "data": {
      "text/html": [
       "<div>\n",
       "<table border=\"1\" class=\"dataframe\">\n",
       "  <thead>\n",
       "    <tr style=\"text-align: right;\">\n",
       "      <th></th>\n",
       "      <th>commits</th>\n",
       "      <th>additions</th>\n",
       "      <th>deletions</th>\n",
       "    </tr>\n",
       "  </thead>\n",
       "  <tbody>\n",
       "    <tr>\n",
       "      <th>count</th>\n",
       "      <td>25619.000000</td>\n",
       "      <td>25619.000000</td>\n",
       "      <td>25619.000000</td>\n",
       "    </tr>\n",
       "    <tr>\n",
       "      <th>mean</th>\n",
       "      <td>2.640501</td>\n",
       "      <td>179.686131</td>\n",
       "      <td>116.469534</td>\n",
       "    </tr>\n",
       "    <tr>\n",
       "      <th>std</th>\n",
       "      <td>5.515381</td>\n",
       "      <td>799.444407</td>\n",
       "      <td>906.949928</td>\n",
       "    </tr>\n",
       "    <tr>\n",
       "      <th>min</th>\n",
       "      <td>1.000000</td>\n",
       "      <td>0.000000</td>\n",
       "      <td>0.000000</td>\n",
       "    </tr>\n",
       "    <tr>\n",
       "      <th>25%</th>\n",
       "      <td>1.000000</td>\n",
       "      <td>3.000000</td>\n",
       "      <td>1.000000</td>\n",
       "    </tr>\n",
       "    <tr>\n",
       "      <th>50%</th>\n",
       "      <td>1.000000</td>\n",
       "      <td>17.000000</td>\n",
       "      <td>4.000000</td>\n",
       "    </tr>\n",
       "    <tr>\n",
       "      <th>75%</th>\n",
       "      <td>2.000000</td>\n",
       "      <td>79.000000</td>\n",
       "      <td>22.000000</td>\n",
       "    </tr>\n",
       "    <tr>\n",
       "      <th>max</th>\n",
       "      <td>158.000000</td>\n",
       "      <td>28285.000000</td>\n",
       "      <td>29888.000000</td>\n",
       "    </tr>\n",
       "  </tbody>\n",
       "</table>\n",
       "</div>"
      ],
      "text/plain": [
       "            commits     additions     deletions\n",
       "count  25619.000000  25619.000000  25619.000000\n",
       "mean       2.640501    179.686131    116.469534\n",
       "std        5.515381    799.444407    906.949928\n",
       "min        1.000000      0.000000      0.000000\n",
       "25%        1.000000      3.000000      1.000000\n",
       "50%        1.000000     17.000000      4.000000\n",
       "75%        2.000000     79.000000     22.000000\n",
       "max      158.000000  28285.000000  29888.000000"
      ]
     },
     "execution_count": 340,
     "metadata": {},
     "output_type": "execute_result"
    }
   ],
   "source": [
    "pull_req_data[pull_req_data['merged'] == True][[\"commits\", \"additions\", \"deletions\"]].describe()"
   ]
  },
  {
   "cell_type": "code",
   "execution_count": null,
   "metadata": {
    "collapsed": true
   },
   "outputs": [],
   "source": []
  }
 ],
 "metadata": {
  "kernelspec": {
   "display_name": "Python 2",
   "language": "python",
   "name": "python2"
  },
  "language_info": {
   "codemirror_mode": {
    "name": "ipython",
    "version": 2
   },
   "file_extension": ".py",
   "mimetype": "text/x-python",
   "name": "python",
   "nbconvert_exporter": "python",
   "pygments_lexer": "ipython2",
   "version": "2.7.11"
  }
 },
 "nbformat": 4,
 "nbformat_minor": 0
}
