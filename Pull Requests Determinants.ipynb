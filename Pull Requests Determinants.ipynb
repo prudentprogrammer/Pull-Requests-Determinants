{
 "cells": [
  {
   "cell_type": "markdown",
   "metadata": {},
   "source": [
    "# Part I: Importing Libraries and Data"
   ]
  },
  {
   "cell_type": "code",
   "execution_count": 223,
   "metadata": {
    "collapsed": false
   },
   "outputs": [],
   "source": [
    "import csv\n",
    "import pandas as pd\n",
    "import numpy as np\n",
    "import matplotlib.pyplot as plt\n",
    "# Enable inline plotting\n",
    "%matplotlib inline\n",
    "plt.style.use('ggplot')"
   ]
  },
  {
   "cell_type": "code",
   "execution_count": 224,
   "metadata": {
    "collapsed": false
   },
   "outputs": [],
   "source": [
    "pull_req_data = pd.read_csv('./preprocessed_data_v2.csv')"
   ]
  },
  {
   "cell_type": "code",
   "execution_count": 225,
   "metadata": {
    "collapsed": false
   },
   "outputs": [
    {
     "data": {
      "text/html": [
       "<div>\n",
       "<table border=\"1\" class=\"dataframe\">\n",
       "  <thead>\n",
       "    <tr style=\"text-align: right;\">\n",
       "      <th></th>\n",
       "      <th>slug</th>\n",
       "      <th>gh_team_size</th>\n",
       "      <th>commits</th>\n",
       "      <th>git_num_commits</th>\n",
       "      <th>gh_num_issue_comments</th>\n",
       "      <th>general_comments</th>\n",
       "      <th>num_commit_comments</th>\n",
       "      <th>pull_req_comments</th>\n",
       "      <th>gh_num_pr_comments</th>\n",
       "      <th>additions</th>\n",
       "      <th>...</th>\n",
       "      <th>title_len</th>\n",
       "      <th>desc_len</th>\n",
       "      <th>gh_description_complexity</th>\n",
       "      <th>git_num_committers</th>\n",
       "      <th>Id</th>\n",
       "      <th>state</th>\n",
       "      <th>merged</th>\n",
       "      <th>merge_commit_sha</th>\n",
       "      <th>delta_mins_merge</th>\n",
       "      <th>delta_mins_close</th>\n",
       "    </tr>\n",
       "  </thead>\n",
       "  <tbody>\n",
       "    <tr>\n",
       "      <th>0</th>\n",
       "      <td>aodn/aodn-portal</td>\n",
       "      <td>4</td>\n",
       "      <td>1</td>\n",
       "      <td>1</td>\n",
       "      <td>0</td>\n",
       "      <td>0</td>\n",
       "      <td>0</td>\n",
       "      <td>0</td>\n",
       "      <td>0</td>\n",
       "      <td>1</td>\n",
       "      <td>...</td>\n",
       "      <td>53</td>\n",
       "      <td>0</td>\n",
       "      <td>84</td>\n",
       "      <td>1</td>\n",
       "      <td>70072</td>\n",
       "      <td>closed</td>\n",
       "      <td>True</td>\n",
       "      <td>c3f6c953580397f684d76ab1952607c509d964b6</td>\n",
       "      <td>2.4500</td>\n",
       "      <td>2.4500</td>\n",
       "    </tr>\n",
       "    <tr>\n",
       "      <th>1</th>\n",
       "      <td>aodn/aodn-portal</td>\n",
       "      <td>5</td>\n",
       "      <td>1</td>\n",
       "      <td>1</td>\n",
       "      <td>0</td>\n",
       "      <td>0</td>\n",
       "      <td>0</td>\n",
       "      <td>0</td>\n",
       "      <td>0</td>\n",
       "      <td>2</td>\n",
       "      <td>...</td>\n",
       "      <td>58</td>\n",
       "      <td>128</td>\n",
       "      <td>6</td>\n",
       "      <td>1</td>\n",
       "      <td>70071</td>\n",
       "      <td>closed</td>\n",
       "      <td>True</td>\n",
       "      <td>077ab02e5ca9dac5d3929320c689b31ae611af4f</td>\n",
       "      <td>75.7167</td>\n",
       "      <td>75.7167</td>\n",
       "    </tr>\n",
       "    <tr>\n",
       "      <th>2</th>\n",
       "      <td>aodn/aodn-portal</td>\n",
       "      <td>5</td>\n",
       "      <td>1</td>\n",
       "      <td>1</td>\n",
       "      <td>0</td>\n",
       "      <td>1</td>\n",
       "      <td>0</td>\n",
       "      <td>0</td>\n",
       "      <td>0</td>\n",
       "      <td>11472</td>\n",
       "      <td>...</td>\n",
       "      <td>14</td>\n",
       "      <td>0</td>\n",
       "      <td>38</td>\n",
       "      <td>1</td>\n",
       "      <td>59144</td>\n",
       "      <td>open</td>\n",
       "      <td>False</td>\n",
       "      <td>de03e9827db84d1cf9ca9196021f6f1fbf85fe4a</td>\n",
       "      <td>-1.0000</td>\n",
       "      <td>-1.0000</td>\n",
       "    </tr>\n",
       "    <tr>\n",
       "      <th>3</th>\n",
       "      <td>aodn/aodn-portal</td>\n",
       "      <td>5</td>\n",
       "      <td>1</td>\n",
       "      <td>1</td>\n",
       "      <td>0</td>\n",
       "      <td>4</td>\n",
       "      <td>0</td>\n",
       "      <td>3</td>\n",
       "      <td>0</td>\n",
       "      <td>22</td>\n",
       "      <td>...</td>\n",
       "      <td>38</td>\n",
       "      <td>0</td>\n",
       "      <td>49</td>\n",
       "      <td>1</td>\n",
       "      <td>70062</td>\n",
       "      <td>closed</td>\n",
       "      <td>True</td>\n",
       "      <td>2f8a40a7c821ebafb1bd9ab865ea00a6a4ab19e5</td>\n",
       "      <td>21.8000</td>\n",
       "      <td>21.8000</td>\n",
       "    </tr>\n",
       "    <tr>\n",
       "      <th>4</th>\n",
       "      <td>aodn/aodn-portal</td>\n",
       "      <td>5</td>\n",
       "      <td>2</td>\n",
       "      <td>1</td>\n",
       "      <td>0</td>\n",
       "      <td>2</td>\n",
       "      <td>0</td>\n",
       "      <td>1</td>\n",
       "      <td>0</td>\n",
       "      <td>5</td>\n",
       "      <td>...</td>\n",
       "      <td>62</td>\n",
       "      <td>0</td>\n",
       "      <td>29</td>\n",
       "      <td>1</td>\n",
       "      <td>59143</td>\n",
       "      <td>open</td>\n",
       "      <td>False</td>\n",
       "      <td>fd1115de4c2e32f9e46c1dc6edc011d0c83628fa</td>\n",
       "      <td>-1.0000</td>\n",
       "      <td>-1.0000</td>\n",
       "    </tr>\n",
       "    <tr>\n",
       "      <th>5</th>\n",
       "      <td>aodn/aodn-portal</td>\n",
       "      <td>6</td>\n",
       "      <td>2</td>\n",
       "      <td>1</td>\n",
       "      <td>0</td>\n",
       "      <td>2</td>\n",
       "      <td>0</td>\n",
       "      <td>1</td>\n",
       "      <td>0</td>\n",
       "      <td>5</td>\n",
       "      <td>...</td>\n",
       "      <td>62</td>\n",
       "      <td>0</td>\n",
       "      <td>36</td>\n",
       "      <td>1</td>\n",
       "      <td>59143</td>\n",
       "      <td>open</td>\n",
       "      <td>False</td>\n",
       "      <td>fd1115de4c2e32f9e46c1dc6edc011d0c83628fa</td>\n",
       "      <td>-1.0000</td>\n",
       "      <td>-1.0000</td>\n",
       "    </tr>\n",
       "    <tr>\n",
       "      <th>6</th>\n",
       "      <td>aodn/aodn-portal</td>\n",
       "      <td>7</td>\n",
       "      <td>1</td>\n",
       "      <td>1</td>\n",
       "      <td>0</td>\n",
       "      <td>0</td>\n",
       "      <td>0</td>\n",
       "      <td>0</td>\n",
       "      <td>0</td>\n",
       "      <td>2</td>\n",
       "      <td>...</td>\n",
       "      <td>66</td>\n",
       "      <td>17</td>\n",
       "      <td>33</td>\n",
       "      <td>1</td>\n",
       "      <td>37783</td>\n",
       "      <td>closed</td>\n",
       "      <td>True</td>\n",
       "      <td>6aedc7cf7ad3f00c0aca86ec61c356c21d8e2fe1</td>\n",
       "      <td>210.1000</td>\n",
       "      <td>210.1000</td>\n",
       "    </tr>\n",
       "    <tr>\n",
       "      <th>7</th>\n",
       "      <td>aodn/aodn-portal</td>\n",
       "      <td>7</td>\n",
       "      <td>1</td>\n",
       "      <td>1</td>\n",
       "      <td>0</td>\n",
       "      <td>0</td>\n",
       "      <td>0</td>\n",
       "      <td>0</td>\n",
       "      <td>0</td>\n",
       "      <td>7</td>\n",
       "      <td>...</td>\n",
       "      <td>68</td>\n",
       "      <td>17</td>\n",
       "      <td>69</td>\n",
       "      <td>1</td>\n",
       "      <td>37782</td>\n",
       "      <td>closed</td>\n",
       "      <td>True</td>\n",
       "      <td>369166a58afb4fcfc7ddab09be3f71d8718b5f89</td>\n",
       "      <td>152.9670</td>\n",
       "      <td>152.9670</td>\n",
       "    </tr>\n",
       "    <tr>\n",
       "      <th>8</th>\n",
       "      <td>aodn/aodn-portal</td>\n",
       "      <td>7</td>\n",
       "      <td>1</td>\n",
       "      <td>1</td>\n",
       "      <td>0</td>\n",
       "      <td>0</td>\n",
       "      <td>0</td>\n",
       "      <td>0</td>\n",
       "      <td>0</td>\n",
       "      <td>7</td>\n",
       "      <td>...</td>\n",
       "      <td>72</td>\n",
       "      <td>0</td>\n",
       "      <td>46</td>\n",
       "      <td>1</td>\n",
       "      <td>37781</td>\n",
       "      <td>closed</td>\n",
       "      <td>True</td>\n",
       "      <td>b1898c536f5b8d20f6108e37960f1e9f4864fc80</td>\n",
       "      <td>1250.7300</td>\n",
       "      <td>1250.7300</td>\n",
       "    </tr>\n",
       "    <tr>\n",
       "      <th>9</th>\n",
       "      <td>aodn/aodn-portal</td>\n",
       "      <td>7</td>\n",
       "      <td>1</td>\n",
       "      <td>1</td>\n",
       "      <td>0</td>\n",
       "      <td>1</td>\n",
       "      <td>0</td>\n",
       "      <td>0</td>\n",
       "      <td>0</td>\n",
       "      <td>108</td>\n",
       "      <td>...</td>\n",
       "      <td>72</td>\n",
       "      <td>0</td>\n",
       "      <td>108</td>\n",
       "      <td>1</td>\n",
       "      <td>37786</td>\n",
       "      <td>closed</td>\n",
       "      <td>True</td>\n",
       "      <td>4d6242f108ed7d4717b3090c13795091c95ef9e7</td>\n",
       "      <td>1199.3300</td>\n",
       "      <td>1199.3300</td>\n",
       "    </tr>\n",
       "  </tbody>\n",
       "</table>\n",
       "<p>10 rows × 39 columns</p>\n",
       "</div>"
      ],
      "text/plain": [
       "               slug  gh_team_size  commits  git_num_commits  \\\n",
       "0  aodn/aodn-portal             4        1                1   \n",
       "1  aodn/aodn-portal             5        1                1   \n",
       "2  aodn/aodn-portal             5        1                1   \n",
       "3  aodn/aodn-portal             5        1                1   \n",
       "4  aodn/aodn-portal             5        2                1   \n",
       "5  aodn/aodn-portal             6        2                1   \n",
       "6  aodn/aodn-portal             7        1                1   \n",
       "7  aodn/aodn-portal             7        1                1   \n",
       "8  aodn/aodn-portal             7        1                1   \n",
       "9  aodn/aodn-portal             7        1                1   \n",
       "\n",
       "   gh_num_issue_comments  general_comments  num_commit_comments  \\\n",
       "0                      0                 0                    0   \n",
       "1                      0                 0                    0   \n",
       "2                      0                 1                    0   \n",
       "3                      0                 4                    0   \n",
       "4                      0                 2                    0   \n",
       "5                      0                 2                    0   \n",
       "6                      0                 0                    0   \n",
       "7                      0                 0                    0   \n",
       "8                      0                 0                    0   \n",
       "9                      0                 1                    0   \n",
       "\n",
       "   pull_req_comments  gh_num_pr_comments  additions        ...         \\\n",
       "0                  0                   0          1        ...          \n",
       "1                  0                   0          2        ...          \n",
       "2                  0                   0      11472        ...          \n",
       "3                  3                   0         22        ...          \n",
       "4                  1                   0          5        ...          \n",
       "5                  1                   0          5        ...          \n",
       "6                  0                   0          2        ...          \n",
       "7                  0                   0          7        ...          \n",
       "8                  0                   0          7        ...          \n",
       "9                  0                   0        108        ...          \n",
       "\n",
       "   title_len  desc_len  gh_description_complexity  git_num_committers     Id  \\\n",
       "0         53         0                         84                   1  70072   \n",
       "1         58       128                          6                   1  70071   \n",
       "2         14         0                         38                   1  59144   \n",
       "3         38         0                         49                   1  70062   \n",
       "4         62         0                         29                   1  59143   \n",
       "5         62         0                         36                   1  59143   \n",
       "6         66        17                         33                   1  37783   \n",
       "7         68        17                         69                   1  37782   \n",
       "8         72         0                         46                   1  37781   \n",
       "9         72         0                        108                   1  37786   \n",
       "\n",
       "    state  merged                          merge_commit_sha  delta_mins_merge  \\\n",
       "0  closed    True  c3f6c953580397f684d76ab1952607c509d964b6            2.4500   \n",
       "1  closed    True  077ab02e5ca9dac5d3929320c689b31ae611af4f           75.7167   \n",
       "2    open   False  de03e9827db84d1cf9ca9196021f6f1fbf85fe4a           -1.0000   \n",
       "3  closed    True  2f8a40a7c821ebafb1bd9ab865ea00a6a4ab19e5           21.8000   \n",
       "4    open   False  fd1115de4c2e32f9e46c1dc6edc011d0c83628fa           -1.0000   \n",
       "5    open   False  fd1115de4c2e32f9e46c1dc6edc011d0c83628fa           -1.0000   \n",
       "6  closed    True  6aedc7cf7ad3f00c0aca86ec61c356c21d8e2fe1          210.1000   \n",
       "7  closed    True  369166a58afb4fcfc7ddab09be3f71d8718b5f89          152.9670   \n",
       "8  closed    True  b1898c536f5b8d20f6108e37960f1e9f4864fc80         1250.7300   \n",
       "9  closed    True  4d6242f108ed7d4717b3090c13795091c95ef9e7         1199.3300   \n",
       "\n",
       "   delta_mins_close  \n",
       "0            2.4500  \n",
       "1           75.7167  \n",
       "2           -1.0000  \n",
       "3           21.8000  \n",
       "4           -1.0000  \n",
       "5           -1.0000  \n",
       "6          210.1000  \n",
       "7          152.9670  \n",
       "8         1250.7300  \n",
       "9         1199.3300  \n",
       "\n",
       "[10 rows x 39 columns]"
      ]
     },
     "execution_count": 225,
     "metadata": {},
     "output_type": "execute_result"
    }
   ],
   "source": [
    "pull_req_data.head(n=10)"
   ]
  },
  {
   "cell_type": "code",
   "execution_count": 226,
   "metadata": {
    "collapsed": false
   },
   "outputs": [
    {
     "data": {
      "text/plain": [
       "(36665, 39)"
      ]
     },
     "execution_count": 226,
     "metadata": {},
     "output_type": "execute_result"
    }
   ],
   "source": [
    "pull_req_data.shape"
   ]
  },
  {
   "cell_type": "markdown",
   "metadata": {},
   "source": [
    "# Part II: Basic Statistics"
   ]
  },
  {
   "cell_type": "code",
   "execution_count": 227,
   "metadata": {
    "collapsed": false
   },
   "outputs": [
    {
     "data": {
      "text/html": [
       "<div>\n",
       "<table border=\"1\" class=\"dataframe\">\n",
       "  <thead>\n",
       "    <tr style=\"text-align: right;\">\n",
       "      <th></th>\n",
       "      <th>gh_team_size</th>\n",
       "      <th>commits</th>\n",
       "      <th>git_num_commits</th>\n",
       "      <th>gh_num_issue_comments</th>\n",
       "      <th>general_comments</th>\n",
       "      <th>num_commit_comments</th>\n",
       "      <th>pull_req_comments</th>\n",
       "      <th>gh_num_pr_comments</th>\n",
       "      <th>additions</th>\n",
       "      <th>deletions</th>\n",
       "      <th>...</th>\n",
       "      <th>gh_asserts_cases_per_kloc</th>\n",
       "      <th>gh_by_core_team_member</th>\n",
       "      <th>title_len</th>\n",
       "      <th>desc_len</th>\n",
       "      <th>gh_description_complexity</th>\n",
       "      <th>git_num_committers</th>\n",
       "      <th>Id</th>\n",
       "      <th>merged</th>\n",
       "      <th>delta_mins_merge</th>\n",
       "      <th>delta_mins_close</th>\n",
       "    </tr>\n",
       "  </thead>\n",
       "  <tbody>\n",
       "    <tr>\n",
       "      <th>count</th>\n",
       "      <td>36665.000000</td>\n",
       "      <td>36665.000000</td>\n",
       "      <td>36665.000000</td>\n",
       "      <td>36665.000000</td>\n",
       "      <td>36665.000000</td>\n",
       "      <td>36665.000000</td>\n",
       "      <td>36665.000000</td>\n",
       "      <td>36665.000000</td>\n",
       "      <td>36665.000000</td>\n",
       "      <td>36665.000000</td>\n",
       "      <td>...</td>\n",
       "      <td>36665.000000</td>\n",
       "      <td>36665.000000</td>\n",
       "      <td>36665.000000</td>\n",
       "      <td>36665.000000</td>\n",
       "      <td>36665.000000</td>\n",
       "      <td>36665.000000</td>\n",
       "      <td>36665.000000</td>\n",
       "      <td>36665</td>\n",
       "      <td>36665.000000</td>\n",
       "      <td>36665.000000</td>\n",
       "    </tr>\n",
       "    <tr>\n",
       "      <th>mean</th>\n",
       "      <td>25.193809</td>\n",
       "      <td>6.010719</td>\n",
       "      <td>1.717878</td>\n",
       "      <td>0.724942</td>\n",
       "      <td>3.349707</td>\n",
       "      <td>0.636902</td>\n",
       "      <td>1.281931</td>\n",
       "      <td>0.658257</td>\n",
       "      <td>349.076667</td>\n",
       "      <td>196.921969</td>\n",
       "      <td>...</td>\n",
       "      <td>287.454096</td>\n",
       "      <td>0.889513</td>\n",
       "      <td>41.747552</td>\n",
       "      <td>283.269685</td>\n",
       "      <td>44.388081</td>\n",
       "      <td>1.166562</td>\n",
       "      <td>42128.905223</td>\n",
       "      <td>0.698732</td>\n",
       "      <td>376.940854</td>\n",
       "      <td>491.254493</td>\n",
       "    </tr>\n",
       "    <tr>\n",
       "      <th>std</th>\n",
       "      <td>18.413552</td>\n",
       "      <td>48.522909</td>\n",
       "      <td>2.986312</td>\n",
       "      <td>1.929189</td>\n",
       "      <td>6.354062</td>\n",
       "      <td>3.607060</td>\n",
       "      <td>6.136695</td>\n",
       "      <td>5.808104</td>\n",
       "      <td>2142.849869</td>\n",
       "      <td>1926.777871</td>\n",
       "      <td>...</td>\n",
       "      <td>1474.071870</td>\n",
       "      <td>0.313500</td>\n",
       "      <td>18.472355</td>\n",
       "      <td>626.956832</td>\n",
       "      <td>140.761117</td>\n",
       "      <td>0.398071</td>\n",
       "      <td>22268.978586</td>\n",
       "      <td>0.458815</td>\n",
       "      <td>473.098729</td>\n",
       "      <td>487.162215</td>\n",
       "    </tr>\n",
       "    <tr>\n",
       "      <th>min</th>\n",
       "      <td>1.000000</td>\n",
       "      <td>0.000000</td>\n",
       "      <td>1.000000</td>\n",
       "      <td>0.000000</td>\n",
       "      <td>0.000000</td>\n",
       "      <td>0.000000</td>\n",
       "      <td>0.000000</td>\n",
       "      <td>0.000000</td>\n",
       "      <td>0.000000</td>\n",
       "      <td>0.000000</td>\n",
       "      <td>...</td>\n",
       "      <td>0.000000</td>\n",
       "      <td>0.000000</td>\n",
       "      <td>2.000000</td>\n",
       "      <td>0.000000</td>\n",
       "      <td>1.000000</td>\n",
       "      <td>0.000000</td>\n",
       "      <td>1.000000</td>\n",
       "      <td>False</td>\n",
       "      <td>-1.000000</td>\n",
       "      <td>-1.000000</td>\n",
       "    </tr>\n",
       "    <tr>\n",
       "      <th>25%</th>\n",
       "      <td>10.000000</td>\n",
       "      <td>1.000000</td>\n",
       "      <td>1.000000</td>\n",
       "      <td>0.000000</td>\n",
       "      <td>0.000000</td>\n",
       "      <td>0.000000</td>\n",
       "      <td>0.000000</td>\n",
       "      <td>0.000000</td>\n",
       "      <td>4.000000</td>\n",
       "      <td>1.000000</td>\n",
       "      <td>...</td>\n",
       "      <td>41.916948</td>\n",
       "      <td>1.000000</td>\n",
       "      <td>27.000000</td>\n",
       "      <td>15.000000</td>\n",
       "      <td>9.000000</td>\n",
       "      <td>1.000000</td>\n",
       "      <td>31198.000000</td>\n",
       "      <td>0</td>\n",
       "      <td>-1.000000</td>\n",
       "      <td>40.800000</td>\n",
       "    </tr>\n",
       "    <tr>\n",
       "      <th>50%</th>\n",
       "      <td>20.000000</td>\n",
       "      <td>1.000000</td>\n",
       "      <td>1.000000</td>\n",
       "      <td>0.000000</td>\n",
       "      <td>1.000000</td>\n",
       "      <td>0.000000</td>\n",
       "      <td>0.000000</td>\n",
       "      <td>0.000000</td>\n",
       "      <td>20.000000</td>\n",
       "      <td>4.000000</td>\n",
       "      <td>...</td>\n",
       "      <td>144.552106</td>\n",
       "      <td>1.000000</td>\n",
       "      <td>40.000000</td>\n",
       "      <td>101.000000</td>\n",
       "      <td>21.000000</td>\n",
       "      <td>1.000000</td>\n",
       "      <td>38912.000000</td>\n",
       "      <td>1</td>\n",
       "      <td>109.617000</td>\n",
       "      <td>302.367000</td>\n",
       "    </tr>\n",
       "    <tr>\n",
       "      <th>75%</th>\n",
       "      <td>39.000000</td>\n",
       "      <td>2.000000</td>\n",
       "      <td>1.000000</td>\n",
       "      <td>1.000000</td>\n",
       "      <td>4.000000</td>\n",
       "      <td>0.000000</td>\n",
       "      <td>0.000000</td>\n",
       "      <td>0.000000</td>\n",
       "      <td>94.000000</td>\n",
       "      <td>22.000000</td>\n",
       "      <td>...</td>\n",
       "      <td>228.416016</td>\n",
       "      <td>1.000000</td>\n",
       "      <td>54.000000</td>\n",
       "      <td>292.000000</td>\n",
       "      <td>46.000000</td>\n",
       "      <td>1.000000</td>\n",
       "      <td>59254.000000</td>\n",
       "      <td>1</td>\n",
       "      <td>747.167000</td>\n",
       "      <td>938.117000</td>\n",
       "    </tr>\n",
       "    <tr>\n",
       "      <th>max</th>\n",
       "      <td>89.000000</td>\n",
       "      <td>1887.000000</td>\n",
       "      <td>151.000000</td>\n",
       "      <td>39.000000</td>\n",
       "      <td>136.000000</td>\n",
       "      <td>167.000000</td>\n",
       "      <td>327.000000</td>\n",
       "      <td>661.000000</td>\n",
       "      <td>116015.000000</td>\n",
       "      <td>43469.000000</td>\n",
       "      <td>...</td>\n",
       "      <td>135000.000000</td>\n",
       "      <td>1.000000</td>\n",
       "      <td>180.000000</td>\n",
       "      <td>12687.000000</td>\n",
       "      <td>7476.000000</td>\n",
       "      <td>6.000000</td>\n",
       "      <td>81785.000000</td>\n",
       "      <td>True</td>\n",
       "      <td>1439.200000</td>\n",
       "      <td>1439.200000</td>\n",
       "    </tr>\n",
       "  </tbody>\n",
       "</table>\n",
       "<p>8 rows × 36 columns</p>\n",
       "</div>"
      ],
      "text/plain": [
       "       gh_team_size       commits  git_num_commits  gh_num_issue_comments  \\\n",
       "count  36665.000000  36665.000000     36665.000000           36665.000000   \n",
       "mean      25.193809      6.010719         1.717878               0.724942   \n",
       "std       18.413552     48.522909         2.986312               1.929189   \n",
       "min        1.000000      0.000000         1.000000               0.000000   \n",
       "25%       10.000000      1.000000         1.000000               0.000000   \n",
       "50%       20.000000      1.000000         1.000000               0.000000   \n",
       "75%       39.000000      2.000000         1.000000               1.000000   \n",
       "max       89.000000   1887.000000       151.000000              39.000000   \n",
       "\n",
       "       general_comments  num_commit_comments  pull_req_comments  \\\n",
       "count      36665.000000         36665.000000       36665.000000   \n",
       "mean           3.349707             0.636902           1.281931   \n",
       "std            6.354062             3.607060           6.136695   \n",
       "min            0.000000             0.000000           0.000000   \n",
       "25%            0.000000             0.000000           0.000000   \n",
       "50%            1.000000             0.000000           0.000000   \n",
       "75%            4.000000             0.000000           0.000000   \n",
       "max          136.000000           167.000000         327.000000   \n",
       "\n",
       "       gh_num_pr_comments      additions     deletions        ...         \\\n",
       "count        36665.000000   36665.000000  36665.000000        ...          \n",
       "mean             0.658257     349.076667    196.921969        ...          \n",
       "std              5.808104    2142.849869   1926.777871        ...          \n",
       "min              0.000000       0.000000      0.000000        ...          \n",
       "25%              0.000000       4.000000      1.000000        ...          \n",
       "50%              0.000000      20.000000      4.000000        ...          \n",
       "75%              0.000000      94.000000     22.000000        ...          \n",
       "max            661.000000  116015.000000  43469.000000        ...          \n",
       "\n",
       "       gh_asserts_cases_per_kloc  gh_by_core_team_member     title_len  \\\n",
       "count               36665.000000            36665.000000  36665.000000   \n",
       "mean                  287.454096                0.889513     41.747552   \n",
       "std                  1474.071870                0.313500     18.472355   \n",
       "min                     0.000000                0.000000      2.000000   \n",
       "25%                    41.916948                1.000000     27.000000   \n",
       "50%                   144.552106                1.000000     40.000000   \n",
       "75%                   228.416016                1.000000     54.000000   \n",
       "max                135000.000000                1.000000    180.000000   \n",
       "\n",
       "           desc_len  gh_description_complexity  git_num_committers  \\\n",
       "count  36665.000000               36665.000000        36665.000000   \n",
       "mean     283.269685                  44.388081            1.166562   \n",
       "std      626.956832                 140.761117            0.398071   \n",
       "min        0.000000                   1.000000            0.000000   \n",
       "25%       15.000000                   9.000000            1.000000   \n",
       "50%      101.000000                  21.000000            1.000000   \n",
       "75%      292.000000                  46.000000            1.000000   \n",
       "max    12687.000000                7476.000000            6.000000   \n",
       "\n",
       "                 Id    merged  delta_mins_merge  delta_mins_close  \n",
       "count  36665.000000     36665      36665.000000      36665.000000  \n",
       "mean   42128.905223  0.698732        376.940854        491.254493  \n",
       "std    22268.978586  0.458815        473.098729        487.162215  \n",
       "min        1.000000     False         -1.000000         -1.000000  \n",
       "25%    31198.000000         0         -1.000000         40.800000  \n",
       "50%    38912.000000         1        109.617000        302.367000  \n",
       "75%    59254.000000         1        747.167000        938.117000  \n",
       "max    81785.000000      True       1439.200000       1439.200000  \n",
       "\n",
       "[8 rows x 36 columns]"
      ]
     },
     "execution_count": 227,
     "metadata": {},
     "output_type": "execute_result"
    }
   ],
   "source": [
    "pull_req_data.describe()"
   ]
  },
  {
   "cell_type": "code",
   "execution_count": 228,
   "metadata": {
    "collapsed": false
   },
   "outputs": [
    {
     "name": "stdout",
     "output_type": "stream",
     "text": [
      "Total pull requests in our given data =  36665\n",
      "Accepted pull requests =  25619\n",
      "Percentage of Accepted pull requests = 69.87\n"
     ]
    }
   ],
   "source": [
    "total_pull_req = len(pull_req_data)\n",
    "pull_reqs_accepted = len(pull_req_data[pull_req_data[\"merged\"] == True])\n",
    "print 'Total pull requests in our given data = ', total_pull_req\n",
    "print 'Accepted pull requests = ', pull_reqs_accepted\n",
    "print 'Percentage of Accepted pull requests = %.2f' % ((float(pull_reqs_accepted)/float(total_pull_req)) * 100)\n",
    "#perc_accepted = len(pulllen(pull_req_data[pull_req_data[\"merged\"] == True])"
   ]
  },
  {
   "cell_type": "markdown",
   "metadata": {},
   "source": [
    "# Preprocessing (Split Target Feature and Columns)"
   ]
  },
  {
   "cell_type": "code",
   "execution_count": 229,
   "metadata": {
    "collapsed": true
   },
   "outputs": [],
   "source": [
    "def convertToNonNegatives(x):\n",
    "    return round(x, -1)"
   ]
  },
  {
   "cell_type": "code",
   "execution_count": 230,
   "metadata": {
    "collapsed": false
   },
   "outputs": [],
   "source": [
    "pull_req_data['delta_mins_merge'] = pull_req_data['delta_mins_merge'].apply(convertToNonNegatives)\n",
    "pull_req_data['delta_mins_close'] = pull_req_data['delta_mins_close'].apply(convertToNonNegatives)"
   ]
  },
  {
   "cell_type": "code",
   "execution_count": 231,
   "metadata": {
    "collapsed": false
   },
   "outputs": [
    {
     "data": {
      "text/plain": [
       "count    36665.000000\n",
       "mean       377.207964\n",
       "std        472.810602\n",
       "min          0.000000\n",
       "25%         -0.000000\n",
       "50%        110.000000\n",
       "75%        750.000000\n",
       "max       1440.000000\n",
       "Name: delta_mins_merge, dtype: float64"
      ]
     },
     "execution_count": 231,
     "metadata": {},
     "output_type": "execute_result"
    }
   ],
   "source": [
    "pull_req_data['delta_mins_merge'].describe()"
   ]
  },
  {
   "cell_type": "code",
   "execution_count": 232,
   "metadata": {
    "collapsed": false
   },
   "outputs": [
    {
     "data": {
      "text/plain": [
       "array([1, 1, 0, ..., 1, 1, 1])"
      ]
     },
     "execution_count": 232,
     "metadata": {},
     "output_type": "execute_result"
    }
   ],
   "source": [
    "# This will be our target variable\n",
    "Y = np.array(pull_req_data['merged'].apply(int))\n",
    "Y\n",
    "#dropped_features = pull_req_data.drop(['Id', 'state', 'merged', 'merge_commit_sha'], axis=1)\n",
    "#dropped_features"
   ]
  },
  {
   "cell_type": "code",
   "execution_count": 233,
   "metadata": {
    "collapsed": false
   },
   "outputs": [
    {
     "data": {
      "text/plain": [
       "(36665, 32)"
      ]
     },
     "execution_count": 233,
     "metadata": {},
     "output_type": "execute_result"
    }
   ],
   "source": [
    "# Drop these features because they are redundant / we dont need to feed them in the ML model\n",
    "# Note here:- We are removing delta_mins_merge and delta_mins_close because from the user's perspective\n",
    "# They are not controllable\n",
    "dropped_features = pull_req_data.drop(['delta_mins_merge', 'delta_mins_close', 'slug', 'Id', 'state', 'merged', 'merge_commit_sha'], axis=1)\n",
    "X = dropped_features.as_matrix().astype(np.float)\n",
    "X.shape"
   ]
  },
  {
   "cell_type": "code",
   "execution_count": 236,
   "metadata": {
    "collapsed": false
   },
   "outputs": [
    {
     "name": "stdout",
     "output_type": "stream",
     "text": [
      "Index([u'gh_team_size', u'commits', u'git_num_commits',\n",
      "       u'gh_num_issue_comments', u'general_comments', u'num_commit_comments',\n",
      "       u'pull_req_comments', u'gh_num_pr_comments', u'additions', u'deletions',\n",
      "       u'churn', u'changed_files', u'gh_src_churn', u'gh_test_churn',\n",
      "       u'gh_files_added', u'gh_files_deleted', u'gh_files_modified',\n",
      "       u'gh_tests_added', u'gh_tests_deleted', u'gh_src_files',\n",
      "       u'gh_doc_files', u'gh_other_files', u'gh_commits_on_files_touched',\n",
      "       u'gh_sloc', u'gh_test_lines_per_kloc', u'gh_test_cases_per_kloc',\n",
      "       u'gh_asserts_cases_per_kloc', u'gh_by_core_team_member', u'title_len',\n",
      "       u'desc_len', u'gh_description_complexity', u'git_num_committers'],\n",
      "      dtype='object')\n"
     ]
    }
   ],
   "source": [
    "features = dropped_features.columns\n",
    "pprint.pprint(features)"
   ]
  },
  {
   "cell_type": "markdown",
   "metadata": {},
   "source": [
    "# Merge time statistics"
   ]
  },
  {
   "cell_type": "code",
   "execution_count": 184,
   "metadata": {
    "collapsed": false
   },
   "outputs": [
    {
     "data": {
      "image/png": "[encoded data removed]",
      "text/plain": [
       "<matplotlib.figure.Figure at 0x10d58f510>"
      ]
     },
     "metadata": {},
     "output_type": "display_data"
    }
   ],
   "source": [
    "plt.rcParams[\"figure.figsize\"] = [12, 9]\n",
    "data_to_graph = (pull_req_data[pull_req_data['delta_mins_merge'] != 0])['delta_mins_merge']\n",
    "plt.hist(data_to_graph, bins=50)\n",
    "plt.title(\"Mins to Merge vs Counts\")\n",
    "plt.xlabel(\"Mins to Merge\")\n",
    "plt.ylabel(\"Number of pull requests\")\n",
    "plt.show()"
   ]
  },
  {
   "cell_type": "code",
   "execution_count": 185,
   "metadata": {
    "collapsed": false
   },
   "outputs": [
    {
     "data": {
      "image/png": "[encoded data removed]",
      "text/plain": [
       "<matplotlib.figure.Figure at 0x11a3049d0>"
      ]
     },
     "metadata": {},
     "output_type": "display_data"
    }
   ],
   "source": [
    "#data_to_graph\n",
    "bp = plt.boxplot(np.array(data_to_graph))\n",
    "#bp['boxes'].set( color='#7570b3', linewidth=2)\n",
    "#bp['boxes'].set( facecolor = '#1b9e77' )\n",
    "#bp.show()\n",
    "#bp['boxes']\n",
    "plt.setp(bp['boxes'], color='Blue', linewidth=2)\n",
    "plt.show()"
   ]
  },
  {
   "cell_type": "code",
   "execution_count": 186,
   "metadata": {
    "collapsed": false
   },
   "outputs": [
    {
     "data": {
      "text/plain": [
       "count    24583.000000\n",
       "mean       562.597323\n",
       "std        478.665167\n",
       "min         10.000000\n",
       "25%        110.000000\n",
       "50%        410.000000\n",
       "75%       1000.000000\n",
       "max       1440.000000\n",
       "Name: delta_mins_merge, dtype: float64"
      ]
     },
     "execution_count": 186,
     "metadata": {},
     "output_type": "execute_result"
    }
   ],
   "source": [
    "data_to_graph.describe()"
   ]
  },
  {
   "cell_type": "markdown",
   "metadata": {},
   "source": [
    "# Part III: Feature Selection"
   ]
  },
  {
   "cell_type": "code",
   "execution_count": 237,
   "metadata": {
    "collapsed": true
   },
   "outputs": [],
   "source": [
    "from sklearn.feature_selection import VarianceThreshold\n",
    "from sklearn.feature_selection import SelectKBest\n",
    "from sklearn.feature_selection import chi2\n",
    "from sklearn.linear_model import LogisticRegression\n",
    "from sklearn.feature_selection import RFE\n",
    "from sklearn import datasets\n",
    "from sklearn import metrics\n",
    "from sklearn.datasets import make_classification\n",
    "from sklearn.ensemble import ExtraTreesClassifier\n",
    "from sklearn.ensemble import RandomForestRegressor\n",
    "from sklearn.cross_validation import cross_val_score, ShuffleSplit\n",
    "import pprint"
   ]
  },
  {
   "cell_type": "markdown",
   "metadata": {},
   "source": [
    "# Trees Ensemble Feature Selection"
   ]
  },
  {
   "cell_type": "code",
   "execution_count": 248,
   "metadata": {
    "collapsed": false
   },
   "outputs": [
    {
     "name": "stdout",
     "output_type": "stream",
     "text": [
      "[ 0.03065142  0.06423291  0.01135296  0.01435962  0.09400317  0.01203855\n",
      "  0.03713021  0.01023443  0.07326251  0.06507026  0.06805259  0.06154327\n",
      "  0.01800692  0.01487095  0.0112941   0.00644924  0.01712558  0.00107935\n",
      "  0.00417652  0.01728483  0.01217379  0.01278266  0.02245864  0.02845181\n",
      "  0.02406806  0.02376812  0.02387079  0.00397033  0.08405716  0.09345062\n",
      "  0.03068401  0.00804463]\n",
      "[(0.094003172320783715, 'general_comments'),\n",
      " (0.093450618199561561, 'desc_len'),\n",
      " (0.084057156445772288, 'title_len'),\n",
      " (0.073262510029779293, 'additions'),\n",
      " (0.068052593189160474, 'churn'),\n",
      " (0.065070262724836084, 'deletions'),\n",
      " (0.064232911534850487, 'commits'),\n",
      " (0.06154327093377901, 'changed_files'),\n",
      " (0.037130206666877101, 'pull_req_comments'),\n",
      " (0.030684007044996898, 'gh_description_complexity'),\n",
      " (0.030651419791924085, 'gh_team_size'),\n",
      " (0.028451814398717665, 'gh_sloc'),\n",
      " (0.024068055630787843, 'gh_test_lines_per_kloc'),\n",
      " (0.023870793998529916, 'gh_asserts_cases_per_kloc'),\n",
      " (0.023768115887782357, 'gh_test_cases_per_kloc'),\n",
      " (0.022458641251205627, 'gh_commits_on_files_touched'),\n",
      " (0.018006920565358051, 'gh_src_churn'),\n",
      " (0.017284834064309761, 'gh_src_files'),\n",
      " (0.017125577929092375, 'gh_files_modified'),\n",
      " (0.014870950771818263, 'gh_test_churn'),\n",
      " (0.014359615352061544, 'gh_num_issue_comments'),\n",
      " (0.01278266375241598, 'gh_other_files'),\n",
      " (0.012173787907160038, 'gh_doc_files'),\n",
      " (0.01203854655890944, 'num_commit_comments'),\n",
      " (0.011352957740872988, 'git_num_commits'),\n",
      " (0.011294098839067897, 'gh_files_added'),\n",
      " (0.010234428327595137, 'gh_num_pr_comments'),\n",
      " (0.0080446342761772895, 'git_num_committers'),\n",
      " (0.0064492372378645909, 'gh_files_deleted'),\n",
      " (0.0041765152539339993, 'gh_tests_deleted'),\n",
      " (0.0039703278050246382, 'gh_by_core_team_member'),\n",
      " (0.0010793535689935436, 'gh_tests_added')]\n"
     ]
    }
   ],
   "source": [
    "# Build a forest and compute the feature importances\n",
    "forest = ExtraTreesClassifier(n_estimators=250,\n",
    "                              random_state=0)\n",
    "\n",
    "forest.fit(X, Y)\n",
    "importances = forest.feature_importances_\n",
    "print importances\n",
    "std = np.std([tree.feature_importances_ for tree in forest.estimators_],\n",
    "             axis=0)\n",
    "indices = np.argsort(importances)[::-1]\n",
    "\n",
    "scores = []\n",
    "names = dropped_features.columns\n",
    "# Print the feature ranking\n",
    "#print 'Names = ', names\n",
    "#print(\"Feature ranking:\")\n",
    "\n",
    "for f in range(X.shape[1]):\n",
    "    #print(\"%d. feature %d (%f)\" % (f + 1, indices[f], importances[indices[f]]))\n",
    "    scores.append((importances[indices[f]], names[indices[f]]))\n",
    "\n",
    "pprint.pprint(sorted(scores, reverse=True))\n",
    "# Plot the feature importances of the forest\n",
    "# plt.figure()\n",
    "# plt.title(\"Feature importances\")\n",
    "# plt.bar(range(X.shape[1]), importances[indices],\n",
    "#        color=\"r\", yerr=std[indices], align=\"center\")\n",
    "# plt.xticks(range(X.shape[1]), indices)\n",
    "# plt.xlim([-1, X.shape[1]])\n",
    "# plt.show()"
   ]
  },
  {
   "cell_type": "code",
   "execution_count": 245,
   "metadata": {
    "collapsed": false
   },
   "outputs": [
    {
     "name": "stdout",
     "output_type": "stream",
     "text": [
      "[(0.065, 'general_comments'),\n",
      " (0.053, 'desc_len'),\n",
      " (0.045, 'commits'),\n",
      " (0.042, 'additions'),\n",
      " (0.037, 'churn'),\n",
      " (0.022, 'title_len'),\n",
      " (0.02, 'changed_files'),\n",
      " (0.017, 'deletions'),\n",
      " (0.007, 'gh_test_lines_per_kloc'),\n",
      " (0.006, 'gh_sloc'),\n",
      " (0.006, 'gh_asserts_cases_per_kloc'),\n",
      " (0.005, 'pull_req_comments'),\n",
      " (0.005, 'gh_test_cases_per_kloc'),\n",
      " (0.005, 'gh_description_complexity'),\n",
      " (0.003, 'gh_team_size'),\n",
      " (0.0, 'num_commit_comments'),\n",
      " (-0.0, 'git_num_committers'),\n",
      " (-0.0, 'git_num_commits'),\n",
      " (-0.0, 'gh_src_churn'),\n",
      " (-0.0, 'gh_other_files'),\n",
      " (-0.0, 'gh_num_issue_comments'),\n",
      " (0.0, 'gh_files_modified'),\n",
      " (-0.0, 'gh_files_deleted'),\n",
      " (-0.0, 'gh_files_added'),\n",
      " (-0.0, 'gh_doc_files'),\n",
      " (-0.0, 'gh_commits_on_files_touched'),\n",
      " (0.0, 'gh_by_core_team_member'),\n",
      " (-0.001, 'gh_tests_deleted'),\n",
      " (-0.001, 'gh_tests_added'),\n",
      " (-0.001, 'gh_test_churn'),\n",
      " (-0.001, 'gh_src_files'),\n",
      " (-0.001, 'gh_num_pr_comments')]\n"
     ]
    }
   ],
   "source": [
    "rand_for = RandomForestRegressor(n_estimators=50, max_depth=4)\n",
    "scores = []\n",
    "names = dropped_features.columns\n",
    "for i in range(X.shape[1]):\n",
    "    score = cross_val_score(rand_for, X[:, i:i+1], Y, scoring=\"r2\",\n",
    "                              cv=ShuffleSplit(len(X), 3, .3))\n",
    "    scores.append((round(np.mean(score), 3), names[i]))\n",
    "pprint.pprint(sorted(scores, reverse=True))"
   ]
  },
  {
   "cell_type": "markdown",
   "metadata": {},
   "source": [
    "# Univariate Feature Selection"
   ]
  },
  {
   "cell_type": "code",
   "execution_count": 246,
   "metadata": {
    "collapsed": false
   },
   "outputs": [
    {
     "name": "stdout",
     "output_type": "stream",
     "text": [
      "1) churn - 9721908.650009\n",
      "2) additions - 6989824.738701\n",
      "3) gh_sloc - 4975088.599997\n",
      "4) deletions - 2795072.252169\n",
      "5) desc_len - 581175.353609\n",
      "6) changed_files - 301806.253978\n",
      "7) commits - 160693.487392\n",
      "8) gh_test_lines_per_kloc - 12021.406493\n",
      "9) general_comments - 10708.764344\n",
      "10) gh_description_complexity - 7064.366159\n",
      "11) gh_src_churn - 1426.750542\n",
      "12) gh_test_churn - 1074.534246\n",
      "13) gh_commits_on_files_touched - 722.034010\n",
      "14) title_len - 592.278876\n",
      "15) gh_doc_files - 551.847572\n",
      "16) gh_test_cases_per_kloc - 406.256094\n",
      "17) pull_req_comments - 368.630404\n",
      "18) gh_files_modified - 197.755180\n",
      "19) gh_tests_deleted - 94.946529\n",
      "20) gh_asserts_cases_per_kloc - 47.297462\n",
      "21) gh_num_pr_comments - 36.206189\n",
      "22) git_num_commits - 27.271028\n",
      "23) gh_team_size - 26.378798\n",
      "24) gh_tests_added - 14.348207\n",
      "25) gh_src_files - 11.359242\n",
      "26) gh_files_added - 4.970554\n",
      "27) gh_other_files - 4.896403\n",
      "28) num_commit_comments - 3.664546\n",
      "29) gh_files_deleted - 3.513385\n",
      "30) gh_by_core_team_member - 0.851033\n",
      "31) gh_num_issue_comments - 0.748379\n",
      "32) git_num_committers - 0.179082\n"
     ]
    }
   ],
   "source": [
    "ch2 = SelectKBest(chi2,\"all\")\n",
    "X_train = ch2.fit_transform(X, Y)\n",
    "top_ranked_features = sorted(enumerate(ch2.scores_),key=lambda x:x[1], reverse=True)[:32]\n",
    "for index,(position,score) in enumerate(top_ranked_features):\n",
    "    print '%d) %s - %f' % (index+1, names[position], score)\n",
    "#top_ranked_features"
   ]
  },
  {
   "cell_type": "markdown",
   "metadata": {},
   "source": [
    "## Recursive Feature Elimination"
   ]
  },
  {
   "cell_type": "code",
   "execution_count": 247,
   "metadata": {
    "collapsed": false
   },
   "outputs": [
    {
     "name": "stdout",
     "output_type": "stream",
     "text": [
      "[('commits', 1),\n",
      " ('git_num_commits', 1),\n",
      " ('gh_num_issue_comments', 1),\n",
      " ('general_comments', 1),\n",
      " ('pull_req_comments', 1),\n",
      " ('gh_tests_added', 1),\n",
      " ('gh_doc_files', 1),\n",
      " ('gh_by_core_team_member', 1),\n",
      " ('title_len', 1),\n",
      " ('git_num_committers', 1),\n",
      " ('num_commit_comments', 2),\n",
      " ('gh_files_modified', 3),\n",
      " ('gh_src_files', 4),\n",
      " ('gh_files_deleted', 5),\n",
      " ('gh_team_size', 6),\n",
      " ('gh_num_pr_comments', 7),\n",
      " ('changed_files', 8),\n",
      " ('gh_description_complexity', 9),\n",
      " ('gh_other_files', 10),\n",
      " ('gh_test_cases_per_kloc', 11),\n",
      " ('gh_asserts_cases_per_kloc', 12),\n",
      " ('gh_files_added', 13),\n",
      " ('gh_tests_deleted', 14),\n",
      " ('deletions', 15),\n",
      " ('desc_len', 16),\n",
      " ('additions', 17),\n",
      " ('gh_test_lines_per_kloc', 18),\n",
      " ('churn', 19),\n",
      " ('gh_test_churn', 20),\n",
      " ('gh_src_churn', 21),\n",
      " ('gh_commits_on_files_touched', 22),\n",
      " ('gh_sloc', 23)]\n"
     ]
    }
   ],
   "source": [
    "# create a base classifier used to evaluate a subset of attributes\n",
    "model = LogisticRegression()\n",
    "top_n_features = 10\n",
    "# create the RFE model and select top 10 attributes\n",
    "rfe = RFE(model, top_n_features)\n",
    "rfe = rfe.fit(X, Y)\n",
    "# summarize the selection of the attributes\n",
    "#print(rfe.support_)\n",
    "#print(rfe.ranking_)\n",
    "\n",
    "scores = []\n",
    "for feature_name,rank in zip(names, rfe.ranking_):\n",
    "    scores.append((feature_name, rank))\n",
    "\n",
    "pprint.pprint(sorted(scores, key=lambda x:x[1]))\n"
   ]
  },
  {
   "cell_type": "markdown",
   "metadata": {},
   "source": [
    "# Part IV: Modelling Phase"
   ]
  },
  {
   "cell_type": "code",
   "execution_count": 294,
   "metadata": {
    "collapsed": false
   },
   "outputs": [
    {
     "ename": "SyntaxError",
     "evalue": "invalid syntax (<ipython-input-294-598727808e83>, line 12)",
     "output_type": "error",
     "traceback": [
      "\u001b[0;36m  File \u001b[0;32m\"<ipython-input-294-598727808e83>\"\u001b[0;36m, line \u001b[0;32m12\u001b[0m\n\u001b[0;31m    'gh_sloc']\u001b[0m\n\u001b[0m             ^\u001b[0m\n\u001b[0;31mSyntaxError\u001b[0m\u001b[0;31m:\u001b[0m invalid syntax\n"
     ]
    }
   ],
   "source": [
    "# Take only the representative features using previous phase\n",
    "features = [\n",
    "'general_comments',\n",
    "'desc_len',\n",
    "'commits',\n",
    "'additions',\n",
    "'churn',\n",
    "'title_len',\n",
    "'changed_files',\n",
    "'deletions',\n",
    "'gh_test_lines_per_kloc']\n",
    "'gh_sloc']\n",
    "# 'gh_asserts_cases_per_kloc',\n",
    "# 'pull_req_comments',\n",
    "# 'gh_test_cases_per_kloc',\n",
    "# 'gh_description_complexity',\n",
    "# 'gh_team_size']\n",
    "X_new = dropped_features[features].as_matrix().astype(np.float)\n",
    "X_new.shape\n"
   ]
  },
  {
   "cell_type": "code",
   "execution_count": 295,
   "metadata": {
    "collapsed": false
   },
   "outputs": [
    {
     "name": "stdout",
     "output_type": "stream",
     "text": [
      "(29332, 9)\n",
      "(29332,)\n",
      "(7333, 9)\n",
      "(7333,)\n"
     ]
    }
   ],
   "source": [
    "X_train, X_test, y_train, y_test = train_test_split(X_new, Y, test_size = 0.20, random_state = 7)\n",
    "print X_train.shape\n",
    "print y_train.shape\n",
    "\n",
    "print X_test.shape\n",
    "print y_test.shape"
   ]
  },
  {
   "cell_type": "code",
   "execution_count": 296,
   "metadata": {
    "collapsed": true
   },
   "outputs": [],
   "source": [
    "from sklearn import metrics\n",
    "from sklearn.linear_model import LogisticRegression\n",
    "from sklearn.neighbors import KNeighborsClassifier\n",
    "from sklearn.tree import DecisionTreeClassifier\n",
    "from sklearn.metrics import accuracy_score\n",
    "from sklearn.cross_validation import train_test_split\n",
    "from sklearn.cross_validation import cross_val_predict\n",
    "from sklearn.learning_curve import validation_curve\n",
    "from sklearn.ensemble import AdaBoostClassifier\n",
    "from sklearn.ensemble import RandomForestClassifier"
   ]
  },
  {
   "cell_type": "code",
   "execution_count": 297,
   "metadata": {
    "collapsed": false
   },
   "outputs": [
    {
     "name": "stdout",
     "output_type": "stream",
     "text": [
      "LogisticRegression(C=1.0, class_weight=None, dual=False, fit_intercept=True,\n",
      "          intercept_scaling=1, max_iter=100, multi_class='ovr', n_jobs=1,\n",
      "          penalty='l2', random_state=None, solver='liblinear', tol=0.0001,\n",
      "          verbose=0, warm_start=False)\n",
      "             precision    recall  f1-score   support\n",
      "\n",
      "          0       0.59      0.09      0.15      2195\n",
      "          1       0.71      0.97      0.82      5138\n",
      "\n",
      "avg / total       0.68      0.71      0.62      7333\n",
      "\n",
      "[[ 190 2005]\n",
      " [ 130 5008]]\n"
     ]
    },
    {
     "data": {
      "text/plain": [
       "0.70885040229101326"
      ]
     },
     "execution_count": 297,
     "metadata": {},
     "output_type": "execute_result"
    }
   ],
   "source": [
    "# fit a logistic regression model to the data\n",
    "model = LogisticRegression()\n",
    "model.fit(X_train, y_train)\n",
    "print(model)\n",
    "\n",
    "# make predictions\n",
    "expected = Y\n",
    "predicted = model.predict(X_test)\n",
    "\n",
    "# summarize the fit of the model\n",
    "print(metrics.classification_report(y_test, predicted))\n",
    "print(metrics.confusion_matrix(y_test, predicted))\n",
    "\n",
    "accuracy_score(y_test, predicted)"
   ]
  },
  {
   "cell_type": "code",
   "execution_count": 312,
   "metadata": {
    "collapsed": false
   },
   "outputs": [
    {
     "name": "stdout",
     "output_type": "stream",
     "text": [
      "KNeighborsClassifier(algorithm='auto', leaf_size=30, metric='minkowski',\n",
      "           metric_params=None, n_jobs=1, n_neighbors=3, p=2,\n",
      "           weights='uniform')\n",
      "             precision    recall  f1-score   support\n",
      "\n",
      "          0       0.62      0.54      0.58      2195\n",
      "          1       0.81      0.86      0.84      5138\n",
      "\n",
      "avg / total       0.76      0.76      0.76      7333\n",
      "\n",
      "[[1189 1006]\n",
      " [ 723 4415]]\n"
     ]
    },
    {
     "data": {
      "text/plain": [
       "0.76421655529796806"
      ]
     },
     "execution_count": 312,
     "metadata": {},
     "output_type": "execute_result"
    }
   ],
   "source": [
    "# fit a logistic regression model to the data\n",
    "model = KNeighborsClassifier(n_neighbors=3)\n",
    "model.fit(X_train, y_train)\n",
    "print(model)\n",
    "\n",
    "# make predictions\n",
    "expected = Y\n",
    "predicted = model.predict(X_test)\n",
    "\n",
    "# summarize the fit of the model\n",
    "print(metrics.classification_report(y_test, predicted))\n",
    "print(metrics.confusion_matrix(y_test, predicted))\n",
    "\n",
    "accuracy_score(y_test, predicted)"
   ]
  },
  {
   "cell_type": "code",
   "execution_count": 320,
   "metadata": {
    "collapsed": false
   },
   "outputs": [
    {
     "name": "stdout",
     "output_type": "stream",
     "text": [
      "DecisionTreeClassifier(class_weight=None, criterion='entropy', max_depth=40,\n",
      "            max_features=None, max_leaf_nodes=None, min_samples_leaf=1,\n",
      "            min_samples_split=2, min_weight_fraction_leaf=0.0,\n",
      "            presort=False, random_state=None, splitter='best')\n",
      "             precision    recall  f1-score   support\n",
      "\n",
      "          0       0.97      0.97      0.97      2195\n",
      "          1       0.99      0.99      0.99      5138\n",
      "\n",
      "avg / total       0.98      0.98      0.98      7333\n",
      "\n",
      "[[2138   57]\n",
      " [  75 5063]]\n"
     ]
    },
    {
     "data": {
      "text/plain": [
       "0.98199918178098999"
      ]
     },
     "execution_count": 320,
     "metadata": {},
     "output_type": "execute_result"
    }
   ],
   "source": [
    "# fit a logistic regression model to the data\n",
    "model = DecisionTreeClassifier(max_depth=40,criterion=\"entropy\")\n",
    "model.fit(X_train, y_train)\n",
    "print(model)\n",
    "\n",
    "# make predictions\n",
    "expected = Y\n",
    "predicted = model.predict(X_test)\n",
    "\n",
    "# summarize the fit of the model\n",
    "print(metrics.classification_report(y_test, predicted))\n",
    "print(metrics.confusion_matrix(y_test, predicted))\n",
    "\n",
    "accuracy_score(y_test, predicted)"
   ]
  },
  {
   "cell_type": "code",
   "execution_count": 300,
   "metadata": {
    "collapsed": false
   },
   "outputs": [
    {
     "name": "stdout",
     "output_type": "stream",
     "text": [
      "             precision    recall  f1-score   support\n",
      "\n",
      "          0       0.98      0.97      0.98      2195\n",
      "          1       0.99      0.99      0.99      5138\n",
      "\n",
      "avg / total       0.99      0.99      0.99      7333\n",
      "\n",
      "[[2139   56]\n",
      " [  50 5088]]\n"
     ]
    },
    {
     "data": {
      "text/plain": [
       "0.98554479749079504"
      ]
     },
     "execution_count": 300,
     "metadata": {},
     "output_type": "execute_result"
    }
   ],
   "source": [
    "clf_random_forest = RandomForestClassifier()\n",
    "clf_random_forest.fit(X_train, y_train)\n",
    "\n",
    "# make predictions\n",
    "expected = Y\n",
    "predicted = clf_random_forest.predict(X_test)\n",
    "\n",
    "# summarize the fit of the model\n",
    "print(metrics.classification_report(y_test, predicted))\n",
    "print(metrics.confusion_matrix(y_test, predicted))\n",
    "\n",
    "accuracy_score(y_test, predicted)"
   ]
  },
  {
   "cell_type": "code",
   "execution_count": 301,
   "metadata": {
    "collapsed": false
   },
   "outputs": [
    {
     "name": "stdout",
     "output_type": "stream",
     "text": [
      "             precision    recall  f1-score   support\n",
      "\n",
      "          0       0.59      0.20      0.30      2195\n",
      "          1       0.73      0.94      0.82      5138\n",
      "\n",
      "avg / total       0.69      0.72      0.67      7333\n",
      "\n",
      "[[ 435 1760]\n",
      " [ 302 4836]]\n"
     ]
    },
    {
     "data": {
      "text/plain": [
       "0.71880540024546569"
      ]
     },
     "execution_count": 301,
     "metadata": {},
     "output_type": "execute_result"
    }
   ],
   "source": [
    "clf_random_forest = AdaBoostClassifier(DecisionTreeClassifier(max_depth=1),\n",
    "                             algorithm=\"SAMME\",\n",
    "                             n_estimators=600)\n",
    "clf_random_forest.fit(X_train, y_train)\n",
    "\n",
    "# make predictions\n",
    "expected = Y\n",
    "predicted = clf_random_forest.predict(X_test)\n",
    "\n",
    "# summarize the fit of the model\n",
    "print(metrics.classification_report(y_test, predicted))\n",
    "print(metrics.confusion_matrix(y_test, predicted))\n",
    "\n",
    "accuracy_score(y_test, predicted)"
   ]
  },
  {
   "cell_type": "code",
   "execution_count": 321,
   "metadata": {
    "collapsed": true
   },
   "outputs": [],
   "source": [
    "from sklearn import svm"
   ]
  },
  {
   "cell_type": "code",
   "execution_count": 322,
   "metadata": {
    "collapsed": false
   },
   "outputs": [
    {
     "name": "stdout",
     "output_type": "stream",
     "text": [
      "SVC(C=1.0, cache_size=200, class_weight=None, coef0=0.0,\n",
      "  decision_function_shape=None, degree=3, gamma='auto', kernel='rbf',\n",
      "  max_iter=-1, probability=False, random_state=None, shrinking=True,\n",
      "  tol=0.001, verbose=False)\n",
      "             precision    recall  f1-score   support\n",
      "\n",
      "          0       0.99      0.32      0.48      2195\n",
      "          1       0.77      1.00      0.87      5138\n",
      "\n",
      "avg / total       0.84      0.80      0.76      7333\n",
      "\n",
      "[[ 703 1492]\n",
      " [   4 5134]]\n"
     ]
    },
    {
     "data": {
      "text/plain": [
       "0.79599072685122052"
      ]
     },
     "execution_count": 322,
     "metadata": {},
     "output_type": "execute_result"
    }
   ],
   "source": [
    "# fit a logistic regression model to the data\n",
    "model = svm.SVC()\n",
    "model.fit(X_train, y_train)\n",
    "print(model)\n",
    "\n",
    "# make predictions\n",
    "expected = Y\n",
    "predicted = model.predict(X_test)\n",
    "\n",
    "# summarize the fit of the model\n",
    "print(metrics.classification_report(y_test, predicted))\n",
    "print(metrics.confusion_matrix(y_test, predicted))\n",
    "\n",
    "accuracy_score(y_test, predicted)"
   ]
  },
  {
   "cell_type": "code",
   "execution_count": null,
   "metadata": {
    "collapsed": true
   },
   "outputs": [],
   "source": []
  }
 ],
 "metadata": {
  "kernelspec": {
   "display_name": "Python 2",
   "language": "python",
   "name": "python2"
  },
  "language_info": {
   "codemirror_mode": {
    "name": "ipython",
    "version": 2
   },
   "file_extension": ".py",
   "mimetype": "text/x-python",
   "name": "python",
   "nbconvert_exporter": "python",
   "pygments_lexer": "ipython2",
   "version": "2.7.11"
  }
 },
 "nbformat": 4,
 "nbformat_minor": 0
}
