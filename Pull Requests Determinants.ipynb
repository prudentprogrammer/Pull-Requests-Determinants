{
 "cells": [
  {
   "cell_type": "markdown",
   "metadata": {},
   "source": [
    "# Part I: Importing Libraries and Data"
   ]
  },
  {
   "cell_type": "code",
   "execution_count": 342,
   "metadata": {
    "collapsed": false
   },
   "outputs": [],
   "source": [
    "import csv\n",
    "import pandas as pd\n",
    "import numpy as np\n",
    "import matplotlib.pyplot as plt\n",
    "# Enable inline plotting\n",
    "%matplotlib inline\n",
    "plt.style.use('ggplot')"
   ]
  },
  {
   "cell_type": "code",
   "execution_count": 343,
   "metadata": {
    "collapsed": false
   },
   "outputs": [],
   "source": [
    "pull_req_data = pd.read_csv('./preprocessed_data_v3.csv')"
   ]
  },
  {
   "cell_type": "code",
   "execution_count": 344,
   "metadata": {
    "collapsed": false
   },
   "outputs": [
    {
     "data": {
      "text/html": [
       "<div>\n",
       "<table border=\"1\" class=\"dataframe\">\n",
       "  <thead>\n",
       "    <tr style=\"text-align: right;\">\n",
       "      <th></th>\n",
       "      <th>slug</th>\n",
       "      <th>gh_team_size</th>\n",
       "      <th>commits</th>\n",
       "      <th>git_num_commits</th>\n",
       "      <th>gh_num_issue_comments</th>\n",
       "      <th>general_comments</th>\n",
       "      <th>num_commit_comments</th>\n",
       "      <th>pull_req_comments</th>\n",
       "      <th>gh_num_pr_comments</th>\n",
       "      <th>additions</th>\n",
       "      <th>...</th>\n",
       "      <th>Id</th>\n",
       "      <th>state</th>\n",
       "      <th>merged</th>\n",
       "      <th>merge_commit_sha</th>\n",
       "      <th>delta_mins_merge</th>\n",
       "      <th>delta_mins_close</th>\n",
       "      <th>open_issues_count</th>\n",
       "      <th>network_count</th>\n",
       "      <th>watchers_count</th>\n",
       "      <th>subscribers_count</th>\n",
       "    </tr>\n",
       "  </thead>\n",
       "  <tbody>\n",
       "    <tr>\n",
       "      <th>0</th>\n",
       "      <td>aodn/aodn-portal</td>\n",
       "      <td>4</td>\n",
       "      <td>1</td>\n",
       "      <td>1</td>\n",
       "      <td>0</td>\n",
       "      <td>0</td>\n",
       "      <td>0</td>\n",
       "      <td>0</td>\n",
       "      <td>0</td>\n",
       "      <td>1</td>\n",
       "      <td>...</td>\n",
       "      <td>70072</td>\n",
       "      <td>closed</td>\n",
       "      <td>True</td>\n",
       "      <td>c3f6c953580397f684d76ab1952607c509d964b6</td>\n",
       "      <td>2.4500</td>\n",
       "      <td>2.4500</td>\n",
       "      <td>17</td>\n",
       "      <td>12</td>\n",
       "      <td>7</td>\n",
       "      <td>21</td>\n",
       "    </tr>\n",
       "    <tr>\n",
       "      <th>1</th>\n",
       "      <td>aodn/aodn-portal</td>\n",
       "      <td>5</td>\n",
       "      <td>1</td>\n",
       "      <td>1</td>\n",
       "      <td>0</td>\n",
       "      <td>0</td>\n",
       "      <td>0</td>\n",
       "      <td>0</td>\n",
       "      <td>0</td>\n",
       "      <td>2</td>\n",
       "      <td>...</td>\n",
       "      <td>70071</td>\n",
       "      <td>closed</td>\n",
       "      <td>True</td>\n",
       "      <td>077ab02e5ca9dac5d3929320c689b31ae611af4f</td>\n",
       "      <td>75.7167</td>\n",
       "      <td>75.7167</td>\n",
       "      <td>17</td>\n",
       "      <td>12</td>\n",
       "      <td>7</td>\n",
       "      <td>21</td>\n",
       "    </tr>\n",
       "    <tr>\n",
       "      <th>2</th>\n",
       "      <td>aodn/aodn-portal</td>\n",
       "      <td>5</td>\n",
       "      <td>1</td>\n",
       "      <td>1</td>\n",
       "      <td>0</td>\n",
       "      <td>1</td>\n",
       "      <td>0</td>\n",
       "      <td>0</td>\n",
       "      <td>0</td>\n",
       "      <td>11472</td>\n",
       "      <td>...</td>\n",
       "      <td>59144</td>\n",
       "      <td>open</td>\n",
       "      <td>False</td>\n",
       "      <td>de03e9827db84d1cf9ca9196021f6f1fbf85fe4a</td>\n",
       "      <td>-1.0000</td>\n",
       "      <td>-1.0000</td>\n",
       "      <td>17</td>\n",
       "      <td>12</td>\n",
       "      <td>7</td>\n",
       "      <td>21</td>\n",
       "    </tr>\n",
       "    <tr>\n",
       "      <th>3</th>\n",
       "      <td>aodn/aodn-portal</td>\n",
       "      <td>5</td>\n",
       "      <td>1</td>\n",
       "      <td>1</td>\n",
       "      <td>0</td>\n",
       "      <td>4</td>\n",
       "      <td>0</td>\n",
       "      <td>3</td>\n",
       "      <td>0</td>\n",
       "      <td>22</td>\n",
       "      <td>...</td>\n",
       "      <td>70062</td>\n",
       "      <td>closed</td>\n",
       "      <td>True</td>\n",
       "      <td>2f8a40a7c821ebafb1bd9ab865ea00a6a4ab19e5</td>\n",
       "      <td>21.8000</td>\n",
       "      <td>21.8000</td>\n",
       "      <td>17</td>\n",
       "      <td>12</td>\n",
       "      <td>7</td>\n",
       "      <td>21</td>\n",
       "    </tr>\n",
       "    <tr>\n",
       "      <th>4</th>\n",
       "      <td>aodn/aodn-portal</td>\n",
       "      <td>5</td>\n",
       "      <td>2</td>\n",
       "      <td>1</td>\n",
       "      <td>0</td>\n",
       "      <td>2</td>\n",
       "      <td>0</td>\n",
       "      <td>1</td>\n",
       "      <td>0</td>\n",
       "      <td>5</td>\n",
       "      <td>...</td>\n",
       "      <td>59143</td>\n",
       "      <td>open</td>\n",
       "      <td>False</td>\n",
       "      <td>fd1115de4c2e32f9e46c1dc6edc011d0c83628fa</td>\n",
       "      <td>-1.0000</td>\n",
       "      <td>-1.0000</td>\n",
       "      <td>17</td>\n",
       "      <td>12</td>\n",
       "      <td>7</td>\n",
       "      <td>21</td>\n",
       "    </tr>\n",
       "    <tr>\n",
       "      <th>5</th>\n",
       "      <td>aodn/aodn-portal</td>\n",
       "      <td>6</td>\n",
       "      <td>2</td>\n",
       "      <td>1</td>\n",
       "      <td>0</td>\n",
       "      <td>2</td>\n",
       "      <td>0</td>\n",
       "      <td>1</td>\n",
       "      <td>0</td>\n",
       "      <td>5</td>\n",
       "      <td>...</td>\n",
       "      <td>59143</td>\n",
       "      <td>open</td>\n",
       "      <td>False</td>\n",
       "      <td>fd1115de4c2e32f9e46c1dc6edc011d0c83628fa</td>\n",
       "      <td>-1.0000</td>\n",
       "      <td>-1.0000</td>\n",
       "      <td>17</td>\n",
       "      <td>12</td>\n",
       "      <td>7</td>\n",
       "      <td>21</td>\n",
       "    </tr>\n",
       "    <tr>\n",
       "      <th>6</th>\n",
       "      <td>aodn/aodn-portal</td>\n",
       "      <td>7</td>\n",
       "      <td>1</td>\n",
       "      <td>1</td>\n",
       "      <td>0</td>\n",
       "      <td>0</td>\n",
       "      <td>0</td>\n",
       "      <td>0</td>\n",
       "      <td>0</td>\n",
       "      <td>2</td>\n",
       "      <td>...</td>\n",
       "      <td>37783</td>\n",
       "      <td>closed</td>\n",
       "      <td>True</td>\n",
       "      <td>6aedc7cf7ad3f00c0aca86ec61c356c21d8e2fe1</td>\n",
       "      <td>210.1000</td>\n",
       "      <td>210.1000</td>\n",
       "      <td>17</td>\n",
       "      <td>12</td>\n",
       "      <td>7</td>\n",
       "      <td>21</td>\n",
       "    </tr>\n",
       "    <tr>\n",
       "      <th>7</th>\n",
       "      <td>aodn/aodn-portal</td>\n",
       "      <td>7</td>\n",
       "      <td>1</td>\n",
       "      <td>1</td>\n",
       "      <td>0</td>\n",
       "      <td>0</td>\n",
       "      <td>0</td>\n",
       "      <td>0</td>\n",
       "      <td>0</td>\n",
       "      <td>7</td>\n",
       "      <td>...</td>\n",
       "      <td>37782</td>\n",
       "      <td>closed</td>\n",
       "      <td>True</td>\n",
       "      <td>369166a58afb4fcfc7ddab09be3f71d8718b5f89</td>\n",
       "      <td>152.9670</td>\n",
       "      <td>152.9670</td>\n",
       "      <td>17</td>\n",
       "      <td>12</td>\n",
       "      <td>7</td>\n",
       "      <td>21</td>\n",
       "    </tr>\n",
       "    <tr>\n",
       "      <th>8</th>\n",
       "      <td>aodn/aodn-portal</td>\n",
       "      <td>7</td>\n",
       "      <td>1</td>\n",
       "      <td>1</td>\n",
       "      <td>0</td>\n",
       "      <td>0</td>\n",
       "      <td>0</td>\n",
       "      <td>0</td>\n",
       "      <td>0</td>\n",
       "      <td>7</td>\n",
       "      <td>...</td>\n",
       "      <td>37781</td>\n",
       "      <td>closed</td>\n",
       "      <td>True</td>\n",
       "      <td>b1898c536f5b8d20f6108e37960f1e9f4864fc80</td>\n",
       "      <td>1250.7300</td>\n",
       "      <td>1250.7300</td>\n",
       "      <td>17</td>\n",
       "      <td>12</td>\n",
       "      <td>7</td>\n",
       "      <td>21</td>\n",
       "    </tr>\n",
       "    <tr>\n",
       "      <th>9</th>\n",
       "      <td>aodn/aodn-portal</td>\n",
       "      <td>7</td>\n",
       "      <td>1</td>\n",
       "      <td>1</td>\n",
       "      <td>0</td>\n",
       "      <td>1</td>\n",
       "      <td>0</td>\n",
       "      <td>0</td>\n",
       "      <td>0</td>\n",
       "      <td>108</td>\n",
       "      <td>...</td>\n",
       "      <td>37786</td>\n",
       "      <td>closed</td>\n",
       "      <td>True</td>\n",
       "      <td>4d6242f108ed7d4717b3090c13795091c95ef9e7</td>\n",
       "      <td>1199.3300</td>\n",
       "      <td>1199.3300</td>\n",
       "      <td>17</td>\n",
       "      <td>12</td>\n",
       "      <td>7</td>\n",
       "      <td>21</td>\n",
       "    </tr>\n",
       "  </tbody>\n",
       "</table>\n",
       "<p>10 rows × 43 columns</p>\n",
       "</div>"
      ],
      "text/plain": [
       "               slug  gh_team_size  commits  git_num_commits  \\\n",
       "0  aodn/aodn-portal             4        1                1   \n",
       "1  aodn/aodn-portal             5        1                1   \n",
       "2  aodn/aodn-portal             5        1                1   \n",
       "3  aodn/aodn-portal             5        1                1   \n",
       "4  aodn/aodn-portal             5        2                1   \n",
       "5  aodn/aodn-portal             6        2                1   \n",
       "6  aodn/aodn-portal             7        1                1   \n",
       "7  aodn/aodn-portal             7        1                1   \n",
       "8  aodn/aodn-portal             7        1                1   \n",
       "9  aodn/aodn-portal             7        1                1   \n",
       "\n",
       "   gh_num_issue_comments  general_comments  num_commit_comments  \\\n",
       "0                      0                 0                    0   \n",
       "1                      0                 0                    0   \n",
       "2                      0                 1                    0   \n",
       "3                      0                 4                    0   \n",
       "4                      0                 2                    0   \n",
       "5                      0                 2                    0   \n",
       "6                      0                 0                    0   \n",
       "7                      0                 0                    0   \n",
       "8                      0                 0                    0   \n",
       "9                      0                 1                    0   \n",
       "\n",
       "   pull_req_comments  gh_num_pr_comments  additions        ...             Id  \\\n",
       "0                  0                   0          1        ...          70072   \n",
       "1                  0                   0          2        ...          70071   \n",
       "2                  0                   0      11472        ...          59144   \n",
       "3                  3                   0         22        ...          70062   \n",
       "4                  1                   0          5        ...          59143   \n",
       "5                  1                   0          5        ...          59143   \n",
       "6                  0                   0          2        ...          37783   \n",
       "7                  0                   0          7        ...          37782   \n",
       "8                  0                   0          7        ...          37781   \n",
       "9                  0                   0        108        ...          37786   \n",
       "\n",
       "    state  merged                          merge_commit_sha  delta_mins_merge  \\\n",
       "0  closed    True  c3f6c953580397f684d76ab1952607c509d964b6            2.4500   \n",
       "1  closed    True  077ab02e5ca9dac5d3929320c689b31ae611af4f           75.7167   \n",
       "2    open   False  de03e9827db84d1cf9ca9196021f6f1fbf85fe4a           -1.0000   \n",
       "3  closed    True  2f8a40a7c821ebafb1bd9ab865ea00a6a4ab19e5           21.8000   \n",
       "4    open   False  fd1115de4c2e32f9e46c1dc6edc011d0c83628fa           -1.0000   \n",
       "5    open   False  fd1115de4c2e32f9e46c1dc6edc011d0c83628fa           -1.0000   \n",
       "6  closed    True  6aedc7cf7ad3f00c0aca86ec61c356c21d8e2fe1          210.1000   \n",
       "7  closed    True  369166a58afb4fcfc7ddab09be3f71d8718b5f89          152.9670   \n",
       "8  closed    True  b1898c536f5b8d20f6108e37960f1e9f4864fc80         1250.7300   \n",
       "9  closed    True  4d6242f108ed7d4717b3090c13795091c95ef9e7         1199.3300   \n",
       "\n",
       "   delta_mins_close  open_issues_count  network_count  watchers_count  \\\n",
       "0            2.4500                 17             12               7   \n",
       "1           75.7167                 17             12               7   \n",
       "2           -1.0000                 17             12               7   \n",
       "3           21.8000                 17             12               7   \n",
       "4           -1.0000                 17             12               7   \n",
       "5           -1.0000                 17             12               7   \n",
       "6          210.1000                 17             12               7   \n",
       "7          152.9670                 17             12               7   \n",
       "8         1250.7300                 17             12               7   \n",
       "9         1199.3300                 17             12               7   \n",
       "\n",
       "   subscribers_count  \n",
       "0                 21  \n",
       "1                 21  \n",
       "2                 21  \n",
       "3                 21  \n",
       "4                 21  \n",
       "5                 21  \n",
       "6                 21  \n",
       "7                 21  \n",
       "8                 21  \n",
       "9                 21  \n",
       "\n",
       "[10 rows x 43 columns]"
      ]
     },
     "execution_count": 344,
     "metadata": {},
     "output_type": "execute_result"
    }
   ],
   "source": [
    "pull_req_data.head(n=10)"
   ]
  },
  {
   "cell_type": "code",
   "execution_count": 345,
   "metadata": {
    "collapsed": false
   },
   "outputs": [
    {
     "data": {
      "text/plain": [
       "(36665, 43)"
      ]
     },
     "execution_count": 345,
     "metadata": {},
     "output_type": "execute_result"
    }
   ],
   "source": [
    "pull_req_data.shape"
   ]
  },
  {
   "cell_type": "markdown",
   "metadata": {},
   "source": [
    "# Part II: Basic Statistics"
   ]
  },
  {
   "cell_type": "code",
   "execution_count": 346,
   "metadata": {
    "collapsed": false
   },
   "outputs": [
    {
     "data": {
      "text/html": [
       "<div>\n",
       "<table border=\"1\" class=\"dataframe\">\n",
       "  <thead>\n",
       "    <tr style=\"text-align: right;\">\n",
       "      <th></th>\n",
       "      <th>gh_team_size</th>\n",
       "      <th>commits</th>\n",
       "      <th>git_num_commits</th>\n",
       "      <th>gh_num_issue_comments</th>\n",
       "      <th>general_comments</th>\n",
       "      <th>num_commit_comments</th>\n",
       "      <th>pull_req_comments</th>\n",
       "      <th>gh_num_pr_comments</th>\n",
       "      <th>additions</th>\n",
       "      <th>deletions</th>\n",
       "      <th>...</th>\n",
       "      <th>gh_description_complexity</th>\n",
       "      <th>git_num_committers</th>\n",
       "      <th>Id</th>\n",
       "      <th>merged</th>\n",
       "      <th>delta_mins_merge</th>\n",
       "      <th>delta_mins_close</th>\n",
       "      <th>open_issues_count</th>\n",
       "      <th>network_count</th>\n",
       "      <th>watchers_count</th>\n",
       "      <th>subscribers_count</th>\n",
       "    </tr>\n",
       "  </thead>\n",
       "  <tbody>\n",
       "    <tr>\n",
       "      <th>count</th>\n",
       "      <td>36665.000000</td>\n",
       "      <td>36665.000000</td>\n",
       "      <td>36665.000000</td>\n",
       "      <td>36665.000000</td>\n",
       "      <td>36665.000000</td>\n",
       "      <td>36665.000000</td>\n",
       "      <td>36665.000000</td>\n",
       "      <td>36665.000000</td>\n",
       "      <td>36665.000000</td>\n",
       "      <td>36665.000000</td>\n",
       "      <td>...</td>\n",
       "      <td>36665.000000</td>\n",
       "      <td>36665.000000</td>\n",
       "      <td>36665.000000</td>\n",
       "      <td>36665</td>\n",
       "      <td>36665.000000</td>\n",
       "      <td>36665.000000</td>\n",
       "      <td>36665.000000</td>\n",
       "      <td>36665.000000</td>\n",
       "      <td>36665.000000</td>\n",
       "      <td>36665.000000</td>\n",
       "    </tr>\n",
       "    <tr>\n",
       "      <th>mean</th>\n",
       "      <td>25.193809</td>\n",
       "      <td>6.010719</td>\n",
       "      <td>1.717878</td>\n",
       "      <td>0.724942</td>\n",
       "      <td>3.349707</td>\n",
       "      <td>0.636902</td>\n",
       "      <td>1.281931</td>\n",
       "      <td>0.658257</td>\n",
       "      <td>349.076667</td>\n",
       "      <td>196.921969</td>\n",
       "      <td>...</td>\n",
       "      <td>44.388081</td>\n",
       "      <td>1.166562</td>\n",
       "      <td>42128.905223</td>\n",
       "      <td>0.698732</td>\n",
       "      <td>376.940854</td>\n",
       "      <td>491.254493</td>\n",
       "      <td>240.532115</td>\n",
       "      <td>401.012082</td>\n",
       "      <td>1321.660030</td>\n",
       "      <td>112.101923</td>\n",
       "    </tr>\n",
       "    <tr>\n",
       "      <th>std</th>\n",
       "      <td>18.413552</td>\n",
       "      <td>48.522909</td>\n",
       "      <td>2.986312</td>\n",
       "      <td>1.929189</td>\n",
       "      <td>6.354062</td>\n",
       "      <td>3.607060</td>\n",
       "      <td>6.136695</td>\n",
       "      <td>5.808104</td>\n",
       "      <td>2142.849869</td>\n",
       "      <td>1926.777871</td>\n",
       "      <td>...</td>\n",
       "      <td>140.761117</td>\n",
       "      <td>0.398071</td>\n",
       "      <td>22268.978586</td>\n",
       "      <td>0.458815</td>\n",
       "      <td>473.098729</td>\n",
       "      <td>487.162215</td>\n",
       "      <td>198.518094</td>\n",
       "      <td>407.644410</td>\n",
       "      <td>1460.298317</td>\n",
       "      <td>98.751025</td>\n",
       "    </tr>\n",
       "    <tr>\n",
       "      <th>min</th>\n",
       "      <td>1.000000</td>\n",
       "      <td>0.000000</td>\n",
       "      <td>1.000000</td>\n",
       "      <td>0.000000</td>\n",
       "      <td>0.000000</td>\n",
       "      <td>0.000000</td>\n",
       "      <td>0.000000</td>\n",
       "      <td>0.000000</td>\n",
       "      <td>0.000000</td>\n",
       "      <td>0.000000</td>\n",
       "      <td>...</td>\n",
       "      <td>1.000000</td>\n",
       "      <td>0.000000</td>\n",
       "      <td>1.000000</td>\n",
       "      <td>False</td>\n",
       "      <td>-1.000000</td>\n",
       "      <td>-1.000000</td>\n",
       "      <td>17.000000</td>\n",
       "      <td>5.000000</td>\n",
       "      <td>7.000000</td>\n",
       "      <td>13.000000</td>\n",
       "    </tr>\n",
       "    <tr>\n",
       "      <th>25%</th>\n",
       "      <td>10.000000</td>\n",
       "      <td>1.000000</td>\n",
       "      <td>1.000000</td>\n",
       "      <td>0.000000</td>\n",
       "      <td>0.000000</td>\n",
       "      <td>0.000000</td>\n",
       "      <td>0.000000</td>\n",
       "      <td>0.000000</td>\n",
       "      <td>4.000000</td>\n",
       "      <td>1.000000</td>\n",
       "      <td>...</td>\n",
       "      <td>9.000000</td>\n",
       "      <td>1.000000</td>\n",
       "      <td>31198.000000</td>\n",
       "      <td>0</td>\n",
       "      <td>-1.000000</td>\n",
       "      <td>40.800000</td>\n",
       "      <td>99.000000</td>\n",
       "      <td>126.000000</td>\n",
       "      <td>212.000000</td>\n",
       "      <td>48.000000</td>\n",
       "    </tr>\n",
       "    <tr>\n",
       "      <th>50%</th>\n",
       "      <td>20.000000</td>\n",
       "      <td>1.000000</td>\n",
       "      <td>1.000000</td>\n",
       "      <td>0.000000</td>\n",
       "      <td>1.000000</td>\n",
       "      <td>0.000000</td>\n",
       "      <td>0.000000</td>\n",
       "      <td>0.000000</td>\n",
       "      <td>20.000000</td>\n",
       "      <td>4.000000</td>\n",
       "      <td>...</td>\n",
       "      <td>21.000000</td>\n",
       "      <td>1.000000</td>\n",
       "      <td>38912.000000</td>\n",
       "      <td>1</td>\n",
       "      <td>109.617000</td>\n",
       "      <td>302.367000</td>\n",
       "      <td>171.000000</td>\n",
       "      <td>242.000000</td>\n",
       "      <td>767.000000</td>\n",
       "      <td>85.000000</td>\n",
       "    </tr>\n",
       "    <tr>\n",
       "      <th>75%</th>\n",
       "      <td>39.000000</td>\n",
       "      <td>2.000000</td>\n",
       "      <td>1.000000</td>\n",
       "      <td>1.000000</td>\n",
       "      <td>4.000000</td>\n",
       "      <td>0.000000</td>\n",
       "      <td>0.000000</td>\n",
       "      <td>0.000000</td>\n",
       "      <td>94.000000</td>\n",
       "      <td>22.000000</td>\n",
       "      <td>...</td>\n",
       "      <td>46.000000</td>\n",
       "      <td>1.000000</td>\n",
       "      <td>59254.000000</td>\n",
       "      <td>1</td>\n",
       "      <td>747.167000</td>\n",
       "      <td>938.117000</td>\n",
       "      <td>324.000000</td>\n",
       "      <td>626.000000</td>\n",
       "      <td>2217.000000</td>\n",
       "      <td>138.000000</td>\n",
       "    </tr>\n",
       "    <tr>\n",
       "      <th>max</th>\n",
       "      <td>89.000000</td>\n",
       "      <td>1887.000000</td>\n",
       "      <td>151.000000</td>\n",
       "      <td>39.000000</td>\n",
       "      <td>136.000000</td>\n",
       "      <td>167.000000</td>\n",
       "      <td>327.000000</td>\n",
       "      <td>661.000000</td>\n",
       "      <td>116015.000000</td>\n",
       "      <td>43469.000000</td>\n",
       "      <td>...</td>\n",
       "      <td>7476.000000</td>\n",
       "      <td>6.000000</td>\n",
       "      <td>81785.000000</td>\n",
       "      <td>True</td>\n",
       "      <td>1439.200000</td>\n",
       "      <td>1439.200000</td>\n",
       "      <td>1818.000000</td>\n",
       "      <td>4883.000000</td>\n",
       "      <td>20119.000000</td>\n",
       "      <td>1033.000000</td>\n",
       "    </tr>\n",
       "  </tbody>\n",
       "</table>\n",
       "<p>8 rows × 40 columns</p>\n",
       "</div>"
      ],
      "text/plain": [
       "       gh_team_size       commits  git_num_commits  gh_num_issue_comments  \\\n",
       "count  36665.000000  36665.000000     36665.000000           36665.000000   \n",
       "mean      25.193809      6.010719         1.717878               0.724942   \n",
       "std       18.413552     48.522909         2.986312               1.929189   \n",
       "min        1.000000      0.000000         1.000000               0.000000   \n",
       "25%       10.000000      1.000000         1.000000               0.000000   \n",
       "50%       20.000000      1.000000         1.000000               0.000000   \n",
       "75%       39.000000      2.000000         1.000000               1.000000   \n",
       "max       89.000000   1887.000000       151.000000              39.000000   \n",
       "\n",
       "       general_comments  num_commit_comments  pull_req_comments  \\\n",
       "count      36665.000000         36665.000000       36665.000000   \n",
       "mean           3.349707             0.636902           1.281931   \n",
       "std            6.354062             3.607060           6.136695   \n",
       "min            0.000000             0.000000           0.000000   \n",
       "25%            0.000000             0.000000           0.000000   \n",
       "50%            1.000000             0.000000           0.000000   \n",
       "75%            4.000000             0.000000           0.000000   \n",
       "max          136.000000           167.000000         327.000000   \n",
       "\n",
       "       gh_num_pr_comments      additions     deletions        ...          \\\n",
       "count        36665.000000   36665.000000  36665.000000        ...           \n",
       "mean             0.658257     349.076667    196.921969        ...           \n",
       "std              5.808104    2142.849869   1926.777871        ...           \n",
       "min              0.000000       0.000000      0.000000        ...           \n",
       "25%              0.000000       4.000000      1.000000        ...           \n",
       "50%              0.000000      20.000000      4.000000        ...           \n",
       "75%              0.000000      94.000000     22.000000        ...           \n",
       "max            661.000000  116015.000000  43469.000000        ...           \n",
       "\n",
       "       gh_description_complexity  git_num_committers            Id    merged  \\\n",
       "count               36665.000000        36665.000000  36665.000000     36665   \n",
       "mean                   44.388081            1.166562  42128.905223  0.698732   \n",
       "std                   140.761117            0.398071  22268.978586  0.458815   \n",
       "min                     1.000000            0.000000      1.000000     False   \n",
       "25%                     9.000000            1.000000  31198.000000         0   \n",
       "50%                    21.000000            1.000000  38912.000000         1   \n",
       "75%                    46.000000            1.000000  59254.000000         1   \n",
       "max                  7476.000000            6.000000  81785.000000      True   \n",
       "\n",
       "       delta_mins_merge  delta_mins_close  open_issues_count  network_count  \\\n",
       "count      36665.000000      36665.000000       36665.000000   36665.000000   \n",
       "mean         376.940854        491.254493         240.532115     401.012082   \n",
       "std          473.098729        487.162215         198.518094     407.644410   \n",
       "min           -1.000000         -1.000000          17.000000       5.000000   \n",
       "25%           -1.000000         40.800000          99.000000     126.000000   \n",
       "50%          109.617000        302.367000         171.000000     242.000000   \n",
       "75%          747.167000        938.117000         324.000000     626.000000   \n",
       "max         1439.200000       1439.200000        1818.000000    4883.000000   \n",
       "\n",
       "       watchers_count  subscribers_count  \n",
       "count    36665.000000       36665.000000  \n",
       "mean      1321.660030         112.101923  \n",
       "std       1460.298317          98.751025  \n",
       "min          7.000000          13.000000  \n",
       "25%        212.000000          48.000000  \n",
       "50%        767.000000          85.000000  \n",
       "75%       2217.000000         138.000000  \n",
       "max      20119.000000        1033.000000  \n",
       "\n",
       "[8 rows x 40 columns]"
      ]
     },
     "execution_count": 346,
     "metadata": {},
     "output_type": "execute_result"
    }
   ],
   "source": [
    "pull_req_data.describe()"
   ]
  },
  {
   "cell_type": "code",
   "execution_count": 347,
   "metadata": {
    "collapsed": false
   },
   "outputs": [
    {
     "name": "stdout",
     "output_type": "stream",
     "text": [
      "Total pull requests in our given data =  36665\n",
      "Accepted pull requests =  25619\n",
      "Percentage of Accepted pull requests = 69.87\n"
     ]
    }
   ],
   "source": [
    "total_pull_req = len(pull_req_data)\n",
    "pull_reqs_accepted = len(pull_req_data[pull_req_data[\"merged\"] == True])\n",
    "print 'Total pull requests in our given data = ', total_pull_req\n",
    "print 'Accepted pull requests = ', pull_reqs_accepted\n",
    "print 'Percentage of Accepted pull requests = %.2f' % ((float(pull_reqs_accepted)/float(total_pull_req)) * 100)\n",
    "#perc_accepted = len(pulllen(pull_req_data[pull_req_data[\"merged\"] == True])"
   ]
  },
  {
   "cell_type": "markdown",
   "metadata": {},
   "source": [
    "# Preprocessing (Split Target Feature and Columns)"
   ]
  },
  {
   "cell_type": "code",
   "execution_count": 348,
   "metadata": {
    "collapsed": true
   },
   "outputs": [],
   "source": [
    "def convertToNonNegatives(x):\n",
    "    return round(x, -1)"
   ]
  },
  {
   "cell_type": "code",
   "execution_count": 349,
   "metadata": {
    "collapsed": false
   },
   "outputs": [],
   "source": [
    "pull_req_data['delta_mins_merge'] = pull_req_data['delta_mins_merge'].apply(convertToNonNegatives)\n",
    "pull_req_data['delta_mins_close'] = pull_req_data['delta_mins_close'].apply(convertToNonNegatives)"
   ]
  },
  {
   "cell_type": "code",
   "execution_count": 350,
   "metadata": {
    "collapsed": false
   },
   "outputs": [
    {
     "data": {
      "text/plain": [
       "count    36665.000000\n",
       "mean       377.207964\n",
       "std        472.810602\n",
       "min          0.000000\n",
       "25%         -0.000000\n",
       "50%        110.000000\n",
       "75%        750.000000\n",
       "max       1440.000000\n",
       "Name: delta_mins_merge, dtype: float64"
      ]
     },
     "execution_count": 350,
     "metadata": {},
     "output_type": "execute_result"
    }
   ],
   "source": [
    "pull_req_data['delta_mins_merge'].describe()"
   ]
  },
  {
   "cell_type": "code",
   "execution_count": 351,
   "metadata": {
    "collapsed": false
   },
   "outputs": [
    {
     "data": {
      "text/plain": [
       "array([1, 1, 0, ..., 1, 1, 1])"
      ]
     },
     "execution_count": 351,
     "metadata": {},
     "output_type": "execute_result"
    }
   ],
   "source": [
    "# This will be our target variable\n",
    "Y = np.array(pull_req_data['merged'].apply(int))\n",
    "Y\n",
    "#dropped_features = pull_req_data.drop(['Id', 'state', 'merged', 'merge_commit_sha'], axis=1)\n",
    "#dropped_features"
   ]
  },
  {
   "cell_type": "code",
   "execution_count": 352,
   "metadata": {
    "collapsed": false
   },
   "outputs": [
    {
     "data": {
      "text/plain": [
       "(36665, 36)"
      ]
     },
     "execution_count": 352,
     "metadata": {},
     "output_type": "execute_result"
    }
   ],
   "source": [
    "# Drop these features because they are redundant / we dont need to feed them in the ML model\n",
    "# Note here:- We are removing delta_mins_merge and delta_mins_close because from the user's perspective\n",
    "# They are not controllable\n",
    "dropped_features = pull_req_data.drop(['delta_mins_merge', 'delta_mins_close', 'slug', 'Id', 'state', 'merged', 'merge_commit_sha'], axis=1)\n",
    "X = dropped_features.as_matrix().astype(np.float)\n",
    "X.shape"
   ]
  },
  {
   "cell_type": "code",
   "execution_count": 353,
   "metadata": {
    "collapsed": false
   },
   "outputs": [
    {
     "name": "stdout",
     "output_type": "stream",
     "text": [
      "Index([u'gh_team_size', u'commits', u'git_num_commits',\n",
      "       u'gh_num_issue_comments', u'general_comments', u'num_commit_comments',\n",
      "       u'pull_req_comments', u'gh_num_pr_comments', u'additions', u'deletions',\n",
      "       u'churn', u'changed_files', u'gh_src_churn', u'gh_test_churn',\n",
      "       u'gh_files_added', u'gh_files_deleted', u'gh_files_modified',\n",
      "       u'gh_tests_added', u'gh_tests_deleted', u'gh_src_files',\n",
      "       u'gh_doc_files', u'gh_other_files', u'gh_commits_on_files_touched',\n",
      "       u'gh_sloc', u'gh_test_lines_per_kloc', u'gh_test_cases_per_kloc',\n",
      "       u'gh_asserts_cases_per_kloc', u'gh_by_core_team_member', u'title_len',\n",
      "       u'desc_len', u'gh_description_complexity', u'git_num_committers',\n",
      "       u'open_issues_count', u'network_count', u'watchers_count',\n",
      "       u'subscribers_count'],\n",
      "      dtype='object')\n"
     ]
    }
   ],
   "source": [
    "features = dropped_features.columns\n",
    "pprint.pprint(features)"
   ]
  },
  {
   "cell_type": "markdown",
   "metadata": {},
   "source": [
    "# Merge time statistics"
   ]
  },
  {
   "cell_type": "code",
   "execution_count": 375,
   "metadata": {
    "collapsed": false
   },
   "outputs": [
    {
     "data": {
      "image/png": "[encoded data removed]",
      "text/plain": [
       "<matplotlib.figure.Figure at 0x18ed02fd0>"
      ]
     },
     "metadata": {},
     "output_type": "display_data"
    }
   ],
   "source": [
    "plt.rcParams[\"figure.figsize\"] = [6, 6]\n",
    "data_to_graph = (pull_req_data[pull_req_data['delta_mins_merge'] != 0])['delta_mins_merge']\n",
    "plt.hist(data_to_graph, bins=50)\n",
    "plt.title(\"Mins to Merge vs Counts\")\n",
    "plt.xlabel(\"Mins to Merge\")\n",
    "plt.ylabel(\"Number of pull requests\")\n",
    "plt.show()"
   ]
  },
  {
   "cell_type": "code",
   "execution_count": 387,
   "metadata": {
    "collapsed": false
   },
   "outputs": [
    {
     "name": "stdout",
     "output_type": "stream",
     "text": [
      "13097\n",
      "24583\n",
      "perc = 0.53\n"
     ]
    }
   ],
   "source": [
    "total_true_pull = len(pull_req_data[pull_req_data['delta_mins_merge'] != 0]['delta_mins_merge'])\n",
    "accepted = pull_req_data[pull_req_data['delta_mins_merge'] != 0]['delta_mins_merge']\n",
    "less_than_8 = len(accepted[accepted <= 480])\n",
    "#percentage = (total_pull_req) / less_than_8\n",
    "#print 'perce = %.2f' % percentage\n",
    "print less_than_8\n",
    "print total_true_pull\n",
    "print 'perc = %.2f' % (float(less_than_8) / total_true_pull)"
   ]
  },
  {
   "cell_type": "code",
   "execution_count": 355,
   "metadata": {
    "collapsed": false
   },
   "outputs": [
    {
     "data": {
      "image/png": "[encoded data removed]",
      "text/plain": [
       "<matplotlib.figure.Figure at 0x18b3ac750>"
      ]
     },
     "metadata": {},
     "output_type": "display_data"
    }
   ],
   "source": [
    "#data_to_graph\n",
    "bp = plt.boxplot(np.array(data_to_graph))\n",
    "#bp['boxes'].set( color='#7570b3', linewidth=2)\n",
    "#bp['boxes'].set( facecolor = '#1b9e77' )\n",
    "#bp.show()\n",
    "#bp['boxes']\n",
    "plt.setp(bp['boxes'], color='Blue', linewidth=2)\n",
    "plt.show()"
   ]
  },
  {
   "cell_type": "code",
   "execution_count": 356,
   "metadata": {
    "collapsed": false
   },
   "outputs": [
    {
     "data": {
      "text/plain": [
       "count    24583.000000\n",
       "mean       562.597323\n",
       "std        478.665167\n",
       "min         10.000000\n",
       "25%        110.000000\n",
       "50%        410.000000\n",
       "75%       1000.000000\n",
       "max       1440.000000\n",
       "Name: delta_mins_merge, dtype: float64"
      ]
     },
     "execution_count": 356,
     "metadata": {},
     "output_type": "execute_result"
    }
   ],
   "source": [
    "data_to_graph.describe()"
   ]
  },
  {
   "cell_type": "markdown",
   "metadata": {},
   "source": [
    "# Part III: Feature Selection"
   ]
  },
  {
   "cell_type": "code",
   "execution_count": 357,
   "metadata": {
    "collapsed": true
   },
   "outputs": [],
   "source": [
    "from sklearn.feature_selection import VarianceThreshold\n",
    "from sklearn.feature_selection import SelectKBest\n",
    "from sklearn.feature_selection import chi2\n",
    "from sklearn.linear_model import LogisticRegression\n",
    "from sklearn.feature_selection import RFE\n",
    "from sklearn import datasets\n",
    "from sklearn import metrics\n",
    "from sklearn.datasets import make_classification\n",
    "from sklearn.ensemble import ExtraTreesClassifier\n",
    "from sklearn.ensemble import RandomForestRegressor\n",
    "from sklearn.cross_validation import cross_val_score, ShuffleSplit\n",
    "import pprint"
   ]
  },
  {
   "cell_type": "markdown",
   "metadata": {},
   "source": [
    "# Trees Ensemble Feature Selection"
   ]
  },
  {
   "cell_type": "code",
   "execution_count": 404,
   "metadata": {
    "collapsed": false
   },
   "outputs": [
    {
     "name": "stdout",
     "output_type": "stream",
     "text": [
      "[(0.080114409387646149, 'general_comments'),\n",
      " (0.073892662293104538, 'network_count'),\n",
      " (0.06914152355215411, 'desc_len'),\n",
      " (0.067416236437155025, 'title_len'),\n",
      " (0.066102905135456733, 'subscribers_count'),\n",
      " (0.065961153541672063, 'open_issues_count'),\n",
      " (0.065029827650911684, 'watchers_count'),\n",
      " (0.061788370046129727, 'additions'),\n",
      " (0.057779161735791035, 'churn'),\n",
      " (0.057438269367863684, 'commits'),\n",
      " (0.053953972552861822, 'changed_files'),\n",
      " (0.052256246660123851, 'deletions'),\n",
      " (0.032944508122715752, 'pull_req_comments'),\n",
      " (0.017957454330158069, 'gh_description_complexity'),\n",
      " (0.017213079448776435, 'gh_team_size'),\n",
      " (0.016963194377487917, 'gh_sloc'),\n",
      " (0.013015308243287707, 'gh_test_lines_per_kloc'),\n",
      " (0.012968243254375508, 'gh_asserts_cases_per_kloc'),\n",
      " (0.012793410209748684, 'gh_test_cases_per_kloc'),\n",
      " (0.011176167369335669, 'gh_commits_on_files_touched'),\n",
      " (0.0091067700023983768, 'gh_src_churn'),\n",
      " (0.0087727291417567035, 'gh_files_modified'),\n",
      " (0.0087525394790154368, 'gh_src_files'),\n",
      " (0.0077204298736419799, 'gh_num_issue_comments'),\n",
      " (0.0074816664067738894, 'gh_test_churn'),\n",
      " (0.0067470688936438162, 'gh_other_files'),\n",
      " (0.0067142877775795513, 'gh_doc_files'),\n",
      " (0.0062217244237814072, 'num_commit_comments'),\n",
      " (0.0061436545722261876, 'git_num_commits'),\n",
      " (0.0059856196534249402, 'gh_files_added'),\n",
      " (0.005511726987155673, 'gh_num_pr_comments'),\n",
      " (0.0049152258090016821, 'git_num_committers'),\n",
      " (0.0036668186088923277, 'gh_by_core_team_member'),\n",
      " (0.0035509837274495522, 'gh_files_deleted'),\n",
      " (0.0022775088390187617, 'gh_tests_deleted'),\n",
      " (0.00052514208748365523, 'gh_tests_added')]\n"
     ]
    }
   ],
   "source": [
    "# Build a forest and compute the feature importances\n",
    "forest = ExtraTreesClassifier(n_estimators=1000,\n",
    "                              random_state=0)\n",
    "\n",
    "forest.fit(X, Y)\n",
    "importances = forest.feature_importances_\n",
    "#print importances\n",
    "std = np.std([tree.feature_importances_ for tree in forest.estimators_],\n",
    "             axis=0)\n",
    "indices = np.argsort(importances)[::-1]\n",
    "\n",
    "scores = []\n",
    "names = dropped_features.columns\n",
    "# Print the feature ranking\n",
    "#print 'Names = ', names\n",
    "#print(\"Feature ranking:\")\n",
    "feature_labels = []\n",
    "for f in range(X.shape[1]):\n",
    "    #print(\"%d. feature %d (%f)\" % (f + 1, indices[f], importances[indices[f]]))\n",
    "    scores.append((importances[indices[f]], names[indices[f]]))\n",
    "    feature_labels.append(names[indices[f]])\n",
    "\n",
    "pprint.pprint(sorted(scores, reverse=True))\n",
    "\n"
   ]
  },
  {
   "cell_type": "code",
   "execution_count": 400,
   "metadata": {
    "collapsed": false
   },
   "outputs": [
    {
     "name": "stdout",
     "output_type": "stream",
     "text": [
      "36\n",
      "36\n",
      "36\n"
     ]
    }
   ],
   "source": [
    "print X.shape[1]\n",
    "print len(indices)\n",
    "print len(names)"
   ]
  },
  {
   "cell_type": "code",
   "execution_count": 414,
   "metadata": {
    "collapsed": false
   },
   "outputs": [
    {
     "data": {
      "image/png": "[encoded data removed]",
      "text/plain": [
       "<matplotlib.figure.Figure at 0x11b508b90>"
      ]
     },
     "metadata": {},
     "output_type": "display_data"
    }
   ],
   "source": [
    "# Plot the feature importances of the forest\n",
    "feature_labels[0] = 'comments'\n",
    "plt.rcParams[\"figure.figsize\"] = [15, 15]\n",
    "plt.figure()\n",
    "plt.title(\"Feature importances from Tree-Based Selection\")\n",
    "plt.bar(range(X.shape[1]), \n",
    "         importances[indices],\n",
    "        color=\"g\", align=\"center\")\n",
    "        #yerr=std[indices], align=\"center\")\n",
    "plt.xticks(range(X.shape[1]), feature_labels, rotation=90)\n",
    "plt.xlim([-1, X.shape[1]])\n",
    "plt.show()"
   ]
  },
  {
   "cell_type": "code",
   "execution_count": 359,
   "metadata": {
    "collapsed": false
   },
   "outputs": [
    {
     "name": "stdout",
     "output_type": "stream",
     "text": [
      "[(0.214, 'open_issues_count'),\n",
      " (0.205, 'network_count'),\n",
      " (0.193, 'watchers_count'),\n",
      " (0.176, 'subscribers_count'),\n",
      " (0.068, 'general_comments'),\n",
      " (0.054, 'desc_len'),\n",
      " (0.044, 'additions'),\n",
      " (0.043, 'commits'),\n",
      " (0.035, 'churn'),\n",
      " (0.021, 'title_len'),\n",
      " (0.019, 'changed_files'),\n",
      " (0.015, 'deletions'),\n",
      " (0.008, 'gh_test_lines_per_kloc'),\n",
      " (0.006, 'gh_sloc'),\n",
      " (0.005, 'pull_req_comments'),\n",
      " (0.005, 'gh_test_cases_per_kloc'),\n",
      " (0.005, 'gh_asserts_cases_per_kloc'),\n",
      " (0.004, 'gh_team_size'),\n",
      " (0.004, 'gh_description_complexity'),\n",
      " (-0.0, 'git_num_committers'),\n",
      " (-0.0, 'git_num_commits'),\n",
      " (-0.0, 'gh_src_churn'),\n",
      " (-0.0, 'gh_num_issue_comments'),\n",
      " (0.0, 'gh_files_modified'),\n",
      " (-0.0, 'gh_files_added'),\n",
      " (-0.0, 'gh_doc_files'),\n",
      " (-0.0, 'gh_commits_on_files_touched'),\n",
      " (0.0, 'gh_by_core_team_member'),\n",
      " (-0.001, 'num_commit_comments'),\n",
      " (-0.001, 'gh_tests_deleted'),\n",
      " (-0.001, 'gh_tests_added'),\n",
      " (-0.001, 'gh_test_churn'),\n",
      " (-0.001, 'gh_src_files'),\n",
      " (-0.001, 'gh_other_files'),\n",
      " (-0.001, 'gh_num_pr_comments'),\n",
      " (-0.001, 'gh_files_deleted')]\n"
     ]
    }
   ],
   "source": [
    "rand_for = RandomForestRegressor(n_estimators=50, max_depth=4)\n",
    "scores = []\n",
    "names = dropped_features.columns\n",
    "for i in range(X.shape[1]):\n",
    "    score = cross_val_score(rand_for, X[:, i:i+1], Y, scoring=\"r2\",\n",
    "                              cv=ShuffleSplit(len(X), 3, .3))\n",
    "    scores.append((round(np.mean(score), 3), names[i]))\n",
    "pprint.pprint(sorted(scores, reverse=True))"
   ]
  },
  {
   "cell_type": "markdown",
   "metadata": {},
   "source": [
    "# Univariate Feature Selection"
   ]
  },
  {
   "cell_type": "code",
   "execution_count": 412,
   "metadata": {
    "collapsed": false
   },
   "outputs": [
    {
     "name": "stdout",
     "output_type": "stream",
     "text": [
      "1) churn - 9721908.650009\n",
      "2) additions - 6989824.738701\n",
      "3) gh_sloc - 4975088.599997\n",
      "4) deletions - 2795072.252169\n",
      "5) watchers_count - 1424262.074315\n",
      "6) desc_len - 581175.353609\n",
      "7) network_count - 418963.142957\n",
      "8) changed_files - 301806.253978\n",
      "9) commits - 160693.487392\n",
      "10) open_issues_count - 134188.357613\n",
      "11) subscribers_count - 54135.593005\n",
      "12) gh_test_lines_per_kloc - 12021.406493\n",
      "13) general_comments - 10708.764344\n",
      "14) gh_description_complexity - 7064.366159\n",
      "15) gh_src_churn - 1426.750542\n",
      "16) gh_test_churn - 1074.534246\n",
      "17) gh_commits_on_files_touched - 722.034010\n",
      "18) title_len - 592.278876\n",
      "19) gh_doc_files - 551.847572\n",
      "20) gh_test_cases_per_kloc - 406.256094\n",
      "21) pull_req_comments - 368.630404\n",
      "22) gh_files_modified - 197.755180\n",
      "23) gh_tests_deleted - 94.946529\n",
      "24) gh_asserts_cases_per_kloc - 47.297462\n",
      "25) gh_num_pr_comments - 36.206189\n",
      "26) git_num_commits - 27.271028\n",
      "27) gh_team_size - 26.378798\n",
      "28) gh_tests_added - 14.348207\n",
      "29) gh_src_files - 11.359242\n",
      "30) gh_files_added - 4.970554\n",
      "31) gh_other_files - 4.896403\n",
      "32) num_commit_comments - 3.664546\n"
     ]
    }
   ],
   "source": [
    "ch2 = SelectKBest(chi2,\"all\")\n",
    "X_train = ch2.fit_transform(X, Y)\n",
    "top_ranked_features = sorted(enumerate(ch2.scores_),key=lambda x:x[1], reverse=True)[:32]\n",
    "for index,(position,score) in enumerate(top_ranked_features):\n",
    "    print '%d) %s - %f' % (index+1, names[position], score)\n",
    "#top_ranked_features"
   ]
  },
  {
   "cell_type": "markdown",
   "metadata": {},
   "source": [
    "## Recursive Feature Elimination"
   ]
  },
  {
   "cell_type": "code",
   "execution_count": 413,
   "metadata": {
    "collapsed": false
   },
   "outputs": [
    {
     "name": "stdout",
     "output_type": "stream",
     "text": [
      "[('gh_team_size', 1),\n",
      " ('commits', 1),\n",
      " ('git_num_commits', 1),\n",
      " ('general_comments', 1),\n",
      " ('num_commit_comments', 1),\n",
      " ('pull_req_comments', 1),\n",
      " ('gh_tests_added', 1),\n",
      " ('gh_doc_files', 1),\n",
      " ('gh_by_core_team_member', 1),\n",
      " ('title_len', 1),\n",
      " ('subscribers_count', 2),\n",
      " ('open_issues_count', 3),\n",
      " ('gh_num_pr_comments', 4),\n",
      " ('gh_description_complexity', 5),\n",
      " ('changed_files', 6),\n",
      " ('gh_other_files', 7),\n",
      " ('network_count', 8),\n",
      " ('git_num_committers', 9),\n",
      " ('watchers_count', 10),\n",
      " ('gh_test_cases_per_kloc', 11),\n",
      " ('gh_asserts_cases_per_kloc', 12),\n",
      " ('gh_num_issue_comments', 13),\n",
      " ('gh_files_deleted', 14),\n",
      " ('gh_files_added', 15),\n",
      " ('gh_tests_deleted', 16),\n",
      " ('deletions', 17),\n",
      " ('desc_len', 18),\n",
      " ('additions', 19),\n",
      " ('churn', 20),\n",
      " ('gh_test_churn', 21),\n",
      " ('gh_files_modified', 22),\n",
      " ('gh_commits_on_files_touched', 23),\n",
      " ('gh_test_lines_per_kloc', 24),\n",
      " ('gh_src_files', 25),\n",
      " ('gh_src_churn', 26),\n",
      " ('gh_sloc', 27)]\n"
     ]
    }
   ],
   "source": [
    "# create a base classifier used to evaluate a subset of attributes\n",
    "model = LogisticRegression()\n",
    "top_n_features = 10\n",
    "# create the RFE model and select top 10 attributes\n",
    "rfe = RFE(model, top_n_features)\n",
    "rfe = rfe.fit(X, Y)\n",
    "# summarize the selection of the attributes\n",
    "#print(rfe.support_)\n",
    "#print(rfe.ranking_)\n",
    "\n",
    "scores = []\n",
    "for feature_name,rank in zip(names, rfe.ranking_):\n",
    "    scores.append((feature_name, rank))\n",
    "\n",
    "pprint.pprint(sorted(scores, key=lambda x:x[1]))\n"
   ]
  },
  {
   "cell_type": "markdown",
   "metadata": {},
   "source": [
    "# Part IV: Modelling Phase"
   ]
  },
  {
   "cell_type": "code",
   "execution_count": 364,
   "metadata": {
    "collapsed": false
   },
   "outputs": [
    {
     "data": {
      "text/plain": [
       "(36665, 14)"
      ]
     },
     "execution_count": 364,
     "metadata": {},
     "output_type": "execute_result"
    }
   ],
   "source": [
    "# Take only the representative features using previous phase\n",
    "features = [\n",
    "'general_comments',\n",
    "'desc_len',\n",
    "'commits',\n",
    "'additions',\n",
    "'churn',\n",
    "'title_len',\n",
    "'changed_files',\n",
    "'deletions',\n",
    "'gh_test_lines_per_kloc',\n",
    "'gh_sloc',\n",
    "'open_issues_count',\n",
    "'network_count',\n",
    "'watchers_count',\n",
    "'subscribers_count'\n",
    "]\n",
    "# 'gh_asserts_cases_per_kloc',\n",
    "# 'pull_req_comments',\n",
    "# 'gh_test_cases_per_kloc',\n",
    "# 'gh_description_complexity',\n",
    "# 'gh_team_size']\n",
    "X_new = dropped_features[features].as_matrix().astype(np.float)\n",
    "X_new.shape\n"
   ]
  },
  {
   "cell_type": "code",
   "execution_count": 365,
   "metadata": {
    "collapsed": false
   },
   "outputs": [
    {
     "name": "stdout",
     "output_type": "stream",
     "text": [
      "(29332, 14)\n",
      "(29332,)\n",
      "(7333, 14)\n",
      "(7333,)\n"
     ]
    }
   ],
   "source": [
    "X_train, X_test, y_train, y_test = train_test_split(X_new, Y, test_size = 0.20, random_state = 7)\n",
    "print X_train.shape\n",
    "print y_train.shape\n",
    "\n",
    "print X_test.shape\n",
    "print y_test.shape"
   ]
  },
  {
   "cell_type": "code",
   "execution_count": 366,
   "metadata": {
    "collapsed": true
   },
   "outputs": [],
   "source": [
    "from sklearn import metrics\n",
    "from sklearn.linear_model import LogisticRegression\n",
    "from sklearn.neighbors import KNeighborsClassifier\n",
    "from sklearn.tree import DecisionTreeClassifier\n",
    "from sklearn.metrics import accuracy_score\n",
    "from sklearn.cross_validation import train_test_split\n",
    "from sklearn.cross_validation import cross_val_predict\n",
    "from sklearn.learning_curve import validation_curve\n",
    "from sklearn.ensemble import AdaBoostClassifier\n",
    "from sklearn.ensemble import RandomForestClassifier"
   ]
  },
  {
   "cell_type": "markdown",
   "metadata": {},
   "source": [
    "### Logistic Regression"
   ]
  },
  {
   "cell_type": "code",
   "execution_count": 367,
   "metadata": {
    "collapsed": false
   },
   "outputs": [
    {
     "name": "stdout",
     "output_type": "stream",
     "text": [
      "LogisticRegression(C=1.0, class_weight=None, dual=False, fit_intercept=True,\n",
      "          intercept_scaling=1, max_iter=100, multi_class='ovr', n_jobs=1,\n",
      "          penalty='l2', random_state=None, solver='liblinear', tol=0.0001,\n",
      "          verbose=0, warm_start=False)\n",
      "             precision    recall  f1-score   support\n",
      "\n",
      "          0       0.56      0.17      0.26      2195\n",
      "          1       0.73      0.94      0.82      5138\n",
      "\n",
      "avg / total       0.68      0.71      0.65      7333\n",
      "\n",
      "[[ 375 1820]\n",
      " [ 299 4839]]\n"
     ]
    },
    {
     "data": {
      "text/plain": [
       "0.7110323196508932"
      ]
     },
     "execution_count": 367,
     "metadata": {},
     "output_type": "execute_result"
    }
   ],
   "source": [
    "# fit a logistic regression model to the data\n",
    "model = LogisticRegression()\n",
    "model.fit(X_train, y_train)\n",
    "print(model)\n",
    "\n",
    "# make predictions\n",
    "expected = Y\n",
    "predicted = model.predict(X_test)\n",
    "\n",
    "# summarize the fit of the model\n",
    "print(metrics.classification_report(y_test, predicted))\n",
    "print(metrics.confusion_matrix(y_test, predicted))\n",
    "\n",
    "accuracy_score(y_test, predicted)"
   ]
  },
  {
   "cell_type": "markdown",
   "metadata": {},
   "source": [
    "### k-Nearest Neighbor"
   ]
  },
  {
   "cell_type": "code",
   "execution_count": 368,
   "metadata": {
    "collapsed": false
   },
   "outputs": [
    {
     "name": "stdout",
     "output_type": "stream",
     "text": [
      "KNeighborsClassifier(algorithm='auto', leaf_size=30, metric='minkowski',\n",
      "           metric_params=None, n_jobs=1, n_neighbors=3, p=2,\n",
      "           weights='uniform')\n",
      "             precision    recall  f1-score   support\n",
      "\n",
      "          0       0.70      0.57      0.63      2195\n",
      "          1       0.83      0.89      0.86      5138\n",
      "\n",
      "avg / total       0.79      0.80      0.79      7333\n",
      "\n",
      "[[1247  948]\n",
      " [ 543 4595]]\n"
     ]
    },
    {
     "data": {
      "text/plain": [
       "0.79667257602618302"
      ]
     },
     "execution_count": 368,
     "metadata": {},
     "output_type": "execute_result"
    }
   ],
   "source": [
    "# fit a logistic regression model to the data\n",
    "model = KNeighborsClassifier()\n",
    "model.fit(X_train, y_train)\n",
    "print(model)\n",
    "\n",
    "# make predictions\n",
    "expected = Y\n",
    "predicted = model.predict(X_test)\n",
    "\n",
    "# summarize the fit of the model\n",
    "print(metrics.classification_report(y_test, predicted))\n",
    "print(metrics.confusion_matrix(y_test, predicted))\n",
    "\n",
    "accuracy_score(y_test, predicted)"
   ]
  },
  {
   "cell_type": "markdown",
   "metadata": {},
   "source": [
    "### Decision Trees"
   ]
  },
  {
   "cell_type": "code",
   "execution_count": 369,
   "metadata": {
    "collapsed": false
   },
   "outputs": [
    {
     "name": "stdout",
     "output_type": "stream",
     "text": [
      "DecisionTreeClassifier(class_weight=None, criterion='entropy', max_depth=40,\n",
      "            max_features=None, max_leaf_nodes=None, min_samples_leaf=1,\n",
      "            min_samples_split=2, min_weight_fraction_leaf=0.0,\n",
      "            presort=False, random_state=None, splitter='best')\n",
      "             precision    recall  f1-score   support\n",
      "\n",
      "          0       0.98      0.97      0.98      2195\n",
      "          1       0.99      0.99      0.99      5138\n",
      "\n",
      "avg / total       0.99      0.99      0.99      7333\n",
      "\n",
      "[[2132   63]\n",
      " [  46 5092]]\n"
     ]
    },
    {
     "data": {
      "text/plain": [
       "0.98513568798581752"
      ]
     },
     "execution_count": 369,
     "metadata": {},
     "output_type": "execute_result"
    }
   ],
   "source": [
    "# fit a logistic regression model to the data\n",
    "model = DecisionTreeClassifier(max_depth=40,criterion=\"entropy\", min_samples_split=2)\n",
    "model.fit(X_train, y_train)\n",
    "print(model)\n",
    "\n",
    "# make predictions\n",
    "expected = Y\n",
    "predicted = model.predict(X_test)\n",
    "\n",
    "# summarize the fit of the model\n",
    "print(metrics.classification_report(y_test, predicted))\n",
    "print(metrics.confusion_matrix(y_test, predicted))\n",
    "\n",
    "accuracy_score(y_test, predicted)"
   ]
  },
  {
   "cell_type": "markdown",
   "metadata": {},
   "source": [
    "### Random Forests"
   ]
  },
  {
   "cell_type": "code",
   "execution_count": 370,
   "metadata": {
    "collapsed": false
   },
   "outputs": [
    {
     "name": "stdout",
     "output_type": "stream",
     "text": [
      "             precision    recall  f1-score   support\n",
      "\n",
      "          0       0.98      0.97      0.98      2195\n",
      "          1       0.99      0.99      0.99      5138\n",
      "\n",
      "avg / total       0.99      0.99      0.99      7333\n",
      "\n",
      "[[2136   59]\n",
      " [  38 5100]]\n"
     ]
    },
    {
     "data": {
      "text/plain": [
       "0.9867721260057275"
      ]
     },
     "execution_count": 370,
     "metadata": {},
     "output_type": "execute_result"
    }
   ],
   "source": [
    "clf_random_forest = RandomForestClassifier()\n",
    "clf_random_forest.fit(X_train, y_train)\n",
    "\n",
    "# make predictions\n",
    "expected = Y\n",
    "predicted = clf_random_forest.predict(X_test)\n",
    "\n",
    "# summarize the fit of the model\n",
    "print(metrics.classification_report(y_test, predicted))\n",
    "print(metrics.confusion_matrix(y_test, predicted))\n",
    "\n",
    "accuracy_score(y_test, predicted)"
   ]
  },
  {
   "cell_type": "markdown",
   "metadata": {},
   "source": [
    "### Adaboost"
   ]
  },
  {
   "cell_type": "code",
   "execution_count": 371,
   "metadata": {
    "collapsed": false
   },
   "outputs": [
    {
     "name": "stdout",
     "output_type": "stream",
     "text": [
      "             precision    recall  f1-score   support\n",
      "\n",
      "          0       0.77      0.40      0.52      2195\n",
      "          1       0.79      0.95      0.86      5138\n",
      "\n",
      "avg / total       0.78      0.78      0.76      7333\n",
      "\n",
      "[[ 875 1320]\n",
      " [ 264 4874]]\n"
     ]
    },
    {
     "data": {
      "text/plain": [
       "0.78399018137188059"
      ]
     },
     "execution_count": 371,
     "metadata": {},
     "output_type": "execute_result"
    }
   ],
   "source": [
    "clf_random_forest = AdaBoostClassifier(DecisionTreeClassifier(max_depth=1),\n",
    "                             algorithm=\"SAMME\",\n",
    "                             n_estimators=600)\n",
    "clf_random_forest.fit(X_train, y_train)\n",
    "\n",
    "# make predictions\n",
    "expected = Y\n",
    "predicted = clf_random_forest.predict(X_test)\n",
    "\n",
    "# summarize the fit of the model\n",
    "print(metrics.classification_report(y_test, predicted))\n",
    "print(metrics.confusion_matrix(y_test, predicted))\n",
    "\n",
    "accuracy_score(y_test, predicted)"
   ]
  },
  {
   "cell_type": "code",
   "execution_count": 372,
   "metadata": {
    "collapsed": true
   },
   "outputs": [],
   "source": [
    "from sklearn import svm"
   ]
  },
  {
   "cell_type": "markdown",
   "metadata": {},
   "source": [
    "### SVM "
   ]
  },
  {
   "cell_type": "code",
   "execution_count": 373,
   "metadata": {
    "collapsed": false
   },
   "outputs": [
    {
     "name": "stdout",
     "output_type": "stream",
     "text": [
      "SVC(C=1.0, cache_size=200, class_weight=None, coef0=0.0,\n",
      "  decision_function_shape=None, degree=3, gamma='auto', kernel='rbf',\n",
      "  max_iter=-1, probability=False, random_state=None, shrinking=True,\n",
      "  tol=0.001, verbose=False)\n",
      "             precision    recall  f1-score   support\n",
      "\n",
      "          0       1.00      0.25      0.40      2195\n",
      "          1       0.76      1.00      0.86      5138\n",
      "\n",
      "avg / total       0.83      0.77      0.72      7333\n",
      "\n",
      "[[ 542 1653]\n",
      " [   1 5137]]\n"
     ]
    },
    {
     "data": {
      "text/plain": [
       "0.77444429292240557"
      ]
     },
     "execution_count": 373,
     "metadata": {},
     "output_type": "execute_result"
    }
   ],
   "source": [
    "# fit a logistic regression model to the data\n",
    "model = svm.SVC()\n",
    "model.fit(X_train, y_train)\n",
    "print(model)\n",
    "\n",
    "# make predictions\n",
    "expected = Y\n",
    "predicted = model.predict(X_test)\n",
    "\n",
    "# summarize the fit of the model\n",
    "print(metrics.classification_report(y_test, predicted))\n",
    "print(metrics.confusion_matrix(y_test, predicted))\n",
    "\n",
    "accuracy_score(y_test, predicted)"
   ]
  },
  {
   "cell_type": "code",
   "execution_count": 328,
   "metadata": {
    "collapsed": false
   },
   "outputs": [
    {
     "data": {
      "image/png": "[encoded data removed]",
      "text/plain": [
       "<matplotlib.figure.Figure at 0x187e2d310>"
      ]
     },
     "metadata": {},
     "output_type": "display_data"
    }
   ],
   "source": [
    "plt.rcParams[\"figure.figsize\"] = [12, 9]\n",
    "dropped_features[features].hist()\n",
    "plt.show()"
   ]
  },
  {
   "cell_type": "code",
   "execution_count": 329,
   "metadata": {
    "collapsed": false
   },
   "outputs": [
    {
     "data": {
      "text/plain": [
       "array([[<matplotlib.axes._subplots.AxesSubplot object at 0x1890cae90>,\n",
       "        <matplotlib.axes._subplots.AxesSubplot object at 0x188b23c90>,\n",
       "        <matplotlib.axes._subplots.AxesSubplot object at 0x188b5dcd0>,\n",
       "        <matplotlib.axes._subplots.AxesSubplot object at 0x188c195d0>,\n",
       "        <matplotlib.axes._subplots.AxesSubplot object at 0x188c98710>,\n",
       "        <matplotlib.axes._subplots.AxesSubplot object at 0x188c3a210>,\n",
       "        <matplotlib.axes._subplots.AxesSubplot object at 0x189665890>,\n",
       "        <matplotlib.axes._subplots.AxesSubplot object at 0x1896e7b50>,\n",
       "        <matplotlib.axes._subplots.AxesSubplot object at 0x1897543d0>],\n",
       "       [<matplotlib.axes._subplots.AxesSubplot object at 0x1897d7450>,\n",
       "        <matplotlib.axes._subplots.AxesSubplot object at 0x18983b210>,\n",
       "        <matplotlib.axes._subplots.AxesSubplot object at 0x1898ba790>,\n",
       "        <matplotlib.axes._subplots.AxesSubplot object at 0x18993c710>,\n",
       "        <matplotlib.axes._subplots.AxesSubplot object at 0x1899a94d0>,\n",
       "        <matplotlib.axes._subplots.AxesSubplot object at 0x189a29950>,\n",
       "        <matplotlib.axes._subplots.AxesSubplot object at 0x189a8e750>,\n",
       "        <matplotlib.axes._subplots.AxesSubplot object at 0x189b0dcd0>,\n",
       "        <matplotlib.axes._subplots.AxesSubplot object at 0x189ab9fd0>],\n",
       "       [<matplotlib.axes._subplots.AxesSubplot object at 0x189bfca10>,\n",
       "        <matplotlib.axes._subplots.AxesSubplot object at 0x189c7ce90>,\n",
       "        <matplotlib.axes._subplots.AxesSubplot object at 0x189cec550>,\n",
       "        <matplotlib.axes._subplots.AxesSubplot object at 0x189d6d5d0>,\n",
       "        <matplotlib.axes._subplots.AxesSubplot object at 0x189dd2390>,\n",
       "        <matplotlib.axes._subplots.AxesSubplot object at 0x189e50910>,\n",
       "        <matplotlib.axes._subplots.AxesSubplot object at 0x189ed2890>,\n",
       "        <matplotlib.axes._subplots.AxesSubplot object at 0x189f3e650>,\n",
       "        <matplotlib.axes._subplots.AxesSubplot object at 0x189fc1ad0>],\n",
       "       [<matplotlib.axes._subplots.AxesSubplot object at 0x18a0238d0>,\n",
       "        <matplotlib.axes._subplots.AxesSubplot object at 0x18a0a4e50>,\n",
       "        <matplotlib.axes._subplots.AxesSubplot object at 0x18a051f90>,\n",
       "        <matplotlib.axes._subplots.AxesSubplot object at 0x18a194b90>,\n",
       "        <matplotlib.axes._subplots.AxesSubplot object at 0x18a215e50>,\n",
       "        <matplotlib.axes._subplots.AxesSubplot object at 0x18a2836d0>,\n",
       "        <matplotlib.axes._subplots.AxesSubplot object at 0x18a307650>,\n",
       "        <matplotlib.axes._subplots.AxesSubplot object at 0x18a36a510>,\n",
       "        <matplotlib.axes._subplots.AxesSubplot object at 0x18a3ec590>],\n",
       "       [<matplotlib.axes._subplots.AxesSubplot object at 0x18a424750>,\n",
       "        <matplotlib.axes._subplots.AxesSubplot object at 0x18a4dc610>,\n",
       "        <matplotlib.axes._subplots.AxesSubplot object at 0x18a55d590>,\n",
       "        <matplotlib.axes._subplots.AxesSubplot object at 0x18a5c27d0>,\n",
       "        <matplotlib.axes._subplots.AxesSubplot object at 0x18a642750>,\n",
       "        <matplotlib.axes._subplots.AxesSubplot object at 0x18a6ab550>,\n",
       "        <matplotlib.axes._subplots.AxesSubplot object at 0x18a732750>,\n",
       "        <matplotlib.axes._subplots.AxesSubplot object at 0x18a7b56d0>,\n",
       "        <matplotlib.axes._subplots.AxesSubplot object at 0x18a823250>],\n",
       "       [<matplotlib.axes._subplots.AxesSubplot object at 0x18a8a71d0>,\n",
       "        <matplotlib.axes._subplots.AxesSubplot object at 0x18a90b310>,\n",
       "        <matplotlib.axes._subplots.AxesSubplot object at 0x18a98d390>,\n",
       "        <matplotlib.axes._subplots.AxesSubplot object at 0x18a9c5550>,\n",
       "        <matplotlib.axes._subplots.AxesSubplot object at 0x18aa7e410>,\n",
       "        <matplotlib.axes._subplots.AxesSubplot object at 0x18ab01390>,\n",
       "        <matplotlib.axes._subplots.AxesSubplot object at 0x18ab645d0>,\n",
       "        <matplotlib.axes._subplots.AxesSubplot object at 0x18abe7550>,\n",
       "        <matplotlib.axes._subplots.AxesSubplot object at 0x18ac4c350>],\n",
       "       [<matplotlib.axes._subplots.AxesSubplot object at 0x18acd5550>,\n",
       "        <matplotlib.axes._subplots.AxesSubplot object at 0x18ad584d0>,\n",
       "        <matplotlib.axes._subplots.AxesSubplot object at 0x18adc7050>,\n",
       "        <matplotlib.axes._subplots.AxesSubplot object at 0x18ae3cf90>,\n",
       "        <matplotlib.axes._subplots.AxesSubplot object at 0x18aeae110>,\n",
       "        <matplotlib.axes._subplots.AxesSubplot object at 0x18af30190>,\n",
       "        <matplotlib.axes._subplots.AxesSubplot object at 0x18af67350>,\n",
       "        <matplotlib.axes._subplots.AxesSubplot object at 0x18b01f210>,\n",
       "        <matplotlib.axes._subplots.AxesSubplot object at 0x18b0a3190>],\n",
       "       [<matplotlib.axes._subplots.AxesSubplot object at 0x18b1073d0>,\n",
       "        <matplotlib.axes._subplots.AxesSubplot object at 0x18b188350>,\n",
       "        <matplotlib.axes._subplots.AxesSubplot object at 0x18b1f0150>,\n",
       "        <matplotlib.axes._subplots.AxesSubplot object at 0x189a63890>,\n",
       "        <matplotlib.axes._subplots.AxesSubplot object at 0x1893a8d10>,\n",
       "        <matplotlib.axes._subplots.AxesSubplot object at 0x1892e0a90>,\n",
       "        <matplotlib.axes._subplots.AxesSubplot object at 0x1890f7610>,\n",
       "        <matplotlib.axes._subplots.AxesSubplot object at 0x1892ad550>,\n",
       "        <matplotlib.axes._subplots.AxesSubplot object at 0x1894213d0>],\n",
       "       [<matplotlib.axes._subplots.AxesSubplot object at 0x188f09650>,\n",
       "        <matplotlib.axes._subplots.AxesSubplot object at 0x18927c350>,\n",
       "        <matplotlib.axes._subplots.AxesSubplot object at 0x18930e090>,\n",
       "        <matplotlib.axes._subplots.AxesSubplot object at 0x18900ca50>,\n",
       "        <matplotlib.axes._subplots.AxesSubplot object at 0x1877ee990>,\n",
       "        <matplotlib.axes._subplots.AxesSubplot object at 0x187b15dd0>,\n",
       "        <matplotlib.axes._subplots.AxesSubplot object at 0x160f33b50>,\n",
       "        <matplotlib.axes._subplots.AxesSubplot object at 0x146a02390>,\n",
       "        <matplotlib.axes._subplots.AxesSubplot object at 0x145d33f90>]], dtype=object)"
      ]
     },
     "execution_count": 329,
     "metadata": {},
     "output_type": "execute_result"
    },
    {
     "data": {
      "image/png": "[encoded data removed]",
      "text/plain": [
       "<matplotlib.figure.Figure at 0x1890b5450>"
      ]
     },
     "metadata": {},
     "output_type": "display_data"
    }
   ],
   "source": [
    "from pandas.tools.plotting import scatter_matrix\n",
    "scatter_matrix(dropped_features[features], alpha=0.2, figsize=(6, 6), diagonal='kde')"
   ]
  },
  {
   "cell_type": "code",
   "execution_count": null,
   "metadata": {
    "collapsed": true
   },
   "outputs": [],
   "source": []
  },
  {
   "cell_type": "code",
   "execution_count": 336,
   "metadata": {
    "collapsed": false
   },
   "outputs": [
    {
     "data": {
      "text/html": [
       "<div>\n",
       "<table border=\"1\" class=\"dataframe\">\n",
       "  <thead>\n",
       "    <tr style=\"text-align: right;\">\n",
       "      <th></th>\n",
       "      <th>title_len</th>\n",
       "      <th>desc_len</th>\n",
       "    </tr>\n",
       "  </thead>\n",
       "  <tbody>\n",
       "    <tr>\n",
       "      <th>count</th>\n",
       "      <td>11046.000000</td>\n",
       "      <td>11046.000000</td>\n",
       "    </tr>\n",
       "    <tr>\n",
       "      <th>mean</th>\n",
       "      <td>42.998189</td>\n",
       "      <td>385.318124</td>\n",
       "    </tr>\n",
       "    <tr>\n",
       "      <th>std</th>\n",
       "      <td>19.877707</td>\n",
       "      <td>821.803375</td>\n",
       "    </tr>\n",
       "    <tr>\n",
       "      <th>min</th>\n",
       "      <td>2.000000</td>\n",
       "      <td>0.000000</td>\n",
       "    </tr>\n",
       "    <tr>\n",
       "      <th>25%</th>\n",
       "      <td>29.000000</td>\n",
       "      <td>52.000000</td>\n",
       "    </tr>\n",
       "    <tr>\n",
       "      <th>50%</th>\n",
       "      <td>41.000000</td>\n",
       "      <td>156.500000</td>\n",
       "    </tr>\n",
       "    <tr>\n",
       "      <th>75%</th>\n",
       "      <td>55.000000</td>\n",
       "      <td>407.000000</td>\n",
       "    </tr>\n",
       "    <tr>\n",
       "      <th>max</th>\n",
       "      <td>168.000000</td>\n",
       "      <td>12687.000000</td>\n",
       "    </tr>\n",
       "  </tbody>\n",
       "</table>\n",
       "</div>"
      ],
      "text/plain": [
       "          title_len      desc_len\n",
       "count  11046.000000  11046.000000\n",
       "mean      42.998189    385.318124\n",
       "std       19.877707    821.803375\n",
       "min        2.000000      0.000000\n",
       "25%       29.000000     52.000000\n",
       "50%       41.000000    156.500000\n",
       "75%       55.000000    407.000000\n",
       "max      168.000000  12687.000000"
      ]
     },
     "execution_count": 336,
     "metadata": {},
     "output_type": "execute_result"
    }
   ],
   "source": [
    "pull_req_data[pull_req_data['merged'] == False][[\"title_len\", \"desc_len\"]].describe()"
   ]
  },
  {
   "cell_type": "code",
   "execution_count": 337,
   "metadata": {
    "collapsed": false
   },
   "outputs": [
    {
     "data": {
      "text/html": [
       "<div>\n",
       "<table border=\"1\" class=\"dataframe\">\n",
       "  <thead>\n",
       "    <tr style=\"text-align: right;\">\n",
       "      <th></th>\n",
       "      <th>title_len</th>\n",
       "      <th>desc_len</th>\n",
       "    </tr>\n",
       "  </thead>\n",
       "  <tbody>\n",
       "    <tr>\n",
       "      <th>count</th>\n",
       "      <td>25619.000000</td>\n",
       "      <td>25619.000000</td>\n",
       "    </tr>\n",
       "    <tr>\n",
       "      <th>mean</th>\n",
       "      <td>41.208322</td>\n",
       "      <td>239.270034</td>\n",
       "    </tr>\n",
       "    <tr>\n",
       "      <th>std</th>\n",
       "      <td>17.805602</td>\n",
       "      <td>514.741231</td>\n",
       "    </tr>\n",
       "    <tr>\n",
       "      <th>min</th>\n",
       "      <td>3.000000</td>\n",
       "      <td>0.000000</td>\n",
       "    </tr>\n",
       "    <tr>\n",
       "      <th>25%</th>\n",
       "      <td>27.000000</td>\n",
       "      <td>10.000000</td>\n",
       "    </tr>\n",
       "    <tr>\n",
       "      <th>50%</th>\n",
       "      <td>40.000000</td>\n",
       "      <td>84.000000</td>\n",
       "    </tr>\n",
       "    <tr>\n",
       "      <th>75%</th>\n",
       "      <td>54.000000</td>\n",
       "      <td>241.000000</td>\n",
       "    </tr>\n",
       "    <tr>\n",
       "      <th>max</th>\n",
       "      <td>180.000000</td>\n",
       "      <td>11324.000000</td>\n",
       "    </tr>\n",
       "  </tbody>\n",
       "</table>\n",
       "</div>"
      ],
      "text/plain": [
       "          title_len      desc_len\n",
       "count  25619.000000  25619.000000\n",
       "mean      41.208322    239.270034\n",
       "std       17.805602    514.741231\n",
       "min        3.000000      0.000000\n",
       "25%       27.000000     10.000000\n",
       "50%       40.000000     84.000000\n",
       "75%       54.000000    241.000000\n",
       "max      180.000000  11324.000000"
      ]
     },
     "execution_count": 337,
     "metadata": {},
     "output_type": "execute_result"
    }
   ],
   "source": [
    "pull_req_data[pull_req_data['merged'] == True][[\"title_len\", \"desc_len\"]].describe()"
   ]
  },
  {
   "cell_type": "code",
   "execution_count": 341,
   "metadata": {
    "collapsed": false
   },
   "outputs": [
    {
     "data": {
      "text/html": [
       "<div>\n",
       "<table border=\"1\" class=\"dataframe\">\n",
       "  <thead>\n",
       "    <tr style=\"text-align: right;\">\n",
       "      <th></th>\n",
       "      <th>commits</th>\n",
       "      <th>additions</th>\n",
       "      <th>deletions</th>\n",
       "    </tr>\n",
       "  </thead>\n",
       "  <tbody>\n",
       "    <tr>\n",
       "      <th>count</th>\n",
       "      <td>11046.000000</td>\n",
       "      <td>11046.000000</td>\n",
       "      <td>11046.000000</td>\n",
       "    </tr>\n",
       "    <tr>\n",
       "      <th>mean</th>\n",
       "      <td>13.827268</td>\n",
       "      <td>741.944324</td>\n",
       "      <td>383.515390</td>\n",
       "    </tr>\n",
       "    <tr>\n",
       "      <th>std</th>\n",
       "      <td>87.508245</td>\n",
       "      <td>3679.574488</td>\n",
       "      <td>3219.612297</td>\n",
       "    </tr>\n",
       "    <tr>\n",
       "      <th>min</th>\n",
       "      <td>0.000000</td>\n",
       "      <td>0.000000</td>\n",
       "      <td>0.000000</td>\n",
       "    </tr>\n",
       "    <tr>\n",
       "      <th>25%</th>\n",
       "      <td>1.000000</td>\n",
       "      <td>5.000000</td>\n",
       "      <td>1.000000</td>\n",
       "    </tr>\n",
       "    <tr>\n",
       "      <th>50%</th>\n",
       "      <td>2.000000</td>\n",
       "      <td>29.000000</td>\n",
       "      <td>3.000000</td>\n",
       "    </tr>\n",
       "    <tr>\n",
       "      <th>75%</th>\n",
       "      <td>3.000000</td>\n",
       "      <td>128.000000</td>\n",
       "      <td>20.000000</td>\n",
       "    </tr>\n",
       "    <tr>\n",
       "      <th>max</th>\n",
       "      <td>1887.000000</td>\n",
       "      <td>116015.000000</td>\n",
       "      <td>43469.000000</td>\n",
       "    </tr>\n",
       "  </tbody>\n",
       "</table>\n",
       "</div>"
      ],
      "text/plain": [
       "            commits      additions     deletions\n",
       "count  11046.000000   11046.000000  11046.000000\n",
       "mean      13.827268     741.944324    383.515390\n",
       "std       87.508245    3679.574488   3219.612297\n",
       "min        0.000000       0.000000      0.000000\n",
       "25%        1.000000       5.000000      1.000000\n",
       "50%        2.000000      29.000000      3.000000\n",
       "75%        3.000000     128.000000     20.000000\n",
       "max     1887.000000  116015.000000  43469.000000"
      ]
     },
     "execution_count": 341,
     "metadata": {},
     "output_type": "execute_result"
    }
   ],
   "source": [
    "pull_req_data[pull_req_data['merged'] == False][[\"commits\", \"additions\", \"deletions\"]].describe()"
   ]
  },
  {
   "cell_type": "code",
   "execution_count": 340,
   "metadata": {
    "collapsed": false
   },
   "outputs": [
    {
     "data": {
      "text/html": [
       "<div>\n",
       "<table border=\"1\" class=\"dataframe\">\n",
       "  <thead>\n",
       "    <tr style=\"text-align: right;\">\n",
       "      <th></th>\n",
       "      <th>commits</th>\n",
       "      <th>additions</th>\n",
       "      <th>deletions</th>\n",
       "    </tr>\n",
       "  </thead>\n",
       "  <tbody>\n",
       "    <tr>\n",
       "      <th>count</th>\n",
       "      <td>25619.000000</td>\n",
       "      <td>25619.000000</td>\n",
       "      <td>25619.000000</td>\n",
       "    </tr>\n",
       "    <tr>\n",
       "      <th>mean</th>\n",
       "      <td>2.640501</td>\n",
       "      <td>179.686131</td>\n",
       "      <td>116.469534</td>\n",
       "    </tr>\n",
       "    <tr>\n",
       "      <th>std</th>\n",
       "      <td>5.515381</td>\n",
       "      <td>799.444407</td>\n",
       "      <td>906.949928</td>\n",
       "    </tr>\n",
       "    <tr>\n",
       "      <th>min</th>\n",
       "      <td>1.000000</td>\n",
       "      <td>0.000000</td>\n",
       "      <td>0.000000</td>\n",
       "    </tr>\n",
       "    <tr>\n",
       "      <th>25%</th>\n",
       "      <td>1.000000</td>\n",
       "      <td>3.000000</td>\n",
       "      <td>1.000000</td>\n",
       "    </tr>\n",
       "    <tr>\n",
       "      <th>50%</th>\n",
       "      <td>1.000000</td>\n",
       "      <td>17.000000</td>\n",
       "      <td>4.000000</td>\n",
       "    </tr>\n",
       "    <tr>\n",
       "      <th>75%</th>\n",
       "      <td>2.000000</td>\n",
       "      <td>79.000000</td>\n",
       "      <td>22.000000</td>\n",
       "    </tr>\n",
       "    <tr>\n",
       "      <th>max</th>\n",
       "      <td>158.000000</td>\n",
       "      <td>28285.000000</td>\n",
       "      <td>29888.000000</td>\n",
       "    </tr>\n",
       "  </tbody>\n",
       "</table>\n",
       "</div>"
      ],
      "text/plain": [
       "            commits     additions     deletions\n",
       "count  25619.000000  25619.000000  25619.000000\n",
       "mean       2.640501    179.686131    116.469534\n",
       "std        5.515381    799.444407    906.949928\n",
       "min        1.000000      0.000000      0.000000\n",
       "25%        1.000000      3.000000      1.000000\n",
       "50%        1.000000     17.000000      4.000000\n",
       "75%        2.000000     79.000000     22.000000\n",
       "max      158.000000  28285.000000  29888.000000"
      ]
     },
     "execution_count": 340,
     "metadata": {},
     "output_type": "execute_result"
    }
   ],
   "source": [
    "pull_req_data[pull_req_data['merged'] == True][[\"commits\", \"additions\", \"deletions\"]].describe()"
   ]
  },
  {
   "cell_type": "code",
   "execution_count": null,
   "metadata": {
    "collapsed": true
   },
   "outputs": [],
   "source": []
  }
 ],
 "metadata": {
  "kernelspec": {
   "display_name": "Python 2",
   "language": "python",
   "name": "python2"
  },
  "language_info": {
   "codemirror_mode": {
    "name": "ipython",
    "version": 2
   },
   "file_extension": ".py",
   "mimetype": "text/x-python",
   "name": "python",
   "nbconvert_exporter": "python",
   "pygments_lexer": "ipython2",
   "version": "2.7.11"
  }
 },
 "nbformat": 4,
 "nbformat_minor": 0
}
